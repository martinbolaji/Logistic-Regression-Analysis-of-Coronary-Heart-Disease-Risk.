{
  "cells": [
    {
      "cell_type": "code",
      "execution_count": 2,
      "metadata": {
        "id": "1Vf9wutEKHAE"
      },
      "outputs": [],
      "source": [
        "import pandas as pd\n",
        "import numpy as np\n",
        "import seaborn as sns\n",
        "import matplotlib.pyplot as plt\n",
        "import math"
      ]
    },
    {
      "cell_type": "code",
      "execution_count": 3,
      "metadata": {
        "id": "eqZgOu1pKVzU"
      },
      "outputs": [],
      "source": [
        "#standardize x_variables to a variance and std of 1 for all indepedent variables\n",
        "def standardize(data):\n",
        "  data = pd.DataFrame(data)\n",
        "  for i in data.columns:\n",
        "    mean_value = data[i].mean()\n",
        "    std_value = data[i].std()\n",
        "    data[i] = (data[i] - mean_value)/std_value\n",
        "  return data"
      ]
    },
    {
      "cell_type": "code",
      "execution_count": 4,
      "metadata": {
        "id": "gjfyCpljKcPM"
      },
      "outputs": [],
      "source": [
        "#transform data to include dummy column to cater for Beta-not(intercept) on log of odds equation\n",
        "def data_transform(x):\n",
        "  model_x = np.c_[np.ones(shape=(x.shape[0],1)),x]\n",
        "  return model_x"
      ]
    },
    {
      "cell_type": "code",
      "execution_count": 5,
      "metadata": {
        "id": "tF9b8ZycLnNw"
      },
      "outputs": [],
      "source": [
        "#model build function - use this\n",
        "def model(x, y):\n",
        "  beta = np.zeros(shape=(data_transform(x).shape[1],1))\n",
        "  x = data_transform(x)\n",
        "  y = np.array(y).reshape(len(y), 1)\n",
        "  return x, y, beta"
      ]
    },
    {
      "cell_type": "code",
      "execution_count": 6,
      "metadata": {
        "id": "_uLf1b1fMKZI"
      },
      "outputs": [],
      "source": [
        "#sigmoid functin for estimation of y_hat\n",
        "def sigmoid(z):\n",
        "  return 1/(1+np.exp(-z))"
      ]
    },
    {
      "cell_type": "code",
      "execution_count": 7,
      "metadata": {
        "id": "mmmotaG9Ko_L"
      },
      "outputs": [],
      "source": [
        "def costfunction(beta, x, y): \n",
        "  epsilon = 0.00000000000000000000000000001\n",
        "  y_hat = sigmoid(np.dot(x, beta))\n",
        "\n",
        "  #y_hat and y defined.\n",
        "  #compute costfunction\n",
        "\n",
        "  c_y = y*np.log(y_hat+epsilon)\n",
        "  c_yi = (1-y)*np.log(1-y_hat+epsilon)\n",
        "  cost_function = -sum(c_y+c_yi)/len(x)\n",
        "  return cost_function"
      ]
    },
    {
      "cell_type": "code",
      "execution_count": 8,
      "metadata": {
        "id": "g3cdzTipM4wo"
      },
      "outputs": [],
      "source": [
        "#use-this\n",
        "def logFit(x, y, beta):\n",
        "  learning_rate = 0.1\n",
        "  cost_func_list = [100000000, 10000000]\n",
        "  loss = []\n",
        "  while x.shape[1] > 0:\n",
        "    y_hat = sigmoid(np.dot(x, beta))\n",
        "    x_u = (learning_rate*np.subtract(y_hat, y))/len(x)\n",
        "    beta -= np.dot(x.transpose(), x_u)\n",
        "  #cost_function:\n",
        "    cost_func = costfunction(beta, x, y)\n",
        "    cost_func_list.append(cost_func)\n",
        "    loss.append(cost_func)\n",
        "    if cost_func_list[-1]>cost_func_list[-2]:\n",
        "      break\n",
        "    if cost_func_list[-1] == 0:\n",
        "      break\n",
        "    if cost_func_list[-1] < 0:\n",
        "      break\n",
        "  return beta, loss"
      ]
    },
    {
      "cell_type": "code",
      "execution_count": 53,
      "metadata": {
        "id": "edcFC8RbM41D"
      },
      "outputs": [],
      "source": [
        "#use-this\n",
        "def logPredict(x, beta):\n",
        "  y_hat_new = np.dot(x, beta)\n",
        "  y_predict = sigmoid(y_hat_new)\n",
        "  for i in range(len(y_predict)):\n",
        "    if y_predict[i] > 0.2:\n",
        "      y_predict[i] = 1    \n",
        "    else:\n",
        "      y_predict[i] = 0\n",
        "  return y_predict"
      ]
    },
    {
      "cell_type": "code",
      "execution_count": 10,
      "metadata": {
        "id": "IdsLROkTbbpF"
      },
      "outputs": [],
      "source": [
        "#building confusion matrix\n",
        "def confusion(y,y_hat):\n",
        "  import pandas as pd\n",
        "  df = pd.DataFrame(y)\n",
        "  df[\"y_hat\"] = y_hat\n",
        "  df.columns = [\"actual\", \"predicted\"]\n",
        "  tp = len(df[(df[\"actual\"]==1)&(df[\"predicted\"]==1)])\n",
        "  fp = len(df[(df[\"actual\"]==0)&(df[\"predicted\"]==1)])\n",
        "  fn = len(df[(df[\"actual\"]==1)&(df[\"predicted\"]==0)])\n",
        "  tn = len(df[(df[\"actual\"]==0)&(df[\"predicted\"]==0)])\n",
        "  return tp, fp, fn, tn\n",
        "\n",
        "def confusionMatrix(y, y_hat):\n",
        "  tp, fp, fn, tn = confusion(y,y_hat)\n",
        "  matrix = pd.DataFrame([[tp, fp],[fn, tn]])\n",
        "  matrix.columns = [\"Actual Positive,\", \"Actual Negative\"]\n",
        "  matrix.index = [\"Predicted Positive\", \"Predicted Negative\"]\n",
        "  return matrix"
      ]
    },
    {
      "cell_type": "code",
      "execution_count": 11,
      "metadata": {
        "id": "CDZJiuA0g6Kv"
      },
      "outputs": [],
      "source": [
        "#accuracy calculation\n",
        "def precision(y,y_hat):\n",
        "  tp, fp, fn, tn = confusion(y,y_hat)\n",
        "  prec = tp/(tp+fp)\n",
        "  return prec\n",
        "\n",
        "def recall(y,y_hat):\n",
        "  tp, fp, fn, tn = confusion(y,y_hat)\n",
        "  rec = tp/(tp+fn)\n",
        "  return rec\n",
        "\n",
        "def f1Score(y,y_hat):\n",
        "  preci = precision(y,y_hat)\n",
        "  reca = recall(y,y_hat)\n",
        "  f_score = (2 * preci * reca)/(preci+reca)\n",
        "  return f_score"
      ]
    },
    {
      "cell_type": "markdown",
      "metadata": {
        "id": "_Bijh4FbM49M"
      },
      "source": [
        "###How to Use\n",
        "1. Data Wrangling, and specify \"X\" and \"Y\" - Action to be carried out by user\n",
        "\n",
        "2. Build new model for log regression using:\n",
        "* x, y, beta = model(X, Y)\n",
        "\n",
        "3. Fit Data using:\n",
        "* beta, loss = logFit(x, y, beta)\n",
        "4. Predict Binary Output using\n",
        "* y_hat = logPredict(x, beta)\n",
        "\n",
        "5. If you wish to see loss graph\n",
        "* plt.plot(loss)\n",
        "\n",
        "6. check accuracy using using:\n",
        "* f_score = f1score(y,y_hat)\n",
        "\n",
        "7. check confusion matrix using:\n",
        "* confusionMatrix(y,y_hat)"
      ]
    },
    {
      "cell_type": "code",
      "execution_count": 13,
      "metadata": {
        "id": "0OJprMyrM5Aj"
      },
      "outputs": [],
      "source": [
        "heart = pd.read_csv(\"framingham.csv\")\n",
        "heart.dropna(axis=0, inplace=True)"
      ]
    },
    {
      "cell_type": "code",
      "source": [
        "heart.info()"
      ],
      "metadata": {
        "colab": {
          "base_uri": "https://localhost:8080/"
        },
        "id": "OMuElQ83Ckbk",
        "outputId": "2158ebb7-839a-4969-a23c-17740294cb89"
      },
      "execution_count": 14,
      "outputs": [
        {
          "output_type": "stream",
          "name": "stdout",
          "text": [
            "<class 'pandas.core.frame.DataFrame'>\n",
            "Int64Index: 3656 entries, 0 to 4237\n",
            "Data columns (total 16 columns):\n",
            " #   Column           Non-Null Count  Dtype  \n",
            "---  ------           --------------  -----  \n",
            " 0   male             3656 non-null   int64  \n",
            " 1   age              3656 non-null   int64  \n",
            " 2   education        3656 non-null   float64\n",
            " 3   currentSmoker    3656 non-null   int64  \n",
            " 4   cigsPerDay       3656 non-null   float64\n",
            " 5   BPMeds           3656 non-null   float64\n",
            " 6   prevalentStroke  3656 non-null   int64  \n",
            " 7   prevalentHyp     3656 non-null   int64  \n",
            " 8   diabetes         3656 non-null   int64  \n",
            " 9   totChol          3656 non-null   float64\n",
            " 10  sysBP            3656 non-null   float64\n",
            " 11  diaBP            3656 non-null   float64\n",
            " 12  BMI              3656 non-null   float64\n",
            " 13  heartRate        3656 non-null   float64\n",
            " 14  glucose          3656 non-null   float64\n",
            " 15  TenYearCHD       3656 non-null   int64  \n",
            "dtypes: float64(9), int64(7)\n",
            "memory usage: 485.6 KB\n"
          ]
        }
      ]
    },
    {
      "cell_type": "code",
      "execution_count": 15,
      "metadata": {
        "id": "ragouulDKpkf",
        "colab": {
          "base_uri": "https://localhost:8080/"
        },
        "outputId": "546141f6-723f-4f34-e6c0-96e324d28c74"
      },
      "outputs": [
        {
          "output_type": "execute_result",
          "data": {
            "text/plain": [
              "male               0\n",
              "age                0\n",
              "education          0\n",
              "currentSmoker      0\n",
              "cigsPerDay         0\n",
              "BPMeds             0\n",
              "prevalentStroke    0\n",
              "prevalentHyp       0\n",
              "diabetes           0\n",
              "totChol            0\n",
              "sysBP              0\n",
              "diaBP              0\n",
              "BMI                0\n",
              "heartRate          0\n",
              "glucose            0\n",
              "TenYearCHD         0\n",
              "dtype: int64"
            ]
          },
          "metadata": {},
          "execution_count": 15
        }
      ],
      "source": [
        "heart.isnull().sum()"
      ]
    },
    {
      "cell_type": "code",
      "source": [
        "from google.colab import files"
      ],
      "metadata": {
        "id": "2TM5bfpmlGT8"
      },
      "execution_count": null,
      "outputs": []
    },
    {
      "cell_type": "code",
      "execution_count": 20,
      "metadata": {
        "id": "B79YLtnHUllH",
        "colab": {
          "base_uri": "https://localhost:8080/",
          "height": 301
        },
        "outputId": "7167ce2c-2baa-40a6-f28f-1e4a2b4ba0f1"
      },
      "outputs": [
        {
          "output_type": "display_data",
          "data": {
            "text/plain": [
              "<Figure size 432x288 with 1 Axes>"
            ],
            "image/png": "[encoded data removed]"
          },
          "metadata": {
            "needs_background": "light"
          }
        }
      ],
      "source": [
        "ax = sns.countplot(x=\"TenYearCHD\", data=heart, palette=[ \"#A020F0\",\"#DE3163\"])\n",
        "ax.set_title('Data Distribution: TenYearCHD', fontdict={'fontsize':12}, pad=12);\n",
        "plt.show()"
      ]
    },
    {
      "cell_type": "code",
      "execution_count": 21,
      "metadata": {
        "id": "-IeUKeQAUSB5"
      },
      "outputs": [],
      "source": [
        "#define x and y\n",
        "X = heart.iloc[:, :(heart.shape[1]-1)]\n",
        "Y = heart.iloc[:, -1]"
      ]
    },
    {
      "cell_type": "code",
      "execution_count": 22,
      "metadata": {
        "id": "ddFhCRdMrQpE",
        "colab": {
          "base_uri": "https://localhost:8080/",
          "height": 270
        },
        "outputId": "9d25c3a0-a3db-4df2-f693-a949aeaca8b5"
      },
      "outputs": [
        {
          "output_type": "execute_result",
          "data": {
            "text/plain": [
              "      male  age  education  currentSmoker  cigsPerDay  BPMeds  \\\n",
              "225      1   53        2.0              0         0.0     0.0   \n",
              "1466     1   59        4.0              0         0.0     0.0   \n",
              "828      1   44        2.0              1        30.0     0.0   \n",
              "2150     1   36        2.0              1        30.0     0.0   \n",
              "1579     1   61        2.0              1        15.0     0.0   \n",
              "\n",
              "      prevalentStroke  prevalentHyp  diabetes  totChol  sysBP  diaBP    BMI  \\\n",
              "225                 0             0         0    193.0  142.0   89.0  29.56   \n",
              "1466                0             0         0    237.0  111.0   80.0  29.77   \n",
              "828                 0             0         0    217.0  126.0   85.0  28.49   \n",
              "2150                0             0         0    310.0  126.0   87.0  28.09   \n",
              "1579                0             0         0    204.0  120.0   80.0  25.71   \n",
              "\n",
              "      heartRate  glucose  \n",
              "225        70.0     78.0  \n",
              "1466       65.0     72.0  \n",
              "828        65.0     68.0  \n",
              "2150       78.0     78.0  \n",
              "1579       80.0     83.0  "
            ],
            "text/html": [
              "\n",
              "  <div id=\"df-61fa736e-6581-443e-badd-a6c22fa87c57\">\n",
              "    <div class=\"colab-df-container\">\n",
              "      <div>\n",
              "<style scoped>\n",
              "    .dataframe tbody tr th:only-of-type {\n",
              "        vertical-align: middle;\n",
              "    }\n",
              "\n",
              "    .dataframe tbody tr th {\n",
              "        vertical-align: top;\n",
              "    }\n",
              "\n",
              "    .dataframe thead th {\n",
              "        text-align: right;\n",
              "    }\n",
              "</style>\n",
              "<table border=\"1\" class=\"dataframe\">\n",
              "  <thead>\n",
              "    <tr style=\"text-align: right;\">\n",
              "      <th></th>\n",
              "      <th>male</th>\n",
              "      <th>age</th>\n",
              "      <th>education</th>\n",
              "      <th>currentSmoker</th>\n",
              "      <th>cigsPerDay</th>\n",
              "      <th>BPMeds</th>\n",
              "      <th>prevalentStroke</th>\n",
              "      <th>prevalentHyp</th>\n",
              "      <th>diabetes</th>\n",
              "      <th>totChol</th>\n",
              "      <th>sysBP</th>\n",
              "      <th>diaBP</th>\n",
              "      <th>BMI</th>\n",
              "      <th>heartRate</th>\n",
              "      <th>glucose</th>\n",
              "    </tr>\n",
              "  </thead>\n",
              "  <tbody>\n",
              "    <tr>\n",
              "      <th>225</th>\n",
              "      <td>1</td>\n",
              "      <td>53</td>\n",
              "      <td>2.0</td>\n",
              "      <td>0</td>\n",
              "      <td>0.0</td>\n",
              "      <td>0.0</td>\n",
              "      <td>0</td>\n",
              "      <td>0</td>\n",
              "      <td>0</td>\n",
              "      <td>193.0</td>\n",
              "      <td>142.0</td>\n",
              "      <td>89.0</td>\n",
              "      <td>29.56</td>\n",
              "      <td>70.0</td>\n",
              "      <td>78.0</td>\n",
              "    </tr>\n",
              "    <tr>\n",
              "      <th>1466</th>\n",
              "      <td>1</td>\n",
              "      <td>59</td>\n",
              "      <td>4.0</td>\n",
              "      <td>0</td>\n",
              "      <td>0.0</td>\n",
              "      <td>0.0</td>\n",
              "      <td>0</td>\n",
              "      <td>0</td>\n",
              "      <td>0</td>\n",
              "      <td>237.0</td>\n",
              "      <td>111.0</td>\n",
              "      <td>80.0</td>\n",
              "      <td>29.77</td>\n",
              "      <td>65.0</td>\n",
              "      <td>72.0</td>\n",
              "    </tr>\n",
              "    <tr>\n",
              "      <th>828</th>\n",
              "      <td>1</td>\n",
              "      <td>44</td>\n",
              "      <td>2.0</td>\n",
              "      <td>1</td>\n",
              "      <td>30.0</td>\n",
              "      <td>0.0</td>\n",
              "      <td>0</td>\n",
              "      <td>0</td>\n",
              "      <td>0</td>\n",
              "      <td>217.0</td>\n",
              "      <td>126.0</td>\n",
              "      <td>85.0</td>\n",
              "      <td>28.49</td>\n",
              "      <td>65.0</td>\n",
              "      <td>68.0</td>\n",
              "    </tr>\n",
              "    <tr>\n",
              "      <th>2150</th>\n",
              "      <td>1</td>\n",
              "      <td>36</td>\n",
              "      <td>2.0</td>\n",
              "      <td>1</td>\n",
              "      <td>30.0</td>\n",
              "      <td>0.0</td>\n",
              "      <td>0</td>\n",
              "      <td>0</td>\n",
              "      <td>0</td>\n",
              "      <td>310.0</td>\n",
              "      <td>126.0</td>\n",
              "      <td>87.0</td>\n",
              "      <td>28.09</td>\n",
              "      <td>78.0</td>\n",
              "      <td>78.0</td>\n",
              "    </tr>\n",
              "    <tr>\n",
              "      <th>1579</th>\n",
              "      <td>1</td>\n",
              "      <td>61</td>\n",
              "      <td>2.0</td>\n",
              "      <td>1</td>\n",
              "      <td>15.0</td>\n",
              "      <td>0.0</td>\n",
              "      <td>0</td>\n",
              "      <td>0</td>\n",
              "      <td>0</td>\n",
              "      <td>204.0</td>\n",
              "      <td>120.0</td>\n",
              "      <td>80.0</td>\n",
              "      <td>25.71</td>\n",
              "      <td>80.0</td>\n",
              "      <td>83.0</td>\n",
              "    </tr>\n",
              "  </tbody>\n",
              "</table>\n",
              "</div>\n",
              "      <button class=\"colab-df-convert\" onclick=\"convertToInteractive('df-61fa736e-6581-443e-badd-a6c22fa87c57')\"\n",
              "              title=\"Convert this dataframe to an interactive table.\"\n",
              "              style=\"display:none;\">\n",
              "        \n",
              "  <svg xmlns=\"http://www.w3.org/2000/svg\" height=\"24px\"viewBox=\"0 0 24 24\"\n",
              "       width=\"24px\">\n",
              "    <path d=\"M0 0h24v24H0V0z\" fill=\"none\"/>\n",
              "    <path d=\"M18.56 5.44l.94 2.06.94-2.06 2.06-.94-2.06-.94-.94-2.06-.94 2.06-2.06.94zm-11 1L8.5 8.5l.94-2.06 2.06-.94-2.06-.94L8.5 2.5l-.94 2.06-2.06.94zm10 10l.94 2.06.94-2.06 2.06-.94-2.06-.94-.94-2.06-.94 2.06-2.06.94z\"/><path d=\"M17.41 7.96l-1.37-1.37c-.4-.4-.92-.59-1.43-.59-.52 0-1.04.2-1.43.59L10.3 9.45l-7.72 7.72c-.78.78-.78 2.05 0 2.83L4 21.41c.39.39.9.59 1.41.59.51 0 1.02-.2 1.41-.59l7.78-7.78 2.81-2.81c.8-.78.8-2.07 0-2.86zM5.41 20L4 18.59l7.72-7.72 1.47 1.35L5.41 20z\"/>\n",
              "  </svg>\n",
              "      </button>\n",
              "      \n",
              "  <style>\n",
              "    .colab-df-container {\n",
              "      display:flex;\n",
              "      flex-wrap:wrap;\n",
              "      gap: 12px;\n",
              "    }\n",
              "\n",
              "    .colab-df-convert {\n",
              "      background-color: #E8F0FE;\n",
              "      border: none;\n",
              "      border-radius: 50%;\n",
              "      cursor: pointer;\n",
              "      display: none;\n",
              "      fill: #1967D2;\n",
              "      height: 32px;\n",
              "      padding: 0 0 0 0;\n",
              "      width: 32px;\n",
              "    }\n",
              "\n",
              "    .colab-df-convert:hover {\n",
              "      background-color: #E2EBFA;\n",
              "      box-shadow: 0px 1px 2px rgba(60, 64, 67, 0.3), 0px 1px 3px 1px rgba(60, 64, 67, 0.15);\n",
              "      fill: #174EA6;\n",
              "    }\n",
              "\n",
              "    [theme=dark] .colab-df-convert {\n",
              "      background-color: #3B4455;\n",
              "      fill: #D2E3FC;\n",
              "    }\n",
              "\n",
              "    [theme=dark] .colab-df-convert:hover {\n",
              "      background-color: #434B5C;\n",
              "      box-shadow: 0px 1px 3px 1px rgba(0, 0, 0, 0.15);\n",
              "      filter: drop-shadow(0px 1px 2px rgba(0, 0, 0, 0.3));\n",
              "      fill: #FFFFFF;\n",
              "    }\n",
              "  </style>\n",
              "\n",
              "      <script>\n",
              "        const buttonEl =\n",
              "          document.querySelector('#df-61fa736e-6581-443e-badd-a6c22fa87c57 button.colab-df-convert');\n",
              "        buttonEl.style.display =\n",
              "          google.colab.kernel.accessAllowed ? 'block' : 'none';\n",
              "\n",
              "        async function convertToInteractive(key) {\n",
              "          const element = document.querySelector('#df-61fa736e-6581-443e-badd-a6c22fa87c57');\n",
              "          const dataTable =\n",
              "            await google.colab.kernel.invokeFunction('convertToInteractive',\n",
              "                                                     [key], {});\n",
              "          if (!dataTable) return;\n",
              "\n",
              "          const docLinkHtml = 'Like what you see? Visit the ' +\n",
              "            '<a target=\"_blank\" href=https://colab.research.google.com/notebooks/data_table.ipynb>data table notebook</a>'\n",
              "            + ' to learn more about interactive tables.';\n",
              "          element.innerHTML = '';\n",
              "          dataTable['output_type'] = 'display_data';\n",
              "          await google.colab.output.renderOutput(dataTable, element);\n",
              "          const docLink = document.createElement('div');\n",
              "          docLink.innerHTML = docLinkHtml;\n",
              "          element.appendChild(docLink);\n",
              "        }\n",
              "      </script>\n",
              "    </div>\n",
              "  </div>\n",
              "  "
            ]
          },
          "metadata": {},
          "execution_count": 22
        }
      ],
      "source": [
        "X.sample(5)"
      ]
    },
    {
      "cell_type": "markdown",
      "metadata": {
        "id": "KbUjH4ygrAIu"
      },
      "source": [
        "Feature Selection"
      ]
    },
    {
      "cell_type": "markdown",
      "metadata": {
        "id": "FEsTrhqprUiQ"
      },
      "source": [
        "Check Correlation Matrix between X and Y"
      ]
    },
    {
      "cell_type": "code",
      "execution_count": 23,
      "metadata": {
        "id": "reb9fa6hrUnW",
        "colab": {
          "base_uri": "https://localhost:8080/",
          "height": 615
        },
        "outputId": "5dc3bc3d-ca1e-45a9-b9ff-965b3e193da5"
      },
      "outputs": [
        {
          "output_type": "execute_result",
          "data": {
            "text/plain": [
              "                     male       age  education  currentSmoker  cigsPerDay  \\\n",
              "male             1.000000 -0.024387   0.017677       0.206778    0.331243   \n",
              "age             -0.024387  1.000000  -0.158961      -0.210862   -0.189099   \n",
              "education        0.017677 -0.158961   1.000000       0.025253    0.013527   \n",
              "currentSmoker    0.206778 -0.210862   0.025253       1.000000    0.773819   \n",
              "cigsPerDay       0.331243 -0.189099   0.013527       0.773819    1.000000   \n",
              "BPMeds          -0.052128  0.134670  -0.013647      -0.051936   -0.046479   \n",
              "prevalentStroke -0.002308  0.050864  -0.030353      -0.038159   -0.036283   \n",
              "prevalentHyp     0.000806  0.306693  -0.079100      -0.107561   -0.069890   \n",
              "diabetes         0.013833  0.109027  -0.039547      -0.041859   -0.036934   \n",
              "totChol         -0.070229  0.267764  -0.012956      -0.051119   -0.030222   \n",
              "sysBP           -0.045484  0.388551  -0.124511      -0.134371   -0.094764   \n",
              "diaBP            0.051575  0.208880  -0.058502      -0.115748   -0.056650   \n",
              "BMI              0.072867  0.137172  -0.137280      -0.159574   -0.086888   \n",
              "heartRate       -0.114923 -0.002685  -0.064254       0.050452    0.063549   \n",
              "glucose          0.003048  0.118245  -0.031874      -0.053346   -0.053803   \n",
              "TenYearCHD       0.091745  0.233810  -0.063068       0.019176    0.052159   \n",
              "\n",
              "                   BPMeds  prevalentStroke  prevalentHyp  diabetes   totChol  \\\n",
              "male            -0.052128        -0.002308      0.000806  0.013833 -0.070229   \n",
              "age              0.134670         0.050864      0.306693  0.109027  0.267764   \n",
              "education       -0.013647        -0.030353     -0.079100 -0.039547 -0.012956   \n",
              "currentSmoker   -0.051936        -0.038159     -0.107561 -0.041859 -0.051119   \n",
              "cigsPerDay      -0.046479        -0.036283     -0.069890 -0.036934 -0.030222   \n",
              "BPMeds           1.000000         0.113119      0.263047  0.049051  0.094011   \n",
              "prevalentStroke  0.113119         1.000000      0.066098  0.009619  0.012697   \n",
              "prevalentHyp     0.263047         0.066098      1.000000  0.080623  0.167074   \n",
              "diabetes         0.049051         0.009619      0.080623  1.000000  0.048371   \n",
              "totChol          0.094011         0.012697      0.167074  0.048371  1.000000   \n",
              "sysBP            0.271291         0.061080      0.697790  0.102574  0.220130   \n",
              "diaBP            0.199750         0.055878      0.617634  0.050767  0.174986   \n",
              "BMI              0.105603         0.036478      0.302917  0.088970  0.120799   \n",
              "heartRate        0.012894        -0.017020      0.147333  0.060996  0.093057   \n",
              "glucose          0.054210         0.016051      0.087129  0.614817  0.049749   \n",
              "TenYearCHD       0.089116         0.048351      0.181556  0.093397  0.091127   \n",
              "\n",
              "                    sysBP     diaBP       BMI  heartRate   glucose  TenYearCHD  \n",
              "male            -0.045484  0.051575  0.072867  -0.114923  0.003048    0.091745  \n",
              "age              0.388551  0.208880  0.137172  -0.002685  0.118245    0.233810  \n",
              "education       -0.124511 -0.058502 -0.137280  -0.064254 -0.031874   -0.063068  \n",
              "currentSmoker   -0.134371 -0.115748 -0.159574   0.050452 -0.053346    0.019176  \n",
              "cigsPerDay      -0.094764 -0.056650 -0.086888   0.063549 -0.053803    0.052159  \n",
              "BPMeds           0.271291  0.199750  0.105603   0.012894  0.054210    0.089116  \n",
              "prevalentStroke  0.061080  0.055878  0.036478  -0.017020  0.016051    0.048351  \n",
              "prevalentHyp     0.697790  0.617634  0.302917   0.147333  0.087129    0.181556  \n",
              "diabetes         0.102574  0.050767  0.088970   0.060996  0.614817    0.093397  \n",
              "totChol          0.220130  0.174986  0.120799   0.093057  0.049749    0.091127  \n",
              "sysBP            1.000000  0.786727  0.331004   0.184901  0.134702    0.222885  \n",
              "diaBP            0.786727  1.000000  0.385611   0.179008  0.063704    0.150342  \n",
              "BMI              0.331004  0.385611  1.000000   0.074401  0.083671    0.081931  \n",
              "heartRate        0.184901  0.179008  0.074401   1.000000  0.097026    0.020523  \n",
              "glucose          0.134702  0.063704  0.083671   0.097026  1.000000    0.121942  \n",
              "TenYearCHD       0.222885  0.150342  0.081931   0.020523  0.121942    1.000000  "
            ],
            "text/html": [
              "\n",
              "  <div id=\"df-d79c9d0a-24dd-4366-a1c7-6da440aa3a01\">\n",
              "    <div class=\"colab-df-container\">\n",
              "      <div>\n",
              "<style scoped>\n",
              "    .dataframe tbody tr th:only-of-type {\n",
              "        vertical-align: middle;\n",
              "    }\n",
              "\n",
              "    .dataframe tbody tr th {\n",
              "        vertical-align: top;\n",
              "    }\n",
              "\n",
              "    .dataframe thead th {\n",
              "        text-align: right;\n",
              "    }\n",
              "</style>\n",
              "<table border=\"1\" class=\"dataframe\">\n",
              "  <thead>\n",
              "    <tr style=\"text-align: right;\">\n",
              "      <th></th>\n",
              "      <th>male</th>\n",
              "      <th>age</th>\n",
              "      <th>education</th>\n",
              "      <th>currentSmoker</th>\n",
              "      <th>cigsPerDay</th>\n",
              "      <th>BPMeds</th>\n",
              "      <th>prevalentStroke</th>\n",
              "      <th>prevalentHyp</th>\n",
              "      <th>diabetes</th>\n",
              "      <th>totChol</th>\n",
              "      <th>sysBP</th>\n",
              "      <th>diaBP</th>\n",
              "      <th>BMI</th>\n",
              "      <th>heartRate</th>\n",
              "      <th>glucose</th>\n",
              "      <th>TenYearCHD</th>\n",
              "    </tr>\n",
              "  </thead>\n",
              "  <tbody>\n",
              "    <tr>\n",
              "      <th>male</th>\n",
              "      <td>1.000000</td>\n",
              "      <td>-0.024387</td>\n",
              "      <td>0.017677</td>\n",
              "      <td>0.206778</td>\n",
              "      <td>0.331243</td>\n",
              "      <td>-0.052128</td>\n",
              "      <td>-0.002308</td>\n",
              "      <td>0.000806</td>\n",
              "      <td>0.013833</td>\n",
              "      <td>-0.070229</td>\n",
              "      <td>-0.045484</td>\n",
              "      <td>0.051575</td>\n",
              "      <td>0.072867</td>\n",
              "      <td>-0.114923</td>\n",
              "      <td>0.003048</td>\n",
              "      <td>0.091745</td>\n",
              "    </tr>\n",
              "    <tr>\n",
              "      <th>age</th>\n",
              "      <td>-0.024387</td>\n",
              "      <td>1.000000</td>\n",
              "      <td>-0.158961</td>\n",
              "      <td>-0.210862</td>\n",
              "      <td>-0.189099</td>\n",
              "      <td>0.134670</td>\n",
              "      <td>0.050864</td>\n",
              "      <td>0.306693</td>\n",
              "      <td>0.109027</td>\n",
              "      <td>0.267764</td>\n",
              "      <td>0.388551</td>\n",
              "      <td>0.208880</td>\n",
              "      <td>0.137172</td>\n",
              "      <td>-0.002685</td>\n",
              "      <td>0.118245</td>\n",
              "      <td>0.233810</td>\n",
              "    </tr>\n",
              "    <tr>\n",
              "      <th>education</th>\n",
              "      <td>0.017677</td>\n",
              "      <td>-0.158961</td>\n",
              "      <td>1.000000</td>\n",
              "      <td>0.025253</td>\n",
              "      <td>0.013527</td>\n",
              "      <td>-0.013647</td>\n",
              "      <td>-0.030353</td>\n",
              "      <td>-0.079100</td>\n",
              "      <td>-0.039547</td>\n",
              "      <td>-0.012956</td>\n",
              "      <td>-0.124511</td>\n",
              "      <td>-0.058502</td>\n",
              "      <td>-0.137280</td>\n",
              "      <td>-0.064254</td>\n",
              "      <td>-0.031874</td>\n",
              "      <td>-0.063068</td>\n",
              "    </tr>\n",
              "    <tr>\n",
              "      <th>currentSmoker</th>\n",
              "      <td>0.206778</td>\n",
              "      <td>-0.210862</td>\n",
              "      <td>0.025253</td>\n",
              "      <td>1.000000</td>\n",
              "      <td>0.773819</td>\n",
              "      <td>-0.051936</td>\n",
              "      <td>-0.038159</td>\n",
              "      <td>-0.107561</td>\n",
              "      <td>-0.041859</td>\n",
              "      <td>-0.051119</td>\n",
              "      <td>-0.134371</td>\n",
              "      <td>-0.115748</td>\n",
              "      <td>-0.159574</td>\n",
              "      <td>0.050452</td>\n",
              "      <td>-0.053346</td>\n",
              "      <td>0.019176</td>\n",
              "    </tr>\n",
              "    <tr>\n",
              "      <th>cigsPerDay</th>\n",
              "      <td>0.331243</td>\n",
              "      <td>-0.189099</td>\n",
              "      <td>0.013527</td>\n",
              "      <td>0.773819</td>\n",
              "      <td>1.000000</td>\n",
              "      <td>-0.046479</td>\n",
              "      <td>-0.036283</td>\n",
              "      <td>-0.069890</td>\n",
              "      <td>-0.036934</td>\n",
              "      <td>-0.030222</td>\n",
              "      <td>-0.094764</td>\n",
              "      <td>-0.056650</td>\n",
              "      <td>-0.086888</td>\n",
              "      <td>0.063549</td>\n",
              "      <td>-0.053803</td>\n",
              "      <td>0.052159</td>\n",
              "    </tr>\n",
              "    <tr>\n",
              "      <th>BPMeds</th>\n",
              "      <td>-0.052128</td>\n",
              "      <td>0.134670</td>\n",
              "      <td>-0.013647</td>\n",
              "      <td>-0.051936</td>\n",
              "      <td>-0.046479</td>\n",
              "      <td>1.000000</td>\n",
              "      <td>0.113119</td>\n",
              "      <td>0.263047</td>\n",
              "      <td>0.049051</td>\n",
              "      <td>0.094011</td>\n",
              "      <td>0.271291</td>\n",
              "      <td>0.199750</td>\n",
              "      <td>0.105603</td>\n",
              "      <td>0.012894</td>\n",
              "      <td>0.054210</td>\n",
              "      <td>0.089116</td>\n",
              "    </tr>\n",
              "    <tr>\n",
              "      <th>prevalentStroke</th>\n",
              "      <td>-0.002308</td>\n",
              "      <td>0.050864</td>\n",
              "      <td>-0.030353</td>\n",
              "      <td>-0.038159</td>\n",
              "      <td>-0.036283</td>\n",
              "      <td>0.113119</td>\n",
              "      <td>1.000000</td>\n",
              "      <td>0.066098</td>\n",
              "      <td>0.009619</td>\n",
              "      <td>0.012697</td>\n",
              "      <td>0.061080</td>\n",
              "      <td>0.055878</td>\n",
              "      <td>0.036478</td>\n",
              "      <td>-0.017020</td>\n",
              "      <td>0.016051</td>\n",
              "      <td>0.048351</td>\n",
              "    </tr>\n",
              "    <tr>\n",
              "      <th>prevalentHyp</th>\n",
              "      <td>0.000806</td>\n",
              "      <td>0.306693</td>\n",
              "      <td>-0.079100</td>\n",
              "      <td>-0.107561</td>\n",
              "      <td>-0.069890</td>\n",
              "      <td>0.263047</td>\n",
              "      <td>0.066098</td>\n",
              "      <td>1.000000</td>\n",
              "      <td>0.080623</td>\n",
              "      <td>0.167074</td>\n",
              "      <td>0.697790</td>\n",
              "      <td>0.617634</td>\n",
              "      <td>0.302917</td>\n",
              "      <td>0.147333</td>\n",
              "      <td>0.087129</td>\n",
              "      <td>0.181556</td>\n",
              "    </tr>\n",
              "    <tr>\n",
              "      <th>diabetes</th>\n",
              "      <td>0.013833</td>\n",
              "      <td>0.109027</td>\n",
              "      <td>-0.039547</td>\n",
              "      <td>-0.041859</td>\n",
              "      <td>-0.036934</td>\n",
              "      <td>0.049051</td>\n",
              "      <td>0.009619</td>\n",
              "      <td>0.080623</td>\n",
              "      <td>1.000000</td>\n",
              "      <td>0.048371</td>\n",
              "      <td>0.102574</td>\n",
              "      <td>0.050767</td>\n",
              "      <td>0.088970</td>\n",
              "      <td>0.060996</td>\n",
              "      <td>0.614817</td>\n",
              "      <td>0.093397</td>\n",
              "    </tr>\n",
              "    <tr>\n",
              "      <th>totChol</th>\n",
              "      <td>-0.070229</td>\n",
              "      <td>0.267764</td>\n",
              "      <td>-0.012956</td>\n",
              "      <td>-0.051119</td>\n",
              "      <td>-0.030222</td>\n",
              "      <td>0.094011</td>\n",
              "      <td>0.012697</td>\n",
              "      <td>0.167074</td>\n",
              "      <td>0.048371</td>\n",
              "      <td>1.000000</td>\n",
              "      <td>0.220130</td>\n",
              "      <td>0.174986</td>\n",
              "      <td>0.120799</td>\n",
              "      <td>0.093057</td>\n",
              "      <td>0.049749</td>\n",
              "      <td>0.091127</td>\n",
              "    </tr>\n",
              "    <tr>\n",
              "      <th>sysBP</th>\n",
              "      <td>-0.045484</td>\n",
              "      <td>0.388551</td>\n",
              "      <td>-0.124511</td>\n",
              "      <td>-0.134371</td>\n",
              "      <td>-0.094764</td>\n",
              "      <td>0.271291</td>\n",
              "      <td>0.061080</td>\n",
              "      <td>0.697790</td>\n",
              "      <td>0.102574</td>\n",
              "      <td>0.220130</td>\n",
              "      <td>1.000000</td>\n",
              "      <td>0.786727</td>\n",
              "      <td>0.331004</td>\n",
              "      <td>0.184901</td>\n",
              "      <td>0.134702</td>\n",
              "      <td>0.222885</td>\n",
              "    </tr>\n",
              "    <tr>\n",
              "      <th>diaBP</th>\n",
              "      <td>0.051575</td>\n",
              "      <td>0.208880</td>\n",
              "      <td>-0.058502</td>\n",
              "      <td>-0.115748</td>\n",
              "      <td>-0.056650</td>\n",
              "      <td>0.199750</td>\n",
              "      <td>0.055878</td>\n",
              "      <td>0.617634</td>\n",
              "      <td>0.050767</td>\n",
              "      <td>0.174986</td>\n",
              "      <td>0.786727</td>\n",
              "      <td>1.000000</td>\n",
              "      <td>0.385611</td>\n",
              "      <td>0.179008</td>\n",
              "      <td>0.063704</td>\n",
              "      <td>0.150342</td>\n",
              "    </tr>\n",
              "    <tr>\n",
              "      <th>BMI</th>\n",
              "      <td>0.072867</td>\n",
              "      <td>0.137172</td>\n",
              "      <td>-0.137280</td>\n",
              "      <td>-0.159574</td>\n",
              "      <td>-0.086888</td>\n",
              "      <td>0.105603</td>\n",
              "      <td>0.036478</td>\n",
              "      <td>0.302917</td>\n",
              "      <td>0.088970</td>\n",
              "      <td>0.120799</td>\n",
              "      <td>0.331004</td>\n",
              "      <td>0.385611</td>\n",
              "      <td>1.000000</td>\n",
              "      <td>0.074401</td>\n",
              "      <td>0.083671</td>\n",
              "      <td>0.081931</td>\n",
              "    </tr>\n",
              "    <tr>\n",
              "      <th>heartRate</th>\n",
              "      <td>-0.114923</td>\n",
              "      <td>-0.002685</td>\n",
              "      <td>-0.064254</td>\n",
              "      <td>0.050452</td>\n",
              "      <td>0.063549</td>\n",
              "      <td>0.012894</td>\n",
              "      <td>-0.017020</td>\n",
              "      <td>0.147333</td>\n",
              "      <td>0.060996</td>\n",
              "      <td>0.093057</td>\n",
              "      <td>0.184901</td>\n",
              "      <td>0.179008</td>\n",
              "      <td>0.074401</td>\n",
              "      <td>1.000000</td>\n",
              "      <td>0.097026</td>\n",
              "      <td>0.020523</td>\n",
              "    </tr>\n",
              "    <tr>\n",
              "      <th>glucose</th>\n",
              "      <td>0.003048</td>\n",
              "      <td>0.118245</td>\n",
              "      <td>-0.031874</td>\n",
              "      <td>-0.053346</td>\n",
              "      <td>-0.053803</td>\n",
              "      <td>0.054210</td>\n",
              "      <td>0.016051</td>\n",
              "      <td>0.087129</td>\n",
              "      <td>0.614817</td>\n",
              "      <td>0.049749</td>\n",
              "      <td>0.134702</td>\n",
              "      <td>0.063704</td>\n",
              "      <td>0.083671</td>\n",
              "      <td>0.097026</td>\n",
              "      <td>1.000000</td>\n",
              "      <td>0.121942</td>\n",
              "    </tr>\n",
              "    <tr>\n",
              "      <th>TenYearCHD</th>\n",
              "      <td>0.091745</td>\n",
              "      <td>0.233810</td>\n",
              "      <td>-0.063068</td>\n",
              "      <td>0.019176</td>\n",
              "      <td>0.052159</td>\n",
              "      <td>0.089116</td>\n",
              "      <td>0.048351</td>\n",
              "      <td>0.181556</td>\n",
              "      <td>0.093397</td>\n",
              "      <td>0.091127</td>\n",
              "      <td>0.222885</td>\n",
              "      <td>0.150342</td>\n",
              "      <td>0.081931</td>\n",
              "      <td>0.020523</td>\n",
              "      <td>0.121942</td>\n",
              "      <td>1.000000</td>\n",
              "    </tr>\n",
              "  </tbody>\n",
              "</table>\n",
              "</div>\n",
              "      <button class=\"colab-df-convert\" onclick=\"convertToInteractive('df-d79c9d0a-24dd-4366-a1c7-6da440aa3a01')\"\n",
              "              title=\"Convert this dataframe to an interactive table.\"\n",
              "              style=\"display:none;\">\n",
              "        \n",
              "  <svg xmlns=\"http://www.w3.org/2000/svg\" height=\"24px\"viewBox=\"0 0 24 24\"\n",
              "       width=\"24px\">\n",
              "    <path d=\"M0 0h24v24H0V0z\" fill=\"none\"/>\n",
              "    <path d=\"M18.56 5.44l.94 2.06.94-2.06 2.06-.94-2.06-.94-.94-2.06-.94 2.06-2.06.94zm-11 1L8.5 8.5l.94-2.06 2.06-.94-2.06-.94L8.5 2.5l-.94 2.06-2.06.94zm10 10l.94 2.06.94-2.06 2.06-.94-2.06-.94-.94-2.06-.94 2.06-2.06.94z\"/><path d=\"M17.41 7.96l-1.37-1.37c-.4-.4-.92-.59-1.43-.59-.52 0-1.04.2-1.43.59L10.3 9.45l-7.72 7.72c-.78.78-.78 2.05 0 2.83L4 21.41c.39.39.9.59 1.41.59.51 0 1.02-.2 1.41-.59l7.78-7.78 2.81-2.81c.8-.78.8-2.07 0-2.86zM5.41 20L4 18.59l7.72-7.72 1.47 1.35L5.41 20z\"/>\n",
              "  </svg>\n",
              "      </button>\n",
              "      \n",
              "  <style>\n",
              "    .colab-df-container {\n",
              "      display:flex;\n",
              "      flex-wrap:wrap;\n",
              "      gap: 12px;\n",
              "    }\n",
              "\n",
              "    .colab-df-convert {\n",
              "      background-color: #E8F0FE;\n",
              "      border: none;\n",
              "      border-radius: 50%;\n",
              "      cursor: pointer;\n",
              "      display: none;\n",
              "      fill: #1967D2;\n",
              "      height: 32px;\n",
              "      padding: 0 0 0 0;\n",
              "      width: 32px;\n",
              "    }\n",
              "\n",
              "    .colab-df-convert:hover {\n",
              "      background-color: #E2EBFA;\n",
              "      box-shadow: 0px 1px 2px rgba(60, 64, 67, 0.3), 0px 1px 3px 1px rgba(60, 64, 67, 0.15);\n",
              "      fill: #174EA6;\n",
              "    }\n",
              "\n",
              "    [theme=dark] .colab-df-convert {\n",
              "      background-color: #3B4455;\n",
              "      fill: #D2E3FC;\n",
              "    }\n",
              "\n",
              "    [theme=dark] .colab-df-convert:hover {\n",
              "      background-color: #434B5C;\n",
              "      box-shadow: 0px 1px 3px 1px rgba(0, 0, 0, 0.15);\n",
              "      filter: drop-shadow(0px 1px 2px rgba(0, 0, 0, 0.3));\n",
              "      fill: #FFFFFF;\n",
              "    }\n",
              "  </style>\n",
              "\n",
              "      <script>\n",
              "        const buttonEl =\n",
              "          document.querySelector('#df-d79c9d0a-24dd-4366-a1c7-6da440aa3a01 button.colab-df-convert');\n",
              "        buttonEl.style.display =\n",
              "          google.colab.kernel.accessAllowed ? 'block' : 'none';\n",
              "\n",
              "        async function convertToInteractive(key) {\n",
              "          const element = document.querySelector('#df-d79c9d0a-24dd-4366-a1c7-6da440aa3a01');\n",
              "          const dataTable =\n",
              "            await google.colab.kernel.invokeFunction('convertToInteractive',\n",
              "                                                     [key], {});\n",
              "          if (!dataTable) return;\n",
              "\n",
              "          const docLinkHtml = 'Like what you see? Visit the ' +\n",
              "            '<a target=\"_blank\" href=https://colab.research.google.com/notebooks/data_table.ipynb>data table notebook</a>'\n",
              "            + ' to learn more about interactive tables.';\n",
              "          element.innerHTML = '';\n",
              "          dataTable['output_type'] = 'display_data';\n",
              "          await google.colab.output.renderOutput(dataTable, element);\n",
              "          const docLink = document.createElement('div');\n",
              "          docLink.innerHTML = docLinkHtml;\n",
              "          element.appendChild(docLink);\n",
              "        }\n",
              "      </script>\n",
              "    </div>\n",
              "  </div>\n",
              "  "
            ]
          },
          "metadata": {},
          "execution_count": 23
        }
      ],
      "source": [
        "heart.corr()"
      ]
    },
    {
      "cell_type": "markdown",
      "metadata": {
        "id": "XTXRpjDhrkVt"
      },
      "source": [
        "Correlation values between X variables and Y is too small.\n",
        "\n",
        "Perform Chi Squared Test to Test if X variables are independent of Y variable (TenYearCHD)\n",
        "\n",
        "Chi_square test for variables:\n",
        "1. Null Hypothesis: The 2 variables being compared are independent\n",
        "2. Alternative Hypothesis: There is dependence between the 2 variables being compared"
      ]
    },
    {
      "cell_type": "code",
      "execution_count": 24,
      "metadata": {
        "id": "r_p7X5oirka0"
      },
      "outputs": [],
      "source": [
        "from sklearn.feature_selection import chi2\n",
        "\n",
        "chi_square, p_values = chi2(X, Y)"
      ]
    },
    {
      "cell_type": "code",
      "execution_count": 25,
      "metadata": {
        "id": "jzw1zTiLrkfM",
        "colab": {
          "base_uri": "https://localhost:8080/",
          "height": 520
        },
        "outputId": "21c86ddf-eec4-42bc-9007-f735c22ca294"
      },
      "outputs": [
        {
          "output_type": "execute_result",
          "data": {
            "text/plain": [
              "                       P-value  Chi-square  P-value [.3dp]  \\\n",
              "male              3.508289e-05   17.120430           0.000   \n",
              "age               3.136918e-66  295.507761           0.000   \n",
              "education         5.584246e-03    7.679797           0.006   \n",
              "currentSmoker     4.072163e-01    0.686913           0.407   \n",
              "cigsPerDay        6.363520e-36  156.567318           0.000   \n",
              "BPMeds            1.120936e-07   28.153003           0.000   \n",
              "prevalentStroke   3.555717e-03    8.497823           0.004   \n",
              "prevalentHyp      8.342694e-20   82.967184           0.000   \n",
              "diabetes          2.543345e-08   31.027987           0.000   \n",
              "totChol           3.972625e-56  249.153078           0.000   \n",
              "sysBP            1.279133e-147  669.506552           0.000   \n",
              "diaBP             6.248564e-33  142.878574           0.000   \n",
              "BMI               7.302857e-05   15.730717           0.000   \n",
              "heartRate         8.753872e-02    2.919062           0.088   \n",
              "glucose           1.533624e-84  379.583137           0.000   \n",
              "\n",
              "                                                      conclusion  \n",
              "male                        Dependence (Reject H0:No dependence)  \n",
              "age                         Dependence (Reject H0:No dependence)  \n",
              "education                   Dependence (Reject H0:No dependence)  \n",
              "currentSmoker    Independence (Fail to Reject H0: No dependence)  \n",
              "cigsPerDay                  Dependence (Reject H0:No dependence)  \n",
              "BPMeds                      Dependence (Reject H0:No dependence)  \n",
              "prevalentStroke             Dependence (Reject H0:No dependence)  \n",
              "prevalentHyp                Dependence (Reject H0:No dependence)  \n",
              "diabetes                    Dependence (Reject H0:No dependence)  \n",
              "totChol                     Dependence (Reject H0:No dependence)  \n",
              "sysBP                       Dependence (Reject H0:No dependence)  \n",
              "diaBP                       Dependence (Reject H0:No dependence)  \n",
              "BMI                         Dependence (Reject H0:No dependence)  \n",
              "heartRate        Independence (Fail to Reject H0: No dependence)  \n",
              "glucose                     Dependence (Reject H0:No dependence)  "
            ],
            "text/html": [
              "\n",
              "  <div id=\"df-36980c2b-b69a-49e1-afe2-80a456bc3002\">\n",
              "    <div class=\"colab-df-container\">\n",
              "      <div>\n",
              "<style scoped>\n",
              "    .dataframe tbody tr th:only-of-type {\n",
              "        vertical-align: middle;\n",
              "    }\n",
              "\n",
              "    .dataframe tbody tr th {\n",
              "        vertical-align: top;\n",
              "    }\n",
              "\n",
              "    .dataframe thead th {\n",
              "        text-align: right;\n",
              "    }\n",
              "</style>\n",
              "<table border=\"1\" class=\"dataframe\">\n",
              "  <thead>\n",
              "    <tr style=\"text-align: right;\">\n",
              "      <th></th>\n",
              "      <th>P-value</th>\n",
              "      <th>Chi-square</th>\n",
              "      <th>P-value [.3dp]</th>\n",
              "      <th>conclusion</th>\n",
              "    </tr>\n",
              "  </thead>\n",
              "  <tbody>\n",
              "    <tr>\n",
              "      <th>male</th>\n",
              "      <td>3.508289e-05</td>\n",
              "      <td>17.120430</td>\n",
              "      <td>0.000</td>\n",
              "      <td>Dependence (Reject H0:No dependence)</td>\n",
              "    </tr>\n",
              "    <tr>\n",
              "      <th>age</th>\n",
              "      <td>3.136918e-66</td>\n",
              "      <td>295.507761</td>\n",
              "      <td>0.000</td>\n",
              "      <td>Dependence (Reject H0:No dependence)</td>\n",
              "    </tr>\n",
              "    <tr>\n",
              "      <th>education</th>\n",
              "      <td>5.584246e-03</td>\n",
              "      <td>7.679797</td>\n",
              "      <td>0.006</td>\n",
              "      <td>Dependence (Reject H0:No dependence)</td>\n",
              "    </tr>\n",
              "    <tr>\n",
              "      <th>currentSmoker</th>\n",
              "      <td>4.072163e-01</td>\n",
              "      <td>0.686913</td>\n",
              "      <td>0.407</td>\n",
              "      <td>Independence (Fail to Reject H0: No dependence)</td>\n",
              "    </tr>\n",
              "    <tr>\n",
              "      <th>cigsPerDay</th>\n",
              "      <td>6.363520e-36</td>\n",
              "      <td>156.567318</td>\n",
              "      <td>0.000</td>\n",
              "      <td>Dependence (Reject H0:No dependence)</td>\n",
              "    </tr>\n",
              "    <tr>\n",
              "      <th>BPMeds</th>\n",
              "      <td>1.120936e-07</td>\n",
              "      <td>28.153003</td>\n",
              "      <td>0.000</td>\n",
              "      <td>Dependence (Reject H0:No dependence)</td>\n",
              "    </tr>\n",
              "    <tr>\n",
              "      <th>prevalentStroke</th>\n",
              "      <td>3.555717e-03</td>\n",
              "      <td>8.497823</td>\n",
              "      <td>0.004</td>\n",
              "      <td>Dependence (Reject H0:No dependence)</td>\n",
              "    </tr>\n",
              "    <tr>\n",
              "      <th>prevalentHyp</th>\n",
              "      <td>8.342694e-20</td>\n",
              "      <td>82.967184</td>\n",
              "      <td>0.000</td>\n",
              "      <td>Dependence (Reject H0:No dependence)</td>\n",
              "    </tr>\n",
              "    <tr>\n",
              "      <th>diabetes</th>\n",
              "      <td>2.543345e-08</td>\n",
              "      <td>31.027987</td>\n",
              "      <td>0.000</td>\n",
              "      <td>Dependence (Reject H0:No dependence)</td>\n",
              "    </tr>\n",
              "    <tr>\n",
              "      <th>totChol</th>\n",
              "      <td>3.972625e-56</td>\n",
              "      <td>249.153078</td>\n",
              "      <td>0.000</td>\n",
              "      <td>Dependence (Reject H0:No dependence)</td>\n",
              "    </tr>\n",
              "    <tr>\n",
              "      <th>sysBP</th>\n",
              "      <td>1.279133e-147</td>\n",
              "      <td>669.506552</td>\n",
              "      <td>0.000</td>\n",
              "      <td>Dependence (Reject H0:No dependence)</td>\n",
              "    </tr>\n",
              "    <tr>\n",
              "      <th>diaBP</th>\n",
              "      <td>6.248564e-33</td>\n",
              "      <td>142.878574</td>\n",
              "      <td>0.000</td>\n",
              "      <td>Dependence (Reject H0:No dependence)</td>\n",
              "    </tr>\n",
              "    <tr>\n",
              "      <th>BMI</th>\n",
              "      <td>7.302857e-05</td>\n",
              "      <td>15.730717</td>\n",
              "      <td>0.000</td>\n",
              "      <td>Dependence (Reject H0:No dependence)</td>\n",
              "    </tr>\n",
              "    <tr>\n",
              "      <th>heartRate</th>\n",
              "      <td>8.753872e-02</td>\n",
              "      <td>2.919062</td>\n",
              "      <td>0.088</td>\n",
              "      <td>Independence (Fail to Reject H0: No dependence)</td>\n",
              "    </tr>\n",
              "    <tr>\n",
              "      <th>glucose</th>\n",
              "      <td>1.533624e-84</td>\n",
              "      <td>379.583137</td>\n",
              "      <td>0.000</td>\n",
              "      <td>Dependence (Reject H0:No dependence)</td>\n",
              "    </tr>\n",
              "  </tbody>\n",
              "</table>\n",
              "</div>\n",
              "      <button class=\"colab-df-convert\" onclick=\"convertToInteractive('df-36980c2b-b69a-49e1-afe2-80a456bc3002')\"\n",
              "              title=\"Convert this dataframe to an interactive table.\"\n",
              "              style=\"display:none;\">\n",
              "        \n",
              "  <svg xmlns=\"http://www.w3.org/2000/svg\" height=\"24px\"viewBox=\"0 0 24 24\"\n",
              "       width=\"24px\">\n",
              "    <path d=\"M0 0h24v24H0V0z\" fill=\"none\"/>\n",
              "    <path d=\"M18.56 5.44l.94 2.06.94-2.06 2.06-.94-2.06-.94-.94-2.06-.94 2.06-2.06.94zm-11 1L8.5 8.5l.94-2.06 2.06-.94-2.06-.94L8.5 2.5l-.94 2.06-2.06.94zm10 10l.94 2.06.94-2.06 2.06-.94-2.06-.94-.94-2.06-.94 2.06-2.06.94z\"/><path d=\"M17.41 7.96l-1.37-1.37c-.4-.4-.92-.59-1.43-.59-.52 0-1.04.2-1.43.59L10.3 9.45l-7.72 7.72c-.78.78-.78 2.05 0 2.83L4 21.41c.39.39.9.59 1.41.59.51 0 1.02-.2 1.41-.59l7.78-7.78 2.81-2.81c.8-.78.8-2.07 0-2.86zM5.41 20L4 18.59l7.72-7.72 1.47 1.35L5.41 20z\"/>\n",
              "  </svg>\n",
              "      </button>\n",
              "      \n",
              "  <style>\n",
              "    .colab-df-container {\n",
              "      display:flex;\n",
              "      flex-wrap:wrap;\n",
              "      gap: 12px;\n",
              "    }\n",
              "\n",
              "    .colab-df-convert {\n",
              "      background-color: #E8F0FE;\n",
              "      border: none;\n",
              "      border-radius: 50%;\n",
              "      cursor: pointer;\n",
              "      display: none;\n",
              "      fill: #1967D2;\n",
              "      height: 32px;\n",
              "      padding: 0 0 0 0;\n",
              "      width: 32px;\n",
              "    }\n",
              "\n",
              "    .colab-df-convert:hover {\n",
              "      background-color: #E2EBFA;\n",
              "      box-shadow: 0px 1px 2px rgba(60, 64, 67, 0.3), 0px 1px 3px 1px rgba(60, 64, 67, 0.15);\n",
              "      fill: #174EA6;\n",
              "    }\n",
              "\n",
              "    [theme=dark] .colab-df-convert {\n",
              "      background-color: #3B4455;\n",
              "      fill: #D2E3FC;\n",
              "    }\n",
              "\n",
              "    [theme=dark] .colab-df-convert:hover {\n",
              "      background-color: #434B5C;\n",
              "      box-shadow: 0px 1px 3px 1px rgba(0, 0, 0, 0.15);\n",
              "      filter: drop-shadow(0px 1px 2px rgba(0, 0, 0, 0.3));\n",
              "      fill: #FFFFFF;\n",
              "    }\n",
              "  </style>\n",
              "\n",
              "      <script>\n",
              "        const buttonEl =\n",
              "          document.querySelector('#df-36980c2b-b69a-49e1-afe2-80a456bc3002 button.colab-df-convert');\n",
              "        buttonEl.style.display =\n",
              "          google.colab.kernel.accessAllowed ? 'block' : 'none';\n",
              "\n",
              "        async function convertToInteractive(key) {\n",
              "          const element = document.querySelector('#df-36980c2b-b69a-49e1-afe2-80a456bc3002');\n",
              "          const dataTable =\n",
              "            await google.colab.kernel.invokeFunction('convertToInteractive',\n",
              "                                                     [key], {});\n",
              "          if (!dataTable) return;\n",
              "\n",
              "          const docLinkHtml = 'Like what you see? Visit the ' +\n",
              "            '<a target=\"_blank\" href=https://colab.research.google.com/notebooks/data_table.ipynb>data table notebook</a>'\n",
              "            + ' to learn more about interactive tables.';\n",
              "          element.innerHTML = '';\n",
              "          dataTable['output_type'] = 'display_data';\n",
              "          await google.colab.output.renderOutput(dataTable, element);\n",
              "          const docLink = document.createElement('div');\n",
              "          docLink.innerHTML = docLinkHtml;\n",
              "          element.appendChild(docLink);\n",
              "        }\n",
              "      </script>\n",
              "    </div>\n",
              "  </div>\n",
              "  "
            ]
          },
          "metadata": {},
          "execution_count": 25
        }
      ],
      "source": [
        "p_values_df = pd.DataFrame(p_values, columns=[\"P-value\"], index = X.columns)\n",
        "p_values_df[\"Chi-square\"] = chi_square\n",
        "p_values_df[\"P-value [.3dp]\"] = round(p_values_df[\"P-value\"], 3)\n",
        "\n",
        "ind_bin = [0, 0.05, 1]\n",
        "ind_label = [\"Dependence (Reject H0:No dependence)\", \"Independence (Fail to Reject H0: No dependence)\"]\n",
        "p_values_df[\"conclusion\"] = pd.cut(p_values_df[\"P-value\"], bins= ind_bin, labels=ind_label)\n",
        "\n",
        "p_values_df"
      ]
    },
    {
      "cell_type": "markdown",
      "metadata": {
        "id": "7zEaAXnsrkjF"
      },
      "source": [
        "Select Features with Dependece on TenYearCHD in Chi squared Test"
      ]
    },
    {
      "cell_type": "code",
      "execution_count": 26,
      "metadata": {
        "id": "6cn6SEMctBcz"
      },
      "outputs": [],
      "source": [
        "data_features = []\n",
        "\n",
        "for i in range(len(p_values_df)):\n",
        "  if p_values_df[\"P-value\"][i] < 0.05:\n",
        "    data_features.append(p_values_df.index[i])\n",
        "\n",
        "x_dep = heart[data_features]"
      ]
    },
    {
      "cell_type": "code",
      "execution_count": 36,
      "metadata": {
        "id": "ojdBZUFwrknT",
        "colab": {
          "base_uri": "https://localhost:8080/"
        },
        "outputId": "5579e746-4a36-495e-9edc-c6f0043f839f"
      },
      "outputs": [
        {
          "output_type": "execute_result",
          "data": {
            "text/plain": [
              "(3656, 13)"
            ]
          },
          "metadata": {},
          "execution_count": 36
        }
      ],
      "source": [
        "x_dep.shape"
      ]
    },
    {
      "cell_type": "markdown",
      "metadata": {
        "id": "oZ6_9p2YqbEm"
      },
      "source": [
        "Scale all variables of X to values between 0 and 1 using MinMaxScaler"
      ]
    },
    {
      "cell_type": "code",
      "execution_count": 37,
      "metadata": {
        "id": "aXP-w9gNqbkY"
      },
      "outputs": [],
      "source": [
        "from sklearn import preprocessing\n",
        "min_max_scaler = preprocessing.MinMaxScaler()\n",
        "X_sc= min_max_scaler.fit_transform(x_dep)"
      ]
    },
    {
      "cell_type": "markdown",
      "metadata": {
        "id": "40HqcJRlqWli"
      },
      "source": [
        "Test Train Split"
      ]
    },
    {
      "cell_type": "code",
      "execution_count": 38,
      "metadata": {
        "id": "dcD7acz91F0R"
      },
      "outputs": [],
      "source": [
        "#model build\n",
        "x_mb, y_mb, beta = model(X_sc,Y)"
      ]
    },
    {
      "cell_type": "code",
      "execution_count": 39,
      "metadata": {
        "id": "mtjRCSYp1dsu",
        "colab": {
          "base_uri": "https://localhost:8080/"
        },
        "outputId": "7f47ed17-5cc4-4371-8c49-249cd708d8f2"
      },
      "outputs": [
        {
          "output_type": "execute_result",
          "data": {
            "text/plain": [
              "((3656, 14), (3656, 1), (14, 1))"
            ]
          },
          "metadata": {},
          "execution_count": 39
        }
      ],
      "source": [
        "x_mb.shape, y_mb.shape, beta.shape"
      ]
    },
    {
      "cell_type": "code",
      "execution_count": 40,
      "metadata": {
        "id": "7o3V3Vk6qJBV"
      },
      "outputs": [],
      "source": [
        "from sklearn.model_selection import train_test_split\n",
        "x_train, x_test, y_train, y_test = train_test_split(x_mb, y_mb, test_size=0.3, random_state=42)"
      ]
    },
    {
      "cell_type": "code",
      "execution_count": 41,
      "metadata": {
        "id": "EAvbf1Y-U0dI",
        "colab": {
          "base_uri": "https://localhost:8080/"
        },
        "outputId": "019175ae-d7f7-48a6-f67a-6404e25e9bf7"
      },
      "outputs": [
        {
          "output_type": "execute_result",
          "data": {
            "text/plain": [
              "((2559, 14), (1097, 14), (2559, 1), (1097, 1), (14, 1))"
            ]
          },
          "metadata": {},
          "execution_count": 41
        }
      ],
      "source": [
        "x_train.shape, x_test.shape,y_train.shape, y_test.shape, beta.shape"
      ]
    },
    {
      "cell_type": "code",
      "execution_count": 42,
      "metadata": {
        "id": "2rFSx1jfVVwB"
      },
      "outputs": [],
      "source": [
        "#Fit Data\n",
        "beta_hat, error = logFit(x_train, y_train, beta)"
      ]
    },
    {
      "cell_type": "code",
      "execution_count": 43,
      "metadata": {
        "id": "oHcbK1CbBsqA",
        "colab": {
          "base_uri": "https://localhost:8080/"
        },
        "outputId": "74e40de7-1e90-47dc-9843-3af4adefd585"
      },
      "outputs": [
        {
          "output_type": "execute_result",
          "data": {
            "text/plain": [
              "array([[-5.14561645],\n",
              "       [ 0.60369821],\n",
              "       [ 2.53867383],\n",
              "       [-0.02860949],\n",
              "       [ 1.58054781],\n",
              "       [ 0.29284463],\n",
              "       [ 1.52774422],\n",
              "       [ 0.16503714],\n",
              "       [ 0.21527007],\n",
              "       [ 1.44276053],\n",
              "       [ 3.47621748],\n",
              "       [-0.16291402],\n",
              "       [ 0.04107488],\n",
              "       [ 2.1817007 ]])"
            ]
          },
          "metadata": {},
          "execution_count": 43
        }
      ],
      "source": [
        "beta_hat"
      ]
    },
    {
      "cell_type": "code",
      "execution_count": 44,
      "metadata": {
        "id": "ENU8dLHxWGXs",
        "colab": {
          "base_uri": "https://localhost:8080/"
        },
        "outputId": "2cd43c42-114d-4a2c-9941-f528d3280911"
      },
      "outputs": [
        {
          "output_type": "execute_result",
          "data": {
            "text/plain": [
              "((14, 1), (2559, 14))"
            ]
          },
          "metadata": {},
          "execution_count": 44
        }
      ],
      "source": [
        "beta_hat.shape, x_train.shape"
      ]
    },
    {
      "cell_type": "code",
      "execution_count": 45,
      "metadata": {
        "id": "hzvp3DadVsYD",
        "colab": {
          "base_uri": "https://localhost:8080/"
        },
        "outputId": "a1914c9d-e448-4e2d-decf-2850d66d15d8"
      },
      "outputs": [
        {
          "output_type": "execute_result",
          "data": {
            "text/plain": [
              "(1097, 1)"
            ]
          },
          "metadata": {},
          "execution_count": 45
        }
      ],
      "source": [
        "#predict y_hat\n",
        "y_hat = logPredict(x_test, beta_hat)\n",
        "y_hat.shape"
      ]
    },
    {
      "cell_type": "code",
      "execution_count": 46,
      "metadata": {
        "id": "iH1fsaflkbQz",
        "colab": {
          "base_uri": "https://localhost:8080/",
          "height": 112
        },
        "outputId": "4522907f-af64-4f4b-ee71-81634e0b613c"
      },
      "outputs": [
        {
          "output_type": "execute_result",
          "data": {
            "text/plain": [
              "                    Actual Positive,  Actual Negative\n",
              "Predicted Positive                15               10\n",
              "Predicted Negative               159              913"
            ],
            "text/html": [
              "\n",
              "  <div id=\"df-7a829f95-8be0-4fcf-9aeb-ce86a6a130d5\">\n",
              "    <div class=\"colab-df-container\">\n",
              "      <div>\n",
              "<style scoped>\n",
              "    .dataframe tbody tr th:only-of-type {\n",
              "        vertical-align: middle;\n",
              "    }\n",
              "\n",
              "    .dataframe tbody tr th {\n",
              "        vertical-align: top;\n",
              "    }\n",
              "\n",
              "    .dataframe thead th {\n",
              "        text-align: right;\n",
              "    }\n",
              "</style>\n",
              "<table border=\"1\" class=\"dataframe\">\n",
              "  <thead>\n",
              "    <tr style=\"text-align: right;\">\n",
              "      <th></th>\n",
              "      <th>Actual Positive,</th>\n",
              "      <th>Actual Negative</th>\n",
              "    </tr>\n",
              "  </thead>\n",
              "  <tbody>\n",
              "    <tr>\n",
              "      <th>Predicted Positive</th>\n",
              "      <td>15</td>\n",
              "      <td>10</td>\n",
              "    </tr>\n",
              "    <tr>\n",
              "      <th>Predicted Negative</th>\n",
              "      <td>159</td>\n",
              "      <td>913</td>\n",
              "    </tr>\n",
              "  </tbody>\n",
              "</table>\n",
              "</div>\n",
              "      <button class=\"colab-df-convert\" onclick=\"convertToInteractive('df-7a829f95-8be0-4fcf-9aeb-ce86a6a130d5')\"\n",
              "              title=\"Convert this dataframe to an interactive table.\"\n",
              "              style=\"display:none;\">\n",
              "        \n",
              "  <svg xmlns=\"http://www.w3.org/2000/svg\" height=\"24px\"viewBox=\"0 0 24 24\"\n",
              "       width=\"24px\">\n",
              "    <path d=\"M0 0h24v24H0V0z\" fill=\"none\"/>\n",
              "    <path d=\"M18.56 5.44l.94 2.06.94-2.06 2.06-.94-2.06-.94-.94-2.06-.94 2.06-2.06.94zm-11 1L8.5 8.5l.94-2.06 2.06-.94-2.06-.94L8.5 2.5l-.94 2.06-2.06.94zm10 10l.94 2.06.94-2.06 2.06-.94-2.06-.94-.94-2.06-.94 2.06-2.06.94z\"/><path d=\"M17.41 7.96l-1.37-1.37c-.4-.4-.92-.59-1.43-.59-.52 0-1.04.2-1.43.59L10.3 9.45l-7.72 7.72c-.78.78-.78 2.05 0 2.83L4 21.41c.39.39.9.59 1.41.59.51 0 1.02-.2 1.41-.59l7.78-7.78 2.81-2.81c.8-.78.8-2.07 0-2.86zM5.41 20L4 18.59l7.72-7.72 1.47 1.35L5.41 20z\"/>\n",
              "  </svg>\n",
              "      </button>\n",
              "      \n",
              "  <style>\n",
              "    .colab-df-container {\n",
              "      display:flex;\n",
              "      flex-wrap:wrap;\n",
              "      gap: 12px;\n",
              "    }\n",
              "\n",
              "    .colab-df-convert {\n",
              "      background-color: #E8F0FE;\n",
              "      border: none;\n",
              "      border-radius: 50%;\n",
              "      cursor: pointer;\n",
              "      display: none;\n",
              "      fill: #1967D2;\n",
              "      height: 32px;\n",
              "      padding: 0 0 0 0;\n",
              "      width: 32px;\n",
              "    }\n",
              "\n",
              "    .colab-df-convert:hover {\n",
              "      background-color: #E2EBFA;\n",
              "      box-shadow: 0px 1px 2px rgba(60, 64, 67, 0.3), 0px 1px 3px 1px rgba(60, 64, 67, 0.15);\n",
              "      fill: #174EA6;\n",
              "    }\n",
              "\n",
              "    [theme=dark] .colab-df-convert {\n",
              "      background-color: #3B4455;\n",
              "      fill: #D2E3FC;\n",
              "    }\n",
              "\n",
              "    [theme=dark] .colab-df-convert:hover {\n",
              "      background-color: #434B5C;\n",
              "      box-shadow: 0px 1px 3px 1px rgba(0, 0, 0, 0.15);\n",
              "      filter: drop-shadow(0px 1px 2px rgba(0, 0, 0, 0.3));\n",
              "      fill: #FFFFFF;\n",
              "    }\n",
              "  </style>\n",
              "\n",
              "      <script>\n",
              "        const buttonEl =\n",
              "          document.querySelector('#df-7a829f95-8be0-4fcf-9aeb-ce86a6a130d5 button.colab-df-convert');\n",
              "        buttonEl.style.display =\n",
              "          google.colab.kernel.accessAllowed ? 'block' : 'none';\n",
              "\n",
              "        async function convertToInteractive(key) {\n",
              "          const element = document.querySelector('#df-7a829f95-8be0-4fcf-9aeb-ce86a6a130d5');\n",
              "          const dataTable =\n",
              "            await google.colab.kernel.invokeFunction('convertToInteractive',\n",
              "                                                     [key], {});\n",
              "          if (!dataTable) return;\n",
              "\n",
              "          const docLinkHtml = 'Like what you see? Visit the ' +\n",
              "            '<a target=\"_blank\" href=https://colab.research.google.com/notebooks/data_table.ipynb>data table notebook</a>'\n",
              "            + ' to learn more about interactive tables.';\n",
              "          element.innerHTML = '';\n",
              "          dataTable['output_type'] = 'display_data';\n",
              "          await google.colab.output.renderOutput(dataTable, element);\n",
              "          const docLink = document.createElement('div');\n",
              "          docLink.innerHTML = docLinkHtml;\n",
              "          element.appendChild(docLink);\n",
              "        }\n",
              "      </script>\n",
              "    </div>\n",
              "  </div>\n",
              "  "
            ]
          },
          "metadata": {},
          "execution_count": 46
        }
      ],
      "source": [
        "#checking confusion matrix\n",
        "confusion_matrix = confusionMatrix(y_test,y_hat)\n",
        "confusion_matrix"
      ]
    },
    {
      "cell_type": "code",
      "execution_count": 47,
      "metadata": {
        "id": "uLRC1LJYkduD",
        "colab": {
          "base_uri": "https://localhost:8080/"
        },
        "outputId": "0c11dce6-be0d-4e51-c229-749d3de626ed"
      },
      "outputs": [
        {
          "output_type": "execute_result",
          "data": {
            "text/plain": [
              "0.15075376884422112"
            ]
          },
          "metadata": {},
          "execution_count": 47
        }
      ],
      "source": [
        "#checking accuracy using f1Score\n",
        "f_score = f1Score(y_test,y_hat)\n",
        "f_score"
      ]
    },
    {
      "cell_type": "code",
      "execution_count": 48,
      "metadata": {
        "id": "BXsmTYLcYp0T",
        "colab": {
          "base_uri": "https://localhost:8080/",
          "height": 283
        },
        "outputId": "13a8e549-de25-4c9b-b0df-e995258edb15"
      },
      "outputs": [
        {
          "output_type": "execute_result",
          "data": {
            "text/plain": [
              "[<matplotlib.lines.Line2D at 0x7f2adeb138e0>]"
            ]
          },
          "metadata": {},
          "execution_count": 48
        },
        {
          "output_type": "display_data",
          "data": {
            "text/plain": [
              "<Figure size 432x288 with 1 Axes>"
            ],
            "image/png": "[encoded data removed]"
          },
          "metadata": {
            "needs_background": "light"
          }
        }
      ],
      "source": [
        "plt.plot(error)\n"
      ]
    },
    {
      "cell_type": "markdown",
      "metadata": {
        "id": "EBkHMf6oZbGD"
      },
      "source": [
        "Checking with Sklearn"
      ]
    },
    {
      "cell_type": "code",
      "execution_count": 49,
      "metadata": {
        "id": "jTj-RK05lC-2"
      },
      "outputs": [],
      "source": [
        "from sklearn.linear_model import LogisticRegression\n",
        "from sklearn.metrics import f1_score"
      ]
    },
    {
      "cell_type": "code",
      "execution_count": 50,
      "metadata": {
        "id": "JyCPLtrZ6SMB"
      },
      "outputs": [],
      "source": [
        "y_sk_train = y_train.reshape(y_train.shape[0], )"
      ]
    },
    {
      "cell_type": "code",
      "execution_count": 51,
      "metadata": {
        "id": "iiHHvxZRmXTt"
      },
      "outputs": [],
      "source": [
        "logmodel = LogisticRegression().fit(x_train, y_sk_train)\n",
        "sklearn_pred = logmodel.predict(x_test)"
      ]
    },
    {
      "cell_type": "code",
      "execution_count": 52,
      "metadata": {
        "id": "MVm7783nmxWw",
        "colab": {
          "base_uri": "https://localhost:8080/"
        },
        "outputId": "1476adc0-3dde-4ab8-d9a3-8f212f611f9e"
      },
      "outputs": [
        {
          "output_type": "execute_result",
          "data": {
            "text/plain": [
              "0.13471502590673579"
            ]
          },
          "metadata": {},
          "execution_count": 52
        }
      ],
      "source": [
        "f1_score(y_test, sklearn_pred)"
      ]
    },
    {
      "cell_type": "markdown",
      "metadata": {
        "id": "RnsVNI0cnKNz"
      },
      "source": [
        "The Algorithm seems to predict more accurately than Sklearn Algorithm.\n",
        "\n",
        "F_score for both Algorithms is very low"
      ]
    },
    {
      "cell_type": "markdown",
      "metadata": {
        "id": "p0p1DPZSL0H-"
      },
      "source": [
        "Although the approximation threshold for the high probability of having the risk of TenYearCHD is 0.5, the framingham risk score study as obtained from Wikipedia states that, individuals with low risk have 10% or less TenYearCHD risk, with intermediate risk 10-20% and, with high risk 20% or more.\n",
        "\n",
        "Reference: https://en.wikipedia.org/wiki/Framingham_Risk_Score"
      ]
    },
    {
      "cell_type": "markdown",
      "metadata": {
        "id": "TsOF_SGTL0NO"
      },
      "source": [
        "Considering this, we test a model where the approximation  for the logistic model should be at probability greater than or equal to 20% (>= 0.2)"
      ]
    },
    {
      "cell_type": "code",
      "execution_count": 57,
      "metadata": {
        "id": "i52kbE-iOFRk",
        "colab": {
          "base_uri": "https://localhost:8080/"
        },
        "outputId": "ca68b6c2-7af4-431a-8898-331dd6fc065d"
      },
      "outputs": [
        {
          "output_type": "execute_result",
          "data": {
            "text/plain": [
              "((2559, 14), (1097, 14), (2559, 1), (1097, 1), (14, 1))"
            ]
          },
          "metadata": {},
          "execution_count": 57
        }
      ],
      "source": [
        "#model build\n",
        "x_mb, y_mb, beta = model(X_sc,Y)\n",
        "x_train, x_test, y_train, y_test = train_test_split(x_mb, y_mb, test_size=0.3, random_state=42)\n",
        "x_train.shape, x_test.shape,y_train.shape, y_test.shape, beta.shape"
      ]
    },
    {
      "cell_type": "code",
      "execution_count": 58,
      "metadata": {
        "id": "6dpTIlnFI_kF"
      },
      "outputs": [],
      "source": [
        "#Fit Data\n",
        "beta_hat, error = logFit(x_train, y_train, beta)"
      ]
    },
    {
      "cell_type": "code",
      "execution_count": 59,
      "metadata": {
        "id": "lwi03XMXI_zg",
        "colab": {
          "base_uri": "https://localhost:8080/"
        },
        "outputId": "256c4c1b-f92a-403b-e580-197d3d32df64"
      },
      "outputs": [
        {
          "output_type": "execute_result",
          "data": {
            "text/plain": [
              "(1097, 1)"
            ]
          },
          "metadata": {},
          "execution_count": 59
        }
      ],
      "source": [
        "#predict y_hat\n",
        "y_hat = logPredict(x_test, beta_hat)\n",
        "y_hat.shape"
      ]
    },
    {
      "cell_type": "code",
      "execution_count": 60,
      "metadata": {
        "id": "D6tsE8AoJkOk",
        "colab": {
          "base_uri": "https://localhost:8080/",
          "height": 112
        },
        "outputId": "6b1c7fd2-13fc-41a1-d5d5-3f2848fe705b"
      },
      "outputs": [
        {
          "output_type": "execute_result",
          "data": {
            "text/plain": [
              "                    Actual Positive,  Actual Negative\n",
              "Predicted Positive                85              177\n",
              "Predicted Negative                89              746"
            ],
            "text/html": [
              "\n",
              "  <div id=\"df-66a4aa03-a677-4a31-a55f-223b03c12672\">\n",
              "    <div class=\"colab-df-container\">\n",
              "      <div>\n",
              "<style scoped>\n",
              "    .dataframe tbody tr th:only-of-type {\n",
              "        vertical-align: middle;\n",
              "    }\n",
              "\n",
              "    .dataframe tbody tr th {\n",
              "        vertical-align: top;\n",
              "    }\n",
              "\n",
              "    .dataframe thead th {\n",
              "        text-align: right;\n",
              "    }\n",
              "</style>\n",
              "<table border=\"1\" class=\"dataframe\">\n",
              "  <thead>\n",
              "    <tr style=\"text-align: right;\">\n",
              "      <th></th>\n",
              "      <th>Actual Positive,</th>\n",
              "      <th>Actual Negative</th>\n",
              "    </tr>\n",
              "  </thead>\n",
              "  <tbody>\n",
              "    <tr>\n",
              "      <th>Predicted Positive</th>\n",
              "      <td>85</td>\n",
              "      <td>177</td>\n",
              "    </tr>\n",
              "    <tr>\n",
              "      <th>Predicted Negative</th>\n",
              "      <td>89</td>\n",
              "      <td>746</td>\n",
              "    </tr>\n",
              "  </tbody>\n",
              "</table>\n",
              "</div>\n",
              "      <button class=\"colab-df-convert\" onclick=\"convertToInteractive('df-66a4aa03-a677-4a31-a55f-223b03c12672')\"\n",
              "              title=\"Convert this dataframe to an interactive table.\"\n",
              "              style=\"display:none;\">\n",
              "        \n",
              "  <svg xmlns=\"http://www.w3.org/2000/svg\" height=\"24px\"viewBox=\"0 0 24 24\"\n",
              "       width=\"24px\">\n",
              "    <path d=\"M0 0h24v24H0V0z\" fill=\"none\"/>\n",
              "    <path d=\"M18.56 5.44l.94 2.06.94-2.06 2.06-.94-2.06-.94-.94-2.06-.94 2.06-2.06.94zm-11 1L8.5 8.5l.94-2.06 2.06-.94-2.06-.94L8.5 2.5l-.94 2.06-2.06.94zm10 10l.94 2.06.94-2.06 2.06-.94-2.06-.94-.94-2.06-.94 2.06-2.06.94z\"/><path d=\"M17.41 7.96l-1.37-1.37c-.4-.4-.92-.59-1.43-.59-.52 0-1.04.2-1.43.59L10.3 9.45l-7.72 7.72c-.78.78-.78 2.05 0 2.83L4 21.41c.39.39.9.59 1.41.59.51 0 1.02-.2 1.41-.59l7.78-7.78 2.81-2.81c.8-.78.8-2.07 0-2.86zM5.41 20L4 18.59l7.72-7.72 1.47 1.35L5.41 20z\"/>\n",
              "  </svg>\n",
              "      </button>\n",
              "      \n",
              "  <style>\n",
              "    .colab-df-container {\n",
              "      display:flex;\n",
              "      flex-wrap:wrap;\n",
              "      gap: 12px;\n",
              "    }\n",
              "\n",
              "    .colab-df-convert {\n",
              "      background-color: #E8F0FE;\n",
              "      border: none;\n",
              "      border-radius: 50%;\n",
              "      cursor: pointer;\n",
              "      display: none;\n",
              "      fill: #1967D2;\n",
              "      height: 32px;\n",
              "      padding: 0 0 0 0;\n",
              "      width: 32px;\n",
              "    }\n",
              "\n",
              "    .colab-df-convert:hover {\n",
              "      background-color: #E2EBFA;\n",
              "      box-shadow: 0px 1px 2px rgba(60, 64, 67, 0.3), 0px 1px 3px 1px rgba(60, 64, 67, 0.15);\n",
              "      fill: #174EA6;\n",
              "    }\n",
              "\n",
              "    [theme=dark] .colab-df-convert {\n",
              "      background-color: #3B4455;\n",
              "      fill: #D2E3FC;\n",
              "    }\n",
              "\n",
              "    [theme=dark] .colab-df-convert:hover {\n",
              "      background-color: #434B5C;\n",
              "      box-shadow: 0px 1px 3px 1px rgba(0, 0, 0, 0.15);\n",
              "      filter: drop-shadow(0px 1px 2px rgba(0, 0, 0, 0.3));\n",
              "      fill: #FFFFFF;\n",
              "    }\n",
              "  </style>\n",
              "\n",
              "      <script>\n",
              "        const buttonEl =\n",
              "          document.querySelector('#df-66a4aa03-a677-4a31-a55f-223b03c12672 button.colab-df-convert');\n",
              "        buttonEl.style.display =\n",
              "          google.colab.kernel.accessAllowed ? 'block' : 'none';\n",
              "\n",
              "        async function convertToInteractive(key) {\n",
              "          const element = document.querySelector('#df-66a4aa03-a677-4a31-a55f-223b03c12672');\n",
              "          const dataTable =\n",
              "            await google.colab.kernel.invokeFunction('convertToInteractive',\n",
              "                                                     [key], {});\n",
              "          if (!dataTable) return;\n",
              "\n",
              "          const docLinkHtml = 'Like what you see? Visit the ' +\n",
              "            '<a target=\"_blank\" href=https://colab.research.google.com/notebooks/data_table.ipynb>data table notebook</a>'\n",
              "            + ' to learn more about interactive tables.';\n",
              "          element.innerHTML = '';\n",
              "          dataTable['output_type'] = 'display_data';\n",
              "          await google.colab.output.renderOutput(dataTable, element);\n",
              "          const docLink = document.createElement('div');\n",
              "          docLink.innerHTML = docLinkHtml;\n",
              "          element.appendChild(docLink);\n",
              "        }\n",
              "      </script>\n",
              "    </div>\n",
              "  </div>\n",
              "  "
            ]
          },
          "metadata": {},
          "execution_count": 60
        }
      ],
      "source": [
        "#checking confusion matrix\n",
        "confusion_matrix = confusionMatrix(y_test,y_hat)\n",
        "confusion_matrix"
      ]
    },
    {
      "cell_type": "code",
      "execution_count": 61,
      "metadata": {
        "id": "_0Sww_bEJkVU",
        "colab": {
          "base_uri": "https://localhost:8080/"
        },
        "outputId": "cfc79184-ed17-473b-88ad-f5fe507b1ddf"
      },
      "outputs": [
        {
          "output_type": "execute_result",
          "data": {
            "text/plain": [
              "0.389908256880734"
            ]
          },
          "metadata": {},
          "execution_count": 61
        }
      ],
      "source": [
        "#checking accuracy using f1Score\n",
        "f_score = f1Score(y_test,y_hat)\n",
        "f_score"
      ]
    },
    {
      "cell_type": "markdown",
      "metadata": {
        "id": "p7hYu2XqOFgL"
      },
      "source": [
        "F_score has improved, however, it is still low. What if there is bias in the probability estimation of the TenYearCHD, therefore affecting our estimation?"
      ]
    },
    {
      "cell_type": "markdown",
      "metadata": {
        "id": "ChorKfeoQNGZ"
      },
      "source": [
        "Data Exploration."
      ]
    },
    {
      "cell_type": "markdown",
      "metadata": {
        "id": "N7DZfvzkOFpy"
      },
      "source": [
        "Causes of Cornary Heart Disease:\n",
        "1. Smoking and Secondhand Smoke Exposure\n",
        "2. High blood pressure\n",
        "3. High low-density lipoprotein (LDL) cholesterol \n",
        "4. Diabetes\n",
        "4. Obesity, unhealthy diet, and Physical inactivity\n",
        "\n",
        "reference: https://www.cdc.gov/chronicdisease/resources/publications/factsheets/heart-disease-stroke.htm"
      ]
    },
    {
      "cell_type": "markdown",
      "metadata": {
        "id": "Ppyg7uU2OFuH"
      },
      "source": [
        "Let's consider a relationship between Smoking and TenYearCHD. \n",
        "\n",
        "* Although CurrentSmoker is independent of TenYearCHD according to the ChiSquare Test, smoking is a cause of Heart Disease, as a result, we will group the data into smokers and non-smokers and consider the association between smoking and TenYearCHD in both groups."
      ]
    },
    {
      "cell_type": "markdown",
      "metadata": {
        "id": "GWKhAheGkEF-"
      },
      "source": [
        "Association Between Smoking and TenYearCHD"
      ]
    },
    {
      "cell_type": "code",
      "execution_count": 62,
      "metadata": {
        "id": "4L1WcthEOFya",
        "colab": {
          "base_uri": "https://localhost:8080/",
          "height": 426
        },
        "outputId": "4763f53c-817b-4881-cfbd-64a78df39467"
      },
      "outputs": [
        {
          "output_type": "execute_result",
          "data": {
            "text/plain": [
              "currentSmoker         0       1\n",
              "male             1868.0  1788.0\n",
              "age                51.3    47.7\n",
              "cigsPerDay          0.0    18.4\n",
              "BPMeds             73.0    38.0\n",
              "prevalentStroke    16.0     5.0\n",
              "prevalentHyp      673.0   466.0\n",
              "diabetes           63.0    36.0\n",
              "totChol           239.1   234.6\n",
              "BMI                26.4    25.1\n",
              "heartRate          75.1    76.3\n",
              "glucose            83.1    80.6\n",
              "TenYearCHD        272.0   285.0"
            ],
            "text/html": [
              "\n",
              "  <div id=\"df-9efc878b-9bf2-40b4-b51a-1d84cb98f963\">\n",
              "    <div class=\"colab-df-container\">\n",
              "      <div>\n",
              "<style scoped>\n",
              "    .dataframe tbody tr th:only-of-type {\n",
              "        vertical-align: middle;\n",
              "    }\n",
              "\n",
              "    .dataframe tbody tr th {\n",
              "        vertical-align: top;\n",
              "    }\n",
              "\n",
              "    .dataframe thead th {\n",
              "        text-align: right;\n",
              "    }\n",
              "</style>\n",
              "<table border=\"1\" class=\"dataframe\">\n",
              "  <thead>\n",
              "    <tr style=\"text-align: right;\">\n",
              "      <th>currentSmoker</th>\n",
              "      <th>0</th>\n",
              "      <th>1</th>\n",
              "    </tr>\n",
              "  </thead>\n",
              "  <tbody>\n",
              "    <tr>\n",
              "      <th>male</th>\n",
              "      <td>1868.0</td>\n",
              "      <td>1788.0</td>\n",
              "    </tr>\n",
              "    <tr>\n",
              "      <th>age</th>\n",
              "      <td>51.3</td>\n",
              "      <td>47.7</td>\n",
              "    </tr>\n",
              "    <tr>\n",
              "      <th>cigsPerDay</th>\n",
              "      <td>0.0</td>\n",
              "      <td>18.4</td>\n",
              "    </tr>\n",
              "    <tr>\n",
              "      <th>BPMeds</th>\n",
              "      <td>73.0</td>\n",
              "      <td>38.0</td>\n",
              "    </tr>\n",
              "    <tr>\n",
              "      <th>prevalentStroke</th>\n",
              "      <td>16.0</td>\n",
              "      <td>5.0</td>\n",
              "    </tr>\n",
              "    <tr>\n",
              "      <th>prevalentHyp</th>\n",
              "      <td>673.0</td>\n",
              "      <td>466.0</td>\n",
              "    </tr>\n",
              "    <tr>\n",
              "      <th>diabetes</th>\n",
              "      <td>63.0</td>\n",
              "      <td>36.0</td>\n",
              "    </tr>\n",
              "    <tr>\n",
              "      <th>totChol</th>\n",
              "      <td>239.1</td>\n",
              "      <td>234.6</td>\n",
              "    </tr>\n",
              "    <tr>\n",
              "      <th>BMI</th>\n",
              "      <td>26.4</td>\n",
              "      <td>25.1</td>\n",
              "    </tr>\n",
              "    <tr>\n",
              "      <th>heartRate</th>\n",
              "      <td>75.1</td>\n",
              "      <td>76.3</td>\n",
              "    </tr>\n",
              "    <tr>\n",
              "      <th>glucose</th>\n",
              "      <td>83.1</td>\n",
              "      <td>80.6</td>\n",
              "    </tr>\n",
              "    <tr>\n",
              "      <th>TenYearCHD</th>\n",
              "      <td>272.0</td>\n",
              "      <td>285.0</td>\n",
              "    </tr>\n",
              "  </tbody>\n",
              "</table>\n",
              "</div>\n",
              "      <button class=\"colab-df-convert\" onclick=\"convertToInteractive('df-9efc878b-9bf2-40b4-b51a-1d84cb98f963')\"\n",
              "              title=\"Convert this dataframe to an interactive table.\"\n",
              "              style=\"display:none;\">\n",
              "        \n",
              "  <svg xmlns=\"http://www.w3.org/2000/svg\" height=\"24px\"viewBox=\"0 0 24 24\"\n",
              "       width=\"24px\">\n",
              "    <path d=\"M0 0h24v24H0V0z\" fill=\"none\"/>\n",
              "    <path d=\"M18.56 5.44l.94 2.06.94-2.06 2.06-.94-2.06-.94-.94-2.06-.94 2.06-2.06.94zm-11 1L8.5 8.5l.94-2.06 2.06-.94-2.06-.94L8.5 2.5l-.94 2.06-2.06.94zm10 10l.94 2.06.94-2.06 2.06-.94-2.06-.94-.94-2.06-.94 2.06-2.06.94z\"/><path d=\"M17.41 7.96l-1.37-1.37c-.4-.4-.92-.59-1.43-.59-.52 0-1.04.2-1.43.59L10.3 9.45l-7.72 7.72c-.78.78-.78 2.05 0 2.83L4 21.41c.39.39.9.59 1.41.59.51 0 1.02-.2 1.41-.59l7.78-7.78 2.81-2.81c.8-.78.8-2.07 0-2.86zM5.41 20L4 18.59l7.72-7.72 1.47 1.35L5.41 20z\"/>\n",
              "  </svg>\n",
              "      </button>\n",
              "      \n",
              "  <style>\n",
              "    .colab-df-container {\n",
              "      display:flex;\n",
              "      flex-wrap:wrap;\n",
              "      gap: 12px;\n",
              "    }\n",
              "\n",
              "    .colab-df-convert {\n",
              "      background-color: #E8F0FE;\n",
              "      border: none;\n",
              "      border-radius: 50%;\n",
              "      cursor: pointer;\n",
              "      display: none;\n",
              "      fill: #1967D2;\n",
              "      height: 32px;\n",
              "      padding: 0 0 0 0;\n",
              "      width: 32px;\n",
              "    }\n",
              "\n",
              "    .colab-df-convert:hover {\n",
              "      background-color: #E2EBFA;\n",
              "      box-shadow: 0px 1px 2px rgba(60, 64, 67, 0.3), 0px 1px 3px 1px rgba(60, 64, 67, 0.15);\n",
              "      fill: #174EA6;\n",
              "    }\n",
              "\n",
              "    [theme=dark] .colab-df-convert {\n",
              "      background-color: #3B4455;\n",
              "      fill: #D2E3FC;\n",
              "    }\n",
              "\n",
              "    [theme=dark] .colab-df-convert:hover {\n",
              "      background-color: #434B5C;\n",
              "      box-shadow: 0px 1px 3px 1px rgba(0, 0, 0, 0.15);\n",
              "      filter: drop-shadow(0px 1px 2px rgba(0, 0, 0, 0.3));\n",
              "      fill: #FFFFFF;\n",
              "    }\n",
              "  </style>\n",
              "\n",
              "      <script>\n",
              "        const buttonEl =\n",
              "          document.querySelector('#df-9efc878b-9bf2-40b4-b51a-1d84cb98f963 button.colab-df-convert');\n",
              "        buttonEl.style.display =\n",
              "          google.colab.kernel.accessAllowed ? 'block' : 'none';\n",
              "\n",
              "        async function convertToInteractive(key) {\n",
              "          const element = document.querySelector('#df-9efc878b-9bf2-40b4-b51a-1d84cb98f963');\n",
              "          const dataTable =\n",
              "            await google.colab.kernel.invokeFunction('convertToInteractive',\n",
              "                                                     [key], {});\n",
              "          if (!dataTable) return;\n",
              "\n",
              "          const docLinkHtml = 'Like what you see? Visit the ' +\n",
              "            '<a target=\"_blank\" href=https://colab.research.google.com/notebooks/data_table.ipynb>data table notebook</a>'\n",
              "            + ' to learn more about interactive tables.';\n",
              "          element.innerHTML = '';\n",
              "          dataTable['output_type'] = 'display_data';\n",
              "          await google.colab.output.renderOutput(dataTable, element);\n",
              "          const docLink = document.createElement('div');\n",
              "          docLink.innerHTML = docLinkHtml;\n",
              "          element.appendChild(docLink);\n",
              "        }\n",
              "      </script>\n",
              "    </div>\n",
              "  </div>\n",
              "  "
            ]
          },
          "metadata": {},
          "execution_count": 62
        }
      ],
      "source": [
        "group_by_currentSmoker = heart.groupby(\"currentSmoker\").agg({\"male\":\"count\",\"age\":\"mean\", \"cigsPerDay\":\"mean\", \"BPMeds\": \"sum\",\n",
        "                                                              \"prevalentStroke\":\"sum\", \"prevalentHyp\":\"sum\", \"diabetes\":\"sum\",\n",
        "                                                              \"totChol\":\"mean\", \"BMI\":\"mean\", \"heartRate\":\"mean\", \"glucose\":\"mean\",\n",
        "                                                              \"TenYearCHD\":\"sum\"}).round(1)\n",
        "group_by_currentSmoker.transpose()\n"
      ]
    },
    {
      "cell_type": "markdown",
      "metadata": {
        "id": "6Ve7XB0okyLe"
      },
      "source": [
        "**Observation:**\n",
        "1. There are 1868 non-smokers and 1788 smokers\n",
        "2. There are 272 non smokers with TenYearCHD and 285 smokers with TenYearCHD\n",
        "3. The median age in the group of non-smokers approximately 51 \n",
        "4. The median age in the group of smokers is approximately 47\n",
        "5. There are more nonsmokers on BPMeds than smokers on BPMeds\n",
        "6. There are also more diabetic nonsmokers than diabetic smokers\n",
        "7. There are non-smokers with prevalent hypertension and stroke than smokers\n",
        "\n",
        "Gender and Age could be subdivided into more groups to see association with TenYearCHD"
      ]
    },
    {
      "cell_type": "code",
      "execution_count": 63,
      "metadata": {
        "id": "64qlhvrUrCSJ",
        "colab": {
          "base_uri": "https://localhost:8080/",
          "height": 426
        },
        "outputId": "4a4cc699-3aba-4120-853c-c7757ad44900"
      },
      "outputs": [
        {
          "output_type": "execute_result",
          "data": {
            "text/plain": [
              "currentSmoker             0                       1            \n",
              "male                      0           1           0           1\n",
              "age               51.594947   50.803432   46.929368   48.356779\n",
              "cigsPerDay         0.000000    0.000000   13.855019   22.226300\n",
              "BPMeds            54.000000   19.000000   24.000000   14.000000\n",
              "prevalentStroke   10.000000    6.000000    2.000000    3.000000\n",
              "prevalentHyp     457.000000  216.000000  176.000000  290.000000\n",
              "diabetes          34.000000   29.000000   17.000000   19.000000\n",
              "totChol          243.171964  231.241810  234.265180  234.819572\n",
              "BMI               26.213456   26.812059   24.464758   25.661040\n",
              "heartRate         76.665852   72.216849   77.407683   75.477064\n",
              "glucose           82.647107   83.978159   80.489467   80.604485\n",
              "TenYearCHD       162.000000  110.000000   88.000000  197.000000"
            ],
            "text/html": [
              "\n",
              "  <div id=\"df-3b41ff26-1b5c-4c16-a875-83f63a732c2f\">\n",
              "    <div class=\"colab-df-container\">\n",
              "      <div>\n",
              "<style scoped>\n",
              "    .dataframe tbody tr th:only-of-type {\n",
              "        vertical-align: middle;\n",
              "    }\n",
              "\n",
              "    .dataframe tbody tr th {\n",
              "        vertical-align: top;\n",
              "    }\n",
              "\n",
              "    .dataframe thead tr th {\n",
              "        text-align: left;\n",
              "    }\n",
              "</style>\n",
              "<table border=\"1\" class=\"dataframe\">\n",
              "  <thead>\n",
              "    <tr>\n",
              "      <th>currentSmoker</th>\n",
              "      <th colspan=\"2\" halign=\"left\">0</th>\n",
              "      <th colspan=\"2\" halign=\"left\">1</th>\n",
              "    </tr>\n",
              "    <tr>\n",
              "      <th>male</th>\n",
              "      <th>0</th>\n",
              "      <th>1</th>\n",
              "      <th>0</th>\n",
              "      <th>1</th>\n",
              "    </tr>\n",
              "  </thead>\n",
              "  <tbody>\n",
              "    <tr>\n",
              "      <th>age</th>\n",
              "      <td>51.594947</td>\n",
              "      <td>50.803432</td>\n",
              "      <td>46.929368</td>\n",
              "      <td>48.356779</td>\n",
              "    </tr>\n",
              "    <tr>\n",
              "      <th>cigsPerDay</th>\n",
              "      <td>0.000000</td>\n",
              "      <td>0.000000</td>\n",
              "      <td>13.855019</td>\n",
              "      <td>22.226300</td>\n",
              "    </tr>\n",
              "    <tr>\n",
              "      <th>BPMeds</th>\n",
              "      <td>54.000000</td>\n",
              "      <td>19.000000</td>\n",
              "      <td>24.000000</td>\n",
              "      <td>14.000000</td>\n",
              "    </tr>\n",
              "    <tr>\n",
              "      <th>prevalentStroke</th>\n",
              "      <td>10.000000</td>\n",
              "      <td>6.000000</td>\n",
              "      <td>2.000000</td>\n",
              "      <td>3.000000</td>\n",
              "    </tr>\n",
              "    <tr>\n",
              "      <th>prevalentHyp</th>\n",
              "      <td>457.000000</td>\n",
              "      <td>216.000000</td>\n",
              "      <td>176.000000</td>\n",
              "      <td>290.000000</td>\n",
              "    </tr>\n",
              "    <tr>\n",
              "      <th>diabetes</th>\n",
              "      <td>34.000000</td>\n",
              "      <td>29.000000</td>\n",
              "      <td>17.000000</td>\n",
              "      <td>19.000000</td>\n",
              "    </tr>\n",
              "    <tr>\n",
              "      <th>totChol</th>\n",
              "      <td>243.171964</td>\n",
              "      <td>231.241810</td>\n",
              "      <td>234.265180</td>\n",
              "      <td>234.819572</td>\n",
              "    </tr>\n",
              "    <tr>\n",
              "      <th>BMI</th>\n",
              "      <td>26.213456</td>\n",
              "      <td>26.812059</td>\n",
              "      <td>24.464758</td>\n",
              "      <td>25.661040</td>\n",
              "    </tr>\n",
              "    <tr>\n",
              "      <th>heartRate</th>\n",
              "      <td>76.665852</td>\n",
              "      <td>72.216849</td>\n",
              "      <td>77.407683</td>\n",
              "      <td>75.477064</td>\n",
              "    </tr>\n",
              "    <tr>\n",
              "      <th>glucose</th>\n",
              "      <td>82.647107</td>\n",
              "      <td>83.978159</td>\n",
              "      <td>80.489467</td>\n",
              "      <td>80.604485</td>\n",
              "    </tr>\n",
              "    <tr>\n",
              "      <th>TenYearCHD</th>\n",
              "      <td>162.000000</td>\n",
              "      <td>110.000000</td>\n",
              "      <td>88.000000</td>\n",
              "      <td>197.000000</td>\n",
              "    </tr>\n",
              "  </tbody>\n",
              "</table>\n",
              "</div>\n",
              "      <button class=\"colab-df-convert\" onclick=\"convertToInteractive('df-3b41ff26-1b5c-4c16-a875-83f63a732c2f')\"\n",
              "              title=\"Convert this dataframe to an interactive table.\"\n",
              "              style=\"display:none;\">\n",
              "        \n",
              "  <svg xmlns=\"http://www.w3.org/2000/svg\" height=\"24px\"viewBox=\"0 0 24 24\"\n",
              "       width=\"24px\">\n",
              "    <path d=\"M0 0h24v24H0V0z\" fill=\"none\"/>\n",
              "    <path d=\"M18.56 5.44l.94 2.06.94-2.06 2.06-.94-2.06-.94-.94-2.06-.94 2.06-2.06.94zm-11 1L8.5 8.5l.94-2.06 2.06-.94-2.06-.94L8.5 2.5l-.94 2.06-2.06.94zm10 10l.94 2.06.94-2.06 2.06-.94-2.06-.94-.94-2.06-.94 2.06-2.06.94z\"/><path d=\"M17.41 7.96l-1.37-1.37c-.4-.4-.92-.59-1.43-.59-.52 0-1.04.2-1.43.59L10.3 9.45l-7.72 7.72c-.78.78-.78 2.05 0 2.83L4 21.41c.39.39.9.59 1.41.59.51 0 1.02-.2 1.41-.59l7.78-7.78 2.81-2.81c.8-.78.8-2.07 0-2.86zM5.41 20L4 18.59l7.72-7.72 1.47 1.35L5.41 20z\"/>\n",
              "  </svg>\n",
              "      </button>\n",
              "      \n",
              "  <style>\n",
              "    .colab-df-container {\n",
              "      display:flex;\n",
              "      flex-wrap:wrap;\n",
              "      gap: 12px;\n",
              "    }\n",
              "\n",
              "    .colab-df-convert {\n",
              "      background-color: #E8F0FE;\n",
              "      border: none;\n",
              "      border-radius: 50%;\n",
              "      cursor: pointer;\n",
              "      display: none;\n",
              "      fill: #1967D2;\n",
              "      height: 32px;\n",
              "      padding: 0 0 0 0;\n",
              "      width: 32px;\n",
              "    }\n",
              "\n",
              "    .colab-df-convert:hover {\n",
              "      background-color: #E2EBFA;\n",
              "      box-shadow: 0px 1px 2px rgba(60, 64, 67, 0.3), 0px 1px 3px 1px rgba(60, 64, 67, 0.15);\n",
              "      fill: #174EA6;\n",
              "    }\n",
              "\n",
              "    [theme=dark] .colab-df-convert {\n",
              "      background-color: #3B4455;\n",
              "      fill: #D2E3FC;\n",
              "    }\n",
              "\n",
              "    [theme=dark] .colab-df-convert:hover {\n",
              "      background-color: #434B5C;\n",
              "      box-shadow: 0px 1px 3px 1px rgba(0, 0, 0, 0.15);\n",
              "      filter: drop-shadow(0px 1px 2px rgba(0, 0, 0, 0.3));\n",
              "      fill: #FFFFFF;\n",
              "    }\n",
              "  </style>\n",
              "\n",
              "      <script>\n",
              "        const buttonEl =\n",
              "          document.querySelector('#df-3b41ff26-1b5c-4c16-a875-83f63a732c2f button.colab-df-convert');\n",
              "        buttonEl.style.display =\n",
              "          google.colab.kernel.accessAllowed ? 'block' : 'none';\n",
              "\n",
              "        async function convertToInteractive(key) {\n",
              "          const element = document.querySelector('#df-3b41ff26-1b5c-4c16-a875-83f63a732c2f');\n",
              "          const dataTable =\n",
              "            await google.colab.kernel.invokeFunction('convertToInteractive',\n",
              "                                                     [key], {});\n",
              "          if (!dataTable) return;\n",
              "\n",
              "          const docLinkHtml = 'Like what you see? Visit the ' +\n",
              "            '<a target=\"_blank\" href=https://colab.research.google.com/notebooks/data_table.ipynb>data table notebook</a>'\n",
              "            + ' to learn more about interactive tables.';\n",
              "          element.innerHTML = '';\n",
              "          dataTable['output_type'] = 'display_data';\n",
              "          await google.colab.output.renderOutput(dataTable, element);\n",
              "          const docLink = document.createElement('div');\n",
              "          docLink.innerHTML = docLinkHtml;\n",
              "          element.appendChild(docLink);\n",
              "        }\n",
              "      </script>\n",
              "    </div>\n",
              "  </div>\n",
              "  "
            ]
          },
          "metadata": {},
          "execution_count": 63
        }
      ],
      "source": [
        "group_by_gender = heart.groupby([\"currentSmoker\", \"male\"]).agg({\"age\":\"mean\", \"cigsPerDay\":\"mean\", \"BPMeds\": \"sum\",\n",
        "                                                              \"prevalentStroke\":\"sum\", \"prevalentHyp\":\"sum\", \"diabetes\":\"sum\",\n",
        "                                                              \"totChol\":\"mean\", \"BMI\":\"mean\", \"heartRate\":\"mean\", \"glucose\":\"mean\",\n",
        "                                                              \"TenYearCHD\":\"sum\"})\n",
        "group_by_gender.transpose()"
      ]
    },
    {
      "cell_type": "markdown",
      "metadata": {
        "id": "swjoXtNullRr"
      },
      "source": [
        "Could there be relationship between Age and currentSmoker, Gender and currentSmoker, also Age and TenYearCHD, and Gender and TenYearCHD?\n",
        "\n",
        "* We see from the data that male patients that smoke and are younger than 50 years have higher number of TenYearCHD than male patients who are above 50 years and don't smoke.\n",
        "\n",
        "* On the other hand, female patients that don't smoke and are above 50 years have a higher number of TenYearCHD compared to females who smoke and are below 50 years of age\n",
        "\n",
        "* Consider females above the age of 50 and dont smoke and males who are younger than 50 and smoke, first group have more patients on BPMeds compared to the latter group, which has the least amount of people on BPMeds"
      ]
    },
    {
      "cell_type": "markdown",
      "metadata": {
        "id": "rU7odWVE0KK2"
      },
      "source": [
        "Check for Confounding variable in the dataset\n",
        "\n",
        "What is Confounding?\n",
        "* A confounding variable is an unmeasured third variable that influences both the supposed cause and the supposed effect.\n",
        ">reference: https://www.scribbr.com/methodology/confounding-variables/\n",
        "\n",
        "* Confounding variables cause distortion in the association between an exposure and health outcome\n",
        "> reference: https://sph.unc.edu/wp-content/uploads/sites/112/2015/07/nciph_ERIC11.pdf\n",
        "\n",
        "* Exposure = Causes, HealthOutcome = Effect\n",
        "\n",
        "* For this project, we will consider one of the exposure which is Smoking and the Health Outcome = TenYearCHD"
      ]
    },
    {
      "cell_type": "markdown",
      "metadata": {
        "id": "8LpB7--J2he-"
      },
      "source": [
        "**Identifying Confounding Variables**\n",
        "\n",
        "Conditions for Confounding:\n",
        "1. The confounding factor must be associated with both the risk factor of interest and the outcome.\n",
        "2. The confounding factor must be distributed unequally among the groups being compared.\n",
        "3. A confounder cannot be an intermediary step in the causal pathway from the exposure of interest to the outcome of interest.\n",
        "\n",
        "Through Observation,\n",
        "Age and Gender satisfy these conditions"
      ]
    },
    {
      "cell_type": "markdown",
      "metadata": {
        "id": "uNAhXq0nIotl"
      },
      "source": [
        "Visual Check for Age as a confounder"
      ]
    },
    {
      "cell_type": "code",
      "execution_count": 64,
      "metadata": {
        "id": "yqZjSIRqID7L"
      },
      "outputs": [],
      "source": [
        "heart_by_ageClass = pd.read_csv(\"framingham.csv\")\n",
        "heart_by_ageClass.dropna(axis=0, inplace=True)"
      ]
    },
    {
      "cell_type": "code",
      "execution_count": 65,
      "metadata": {
        "id": "KJapVT2fOF8V"
      },
      "outputs": [],
      "source": [
        "age_grp_bin = [ 0,math.trunc(heart_by_ageClass[\"age\"].mean()), 100]\n",
        "age_class = [\"< 50\", \">=50\"]\n",
        "\n",
        "heart_by_ageClass[\"age_grp\"] = pd.cut(heart_by_ageClass[\"age\"], bins= age_grp_bin, labels=age_class)"
      ]
    },
    {
      "cell_type": "markdown",
      "metadata": {
        "id": "-Hsuclr-RiQY"
      },
      "source": [
        "**Condition 1: The confounding factor must be associated with both the risk factor of interest and the outcome**"
      ]
    },
    {
      "cell_type": "markdown",
      "metadata": {
        "id": "x_iiWzRrQKeX"
      },
      "source": [
        "Association between Age and TenYearCHD"
      ]
    },
    {
      "cell_type": "code",
      "execution_count": 66,
      "metadata": {
        "id": "EmRn_wJoL-F5",
        "colab": {
          "base_uri": "https://localhost:8080/",
          "height": 143
        },
        "outputId": "f7d41737-9f4a-40ed-da5a-31373aea44e9"
      },
      "outputs": [
        {
          "output_type": "execute_result",
          "data": {
            "text/plain": [
              "         TenYearCHD\n",
              "age_grp            \n",
              "< 50            159\n",
              ">=50            398"
            ],
            "text/html": [
              "\n",
              "  <div id=\"df-a229ed30-36e7-444f-b7b5-ba243a95f4bd\">\n",
              "    <div class=\"colab-df-container\">\n",
              "      <div>\n",
              "<style scoped>\n",
              "    .dataframe tbody tr th:only-of-type {\n",
              "        vertical-align: middle;\n",
              "    }\n",
              "\n",
              "    .dataframe tbody tr th {\n",
              "        vertical-align: top;\n",
              "    }\n",
              "\n",
              "    .dataframe thead th {\n",
              "        text-align: right;\n",
              "    }\n",
              "</style>\n",
              "<table border=\"1\" class=\"dataframe\">\n",
              "  <thead>\n",
              "    <tr style=\"text-align: right;\">\n",
              "      <th></th>\n",
              "      <th>TenYearCHD</th>\n",
              "    </tr>\n",
              "    <tr>\n",
              "      <th>age_grp</th>\n",
              "      <th></th>\n",
              "    </tr>\n",
              "  </thead>\n",
              "  <tbody>\n",
              "    <tr>\n",
              "      <th>&lt; 50</th>\n",
              "      <td>159</td>\n",
              "    </tr>\n",
              "    <tr>\n",
              "      <th>&gt;=50</th>\n",
              "      <td>398</td>\n",
              "    </tr>\n",
              "  </tbody>\n",
              "</table>\n",
              "</div>\n",
              "      <button class=\"colab-df-convert\" onclick=\"convertToInteractive('df-a229ed30-36e7-444f-b7b5-ba243a95f4bd')\"\n",
              "              title=\"Convert this dataframe to an interactive table.\"\n",
              "              style=\"display:none;\">\n",
              "        \n",
              "  <svg xmlns=\"http://www.w3.org/2000/svg\" height=\"24px\"viewBox=\"0 0 24 24\"\n",
              "       width=\"24px\">\n",
              "    <path d=\"M0 0h24v24H0V0z\" fill=\"none\"/>\n",
              "    <path d=\"M18.56 5.44l.94 2.06.94-2.06 2.06-.94-2.06-.94-.94-2.06-.94 2.06-2.06.94zm-11 1L8.5 8.5l.94-2.06 2.06-.94-2.06-.94L8.5 2.5l-.94 2.06-2.06.94zm10 10l.94 2.06.94-2.06 2.06-.94-2.06-.94-.94-2.06-.94 2.06-2.06.94z\"/><path d=\"M17.41 7.96l-1.37-1.37c-.4-.4-.92-.59-1.43-.59-.52 0-1.04.2-1.43.59L10.3 9.45l-7.72 7.72c-.78.78-.78 2.05 0 2.83L4 21.41c.39.39.9.59 1.41.59.51 0 1.02-.2 1.41-.59l7.78-7.78 2.81-2.81c.8-.78.8-2.07 0-2.86zM5.41 20L4 18.59l7.72-7.72 1.47 1.35L5.41 20z\"/>\n",
              "  </svg>\n",
              "      </button>\n",
              "      \n",
              "  <style>\n",
              "    .colab-df-container {\n",
              "      display:flex;\n",
              "      flex-wrap:wrap;\n",
              "      gap: 12px;\n",
              "    }\n",
              "\n",
              "    .colab-df-convert {\n",
              "      background-color: #E8F0FE;\n",
              "      border: none;\n",
              "      border-radius: 50%;\n",
              "      cursor: pointer;\n",
              "      display: none;\n",
              "      fill: #1967D2;\n",
              "      height: 32px;\n",
              "      padding: 0 0 0 0;\n",
              "      width: 32px;\n",
              "    }\n",
              "\n",
              "    .colab-df-convert:hover {\n",
              "      background-color: #E2EBFA;\n",
              "      box-shadow: 0px 1px 2px rgba(60, 64, 67, 0.3), 0px 1px 3px 1px rgba(60, 64, 67, 0.15);\n",
              "      fill: #174EA6;\n",
              "    }\n",
              "\n",
              "    [theme=dark] .colab-df-convert {\n",
              "      background-color: #3B4455;\n",
              "      fill: #D2E3FC;\n",
              "    }\n",
              "\n",
              "    [theme=dark] .colab-df-convert:hover {\n",
              "      background-color: #434B5C;\n",
              "      box-shadow: 0px 1px 3px 1px rgba(0, 0, 0, 0.15);\n",
              "      filter: drop-shadow(0px 1px 2px rgba(0, 0, 0, 0.3));\n",
              "      fill: #FFFFFF;\n",
              "    }\n",
              "  </style>\n",
              "\n",
              "      <script>\n",
              "        const buttonEl =\n",
              "          document.querySelector('#df-a229ed30-36e7-444f-b7b5-ba243a95f4bd button.colab-df-convert');\n",
              "        buttonEl.style.display =\n",
              "          google.colab.kernel.accessAllowed ? 'block' : 'none';\n",
              "\n",
              "        async function convertToInteractive(key) {\n",
              "          const element = document.querySelector('#df-a229ed30-36e7-444f-b7b5-ba243a95f4bd');\n",
              "          const dataTable =\n",
              "            await google.colab.kernel.invokeFunction('convertToInteractive',\n",
              "                                                     [key], {});\n",
              "          if (!dataTable) return;\n",
              "\n",
              "          const docLinkHtml = 'Like what you see? Visit the ' +\n",
              "            '<a target=\"_blank\" href=https://colab.research.google.com/notebooks/data_table.ipynb>data table notebook</a>'\n",
              "            + ' to learn more about interactive tables.';\n",
              "          element.innerHTML = '';\n",
              "          dataTable['output_type'] = 'display_data';\n",
              "          await google.colab.output.renderOutput(dataTable, element);\n",
              "          const docLink = document.createElement('div');\n",
              "          docLink.innerHTML = docLinkHtml;\n",
              "          element.appendChild(docLink);\n",
              "        }\n",
              "      </script>\n",
              "    </div>\n",
              "  </div>\n",
              "  "
            ]
          },
          "metadata": {},
          "execution_count": 66
        }
      ],
      "source": [
        "group_by_ageClass = heart_by_ageClass.groupby(\"age_grp\").agg({\"TenYearCHD\": \"sum\"})\n",
        "group_by_ageClass"
      ]
    },
    {
      "cell_type": "markdown",
      "metadata": {
        "id": "YlH-WWhAP2K4"
      },
      "source": [
        "**Observation:** \n",
        "* There are more patients with risk of TenYearCHD in older group than in the young group\n",
        "\n",
        "**There is a relationship between Age and TenYearCHD**"
      ]
    },
    {
      "cell_type": "markdown",
      "metadata": {
        "id": "NGy3yqr6P3Tf"
      },
      "source": [
        "Association between Age and Smoking"
      ]
    },
    {
      "cell_type": "code",
      "execution_count": 67,
      "metadata": {
        "id": "3d1WYdOIP3XB",
        "colab": {
          "base_uri": "https://localhost:8080/",
          "height": 143
        },
        "outputId": "5c272d0a-3996-4d0e-8e2f-031dbb1cbd6e"
      },
      "outputs": [
        {
          "output_type": "execute_result",
          "data": {
            "text/plain": [
              "         currentSmoker\n",
              "age_grp               \n",
              "< 50              1119\n",
              ">=50               669"
            ],
            "text/html": [
              "\n",
              "  <div id=\"df-0b5e9d23-dbf0-423d-86f5-f861f0125218\">\n",
              "    <div class=\"colab-df-container\">\n",
              "      <div>\n",
              "<style scoped>\n",
              "    .dataframe tbody tr th:only-of-type {\n",
              "        vertical-align: middle;\n",
              "    }\n",
              "\n",
              "    .dataframe tbody tr th {\n",
              "        vertical-align: top;\n",
              "    }\n",
              "\n",
              "    .dataframe thead th {\n",
              "        text-align: right;\n",
              "    }\n",
              "</style>\n",
              "<table border=\"1\" class=\"dataframe\">\n",
              "  <thead>\n",
              "    <tr style=\"text-align: right;\">\n",
              "      <th></th>\n",
              "      <th>currentSmoker</th>\n",
              "    </tr>\n",
              "    <tr>\n",
              "      <th>age_grp</th>\n",
              "      <th></th>\n",
              "    </tr>\n",
              "  </thead>\n",
              "  <tbody>\n",
              "    <tr>\n",
              "      <th>&lt; 50</th>\n",
              "      <td>1119</td>\n",
              "    </tr>\n",
              "    <tr>\n",
              "      <th>&gt;=50</th>\n",
              "      <td>669</td>\n",
              "    </tr>\n",
              "  </tbody>\n",
              "</table>\n",
              "</div>\n",
              "      <button class=\"colab-df-convert\" onclick=\"convertToInteractive('df-0b5e9d23-dbf0-423d-86f5-f861f0125218')\"\n",
              "              title=\"Convert this dataframe to an interactive table.\"\n",
              "              style=\"display:none;\">\n",
              "        \n",
              "  <svg xmlns=\"http://www.w3.org/2000/svg\" height=\"24px\"viewBox=\"0 0 24 24\"\n",
              "       width=\"24px\">\n",
              "    <path d=\"M0 0h24v24H0V0z\" fill=\"none\"/>\n",
              "    <path d=\"M18.56 5.44l.94 2.06.94-2.06 2.06-.94-2.06-.94-.94-2.06-.94 2.06-2.06.94zm-11 1L8.5 8.5l.94-2.06 2.06-.94-2.06-.94L8.5 2.5l-.94 2.06-2.06.94zm10 10l.94 2.06.94-2.06 2.06-.94-2.06-.94-.94-2.06-.94 2.06-2.06.94z\"/><path d=\"M17.41 7.96l-1.37-1.37c-.4-.4-.92-.59-1.43-.59-.52 0-1.04.2-1.43.59L10.3 9.45l-7.72 7.72c-.78.78-.78 2.05 0 2.83L4 21.41c.39.39.9.59 1.41.59.51 0 1.02-.2 1.41-.59l7.78-7.78 2.81-2.81c.8-.78.8-2.07 0-2.86zM5.41 20L4 18.59l7.72-7.72 1.47 1.35L5.41 20z\"/>\n",
              "  </svg>\n",
              "      </button>\n",
              "      \n",
              "  <style>\n",
              "    .colab-df-container {\n",
              "      display:flex;\n",
              "      flex-wrap:wrap;\n",
              "      gap: 12px;\n",
              "    }\n",
              "\n",
              "    .colab-df-convert {\n",
              "      background-color: #E8F0FE;\n",
              "      border: none;\n",
              "      border-radius: 50%;\n",
              "      cursor: pointer;\n",
              "      display: none;\n",
              "      fill: #1967D2;\n",
              "      height: 32px;\n",
              "      padding: 0 0 0 0;\n",
              "      width: 32px;\n",
              "    }\n",
              "\n",
              "    .colab-df-convert:hover {\n",
              "      background-color: #E2EBFA;\n",
              "      box-shadow: 0px 1px 2px rgba(60, 64, 67, 0.3), 0px 1px 3px 1px rgba(60, 64, 67, 0.15);\n",
              "      fill: #174EA6;\n",
              "    }\n",
              "\n",
              "    [theme=dark] .colab-df-convert {\n",
              "      background-color: #3B4455;\n",
              "      fill: #D2E3FC;\n",
              "    }\n",
              "\n",
              "    [theme=dark] .colab-df-convert:hover {\n",
              "      background-color: #434B5C;\n",
              "      box-shadow: 0px 1px 3px 1px rgba(0, 0, 0, 0.15);\n",
              "      filter: drop-shadow(0px 1px 2px rgba(0, 0, 0, 0.3));\n",
              "      fill: #FFFFFF;\n",
              "    }\n",
              "  </style>\n",
              "\n",
              "      <script>\n",
              "        const buttonEl =\n",
              "          document.querySelector('#df-0b5e9d23-dbf0-423d-86f5-f861f0125218 button.colab-df-convert');\n",
              "        buttonEl.style.display =\n",
              "          google.colab.kernel.accessAllowed ? 'block' : 'none';\n",
              "\n",
              "        async function convertToInteractive(key) {\n",
              "          const element = document.querySelector('#df-0b5e9d23-dbf0-423d-86f5-f861f0125218');\n",
              "          const dataTable =\n",
              "            await google.colab.kernel.invokeFunction('convertToInteractive',\n",
              "                                                     [key], {});\n",
              "          if (!dataTable) return;\n",
              "\n",
              "          const docLinkHtml = 'Like what you see? Visit the ' +\n",
              "            '<a target=\"_blank\" href=https://colab.research.google.com/notebooks/data_table.ipynb>data table notebook</a>'\n",
              "            + ' to learn more about interactive tables.';\n",
              "          element.innerHTML = '';\n",
              "          dataTable['output_type'] = 'display_data';\n",
              "          await google.colab.output.renderOutput(dataTable, element);\n",
              "          const docLink = document.createElement('div');\n",
              "          docLink.innerHTML = docLinkHtml;\n",
              "          element.appendChild(docLink);\n",
              "        }\n",
              "      </script>\n",
              "    </div>\n",
              "  </div>\n",
              "  "
            ]
          },
          "metadata": {},
          "execution_count": 67
        }
      ],
      "source": [
        "group_by_ageSmoker = heart_by_ageClass.groupby(\"age_grp\").agg({\"currentSmoker\": \"sum\"})\n",
        "group_by_ageSmoker"
      ]
    },
    {
      "cell_type": "markdown",
      "metadata": {
        "id": "Tm9SAsBQOGBN"
      },
      "source": [
        "**Observation**\n",
        "\n",
        "* There are almost twice as many young smokers below the mean age as there are older smokers above the mean age in the dataset\n",
        "\n",
        "**There is a relationship between Age and currentSmoker**"
      ]
    },
    {
      "cell_type": "markdown",
      "metadata": {
        "id": "rD3uEsNmQ9_3"
      },
      "source": [
        "**Conclusion:**\n",
        "\n",
        "* There seems to be a relationship between Age and Risk of TenYearCHD. \n",
        "* There is also a relationship between Age and Smoking\n",
        "* Condition 1 holds true for age"
      ]
    },
    {
      "cell_type": "markdown",
      "metadata": {
        "id": "5uUOnTYdSIZf"
      },
      "source": [
        "**Condition 2: The confounding factor must be distributed unequally among the groups being compared**\n",
        "* Check Age Distribution in the Dataset"
      ]
    },
    {
      "cell_type": "code",
      "execution_count": 69,
      "metadata": {
        "id": "1QHlwnEfOGFl",
        "colab": {
          "base_uri": "https://localhost:8080/",
          "height": 394
        },
        "outputId": "66d55734-cf11-4ba7-d4f7-442535334d0d"
      },
      "outputs": [
        {
          "output_type": "display_data",
          "data": {
            "text/plain": [
              "<Figure size 720x432 with 1 Axes>"
            ],
            "image/png": "[encoded data removed]"
          },
          "metadata": {
            "needs_background": "light"
          }
        }
      ],
      "source": [
        "plt.figure(figsize=(10, 6))\n",
        "ax2 = heart['age'].plot(kind='hist',sharex=True,sharey=True,title='Age Distribution', bins = 50, color = '#000080' )\n",
        "ax2.xaxis.set_tick_params(labelsize=14)\n",
        "ax2.yaxis.set_tick_params(labelsize=14)\n",
        "plt.savefig(\"abc.png\")\n",
        "\n"
      ]
    },
    {
      "cell_type": "markdown",
      "metadata": {
        "id": "42LC0SjvSNU3"
      },
      "source": [
        "**Conclusion:**\n",
        "\n",
        "* Condition 2 holds true"
      ]
    },
    {
      "cell_type": "markdown",
      "metadata": {
        "id": "d4dgprn2L0ZL"
      },
      "source": [
        "**Condition 3: A confounder cannot be an intermediary step in the causal pathway from the exposure of interest to the outcome of interest**"
      ]
    },
    {
      "cell_type": "code",
      "execution_count": 70,
      "metadata": {
        "id": "09EaAcquSuFM",
        "colab": {
          "base_uri": "https://localhost:8080/",
          "height": 112
        },
        "outputId": "193597ee-ad59-4784-fea0-3a768a773e40"
      },
      "outputs": [
        {
          "output_type": "execute_result",
          "data": {
            "text/plain": [
              "currentSmoker    0         1     \n",
              "age_grp       < 50 >=50 < 50 >=50\n",
              "TenYearCHD      46  226  113  172"
            ],
            "text/html": [
              "\n",
              "  <div id=\"df-c38353da-e2a2-4eb7-8d48-01ab68e8e27c\">\n",
              "    <div class=\"colab-df-container\">\n",
              "      <div>\n",
              "<style scoped>\n",
              "    .dataframe tbody tr th:only-of-type {\n",
              "        vertical-align: middle;\n",
              "    }\n",
              "\n",
              "    .dataframe tbody tr th {\n",
              "        vertical-align: top;\n",
              "    }\n",
              "\n",
              "    .dataframe thead tr th {\n",
              "        text-align: left;\n",
              "    }\n",
              "</style>\n",
              "<table border=\"1\" class=\"dataframe\">\n",
              "  <thead>\n",
              "    <tr>\n",
              "      <th>currentSmoker</th>\n",
              "      <th colspan=\"2\" halign=\"left\">0</th>\n",
              "      <th colspan=\"2\" halign=\"left\">1</th>\n",
              "    </tr>\n",
              "    <tr>\n",
              "      <th>age_grp</th>\n",
              "      <th>&lt; 50</th>\n",
              "      <th>&gt;=50</th>\n",
              "      <th>&lt; 50</th>\n",
              "      <th>&gt;=50</th>\n",
              "    </tr>\n",
              "  </thead>\n",
              "  <tbody>\n",
              "    <tr>\n",
              "      <th>TenYearCHD</th>\n",
              "      <td>46</td>\n",
              "      <td>226</td>\n",
              "      <td>113</td>\n",
              "      <td>172</td>\n",
              "    </tr>\n",
              "  </tbody>\n",
              "</table>\n",
              "</div>\n",
              "      <button class=\"colab-df-convert\" onclick=\"convertToInteractive('df-c38353da-e2a2-4eb7-8d48-01ab68e8e27c')\"\n",
              "              title=\"Convert this dataframe to an interactive table.\"\n",
              "              style=\"display:none;\">\n",
              "        \n",
              "  <svg xmlns=\"http://www.w3.org/2000/svg\" height=\"24px\"viewBox=\"0 0 24 24\"\n",
              "       width=\"24px\">\n",
              "    <path d=\"M0 0h24v24H0V0z\" fill=\"none\"/>\n",
              "    <path d=\"M18.56 5.44l.94 2.06.94-2.06 2.06-.94-2.06-.94-.94-2.06-.94 2.06-2.06.94zm-11 1L8.5 8.5l.94-2.06 2.06-.94-2.06-.94L8.5 2.5l-.94 2.06-2.06.94zm10 10l.94 2.06.94-2.06 2.06-.94-2.06-.94-.94-2.06-.94 2.06-2.06.94z\"/><path d=\"M17.41 7.96l-1.37-1.37c-.4-.4-.92-.59-1.43-.59-.52 0-1.04.2-1.43.59L10.3 9.45l-7.72 7.72c-.78.78-.78 2.05 0 2.83L4 21.41c.39.39.9.59 1.41.59.51 0 1.02-.2 1.41-.59l7.78-7.78 2.81-2.81c.8-.78.8-2.07 0-2.86zM5.41 20L4 18.59l7.72-7.72 1.47 1.35L5.41 20z\"/>\n",
              "  </svg>\n",
              "      </button>\n",
              "      \n",
              "  <style>\n",
              "    .colab-df-container {\n",
              "      display:flex;\n",
              "      flex-wrap:wrap;\n",
              "      gap: 12px;\n",
              "    }\n",
              "\n",
              "    .colab-df-convert {\n",
              "      background-color: #E8F0FE;\n",
              "      border: none;\n",
              "      border-radius: 50%;\n",
              "      cursor: pointer;\n",
              "      display: none;\n",
              "      fill: #1967D2;\n",
              "      height: 32px;\n",
              "      padding: 0 0 0 0;\n",
              "      width: 32px;\n",
              "    }\n",
              "\n",
              "    .colab-df-convert:hover {\n",
              "      background-color: #E2EBFA;\n",
              "      box-shadow: 0px 1px 2px rgba(60, 64, 67, 0.3), 0px 1px 3px 1px rgba(60, 64, 67, 0.15);\n",
              "      fill: #174EA6;\n",
              "    }\n",
              "\n",
              "    [theme=dark] .colab-df-convert {\n",
              "      background-color: #3B4455;\n",
              "      fill: #D2E3FC;\n",
              "    }\n",
              "\n",
              "    [theme=dark] .colab-df-convert:hover {\n",
              "      background-color: #434B5C;\n",
              "      box-shadow: 0px 1px 3px 1px rgba(0, 0, 0, 0.15);\n",
              "      filter: drop-shadow(0px 1px 2px rgba(0, 0, 0, 0.3));\n",
              "      fill: #FFFFFF;\n",
              "    }\n",
              "  </style>\n",
              "\n",
              "      <script>\n",
              "        const buttonEl =\n",
              "          document.querySelector('#df-c38353da-e2a2-4eb7-8d48-01ab68e8e27c button.colab-df-convert');\n",
              "        buttonEl.style.display =\n",
              "          google.colab.kernel.accessAllowed ? 'block' : 'none';\n",
              "\n",
              "        async function convertToInteractive(key) {\n",
              "          const element = document.querySelector('#df-c38353da-e2a2-4eb7-8d48-01ab68e8e27c');\n",
              "          const dataTable =\n",
              "            await google.colab.kernel.invokeFunction('convertToInteractive',\n",
              "                                                     [key], {});\n",
              "          if (!dataTable) return;\n",
              "\n",
              "          const docLinkHtml = 'Like what you see? Visit the ' +\n",
              "            '<a target=\"_blank\" href=https://colab.research.google.com/notebooks/data_table.ipynb>data table notebook</a>'\n",
              "            + ' to learn more about interactive tables.';\n",
              "          element.innerHTML = '';\n",
              "          dataTable['output_type'] = 'display_data';\n",
              "          await google.colab.output.renderOutput(dataTable, element);\n",
              "          const docLink = document.createElement('div');\n",
              "          docLink.innerHTML = docLinkHtml;\n",
              "          element.appendChild(docLink);\n",
              "        }\n",
              "      </script>\n",
              "    </div>\n",
              "  </div>\n",
              "  "
            ]
          },
          "metadata": {},
          "execution_count": 70
        }
      ],
      "source": [
        "grp_by_con3 = heart_by_ageClass.groupby([\"currentSmoker\", \"age_grp\"]).agg({\"TenYearCHD\": \"sum\"})\n",
        "grp_by_con3.transpose()"
      ]
    },
    {
      "cell_type": "markdown",
      "metadata": {
        "id": "uTKUjgBWSuKW"
      },
      "source": [
        "**Observation:**\n",
        "\n",
        "The addition of the age strata distorts the association between CurrentSmoker and TenYearCHD.\n",
        "\n",
        "By Observation, condition 3 holds true\n",
        "\n"
      ]
    },
    {
      "cell_type": "markdown",
      "metadata": {
        "id": "hoVkxp6_SuPJ"
      },
      "source": [
        "Identifying Confounding through Measure of Association\n",
        "\n",
        "A \"measure of association\" quantifies the relationship between exposure(cause) and outcome(effect) among two groups. \n",
        "> reference: https://www.cdc.gov/csels/dsepd/ss1978/lesson3/section5.html#:~:text=A%20measure%20of%20association%20quantifies,disease%20among%20the%20two%20groups.\n",
        "\n"
      ]
    },
    {
      "cell_type": "markdown",
      "metadata": {
        "id": "1fl94AEVSuUC"
      },
      "source": [
        "![Magnitude of Confounding.png](data:image/png;base64,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)"
      ]
    },
    {
      "cell_type": "markdown",
      "metadata": {
        "id": "MForPexpVyah"
      },
      "source": [
        "Magnitude of Confounding is the percentage difference in the crude(or unadjusted) and adjusted measure of association for confounding.\n",
        "\n",
        "RR = Risk Ratio of Relative Risk = compares the risk of a health event  among one group with the risk among another group\n",
        "\n",
        "Note: Risk Ratio is also known as Measure of Association\n",
        "\n",
        "RR_adjusted in the equation above is derived from the Mantel-Haenszel formula for Risk Ratio"
      ]
    },
    {
      "cell_type": "markdown",
      "metadata": {
        "id": "owejN1cp80D0"
      },
      "source": [
        "What is the Mantel-Haenszel Equation:\n",
        "\n",
        "The Mantel-Haenszel formula allows calculation of an overall, unconfounded (adjusted) effect estimate of a given exposure for a specific outcome by combining (pooling) stratum-specific odds ratios (OR) or relative risks (RR). \n",
        "\n",
        "It is a technique that generates an estimate of an association between an exposure and an outcome after adjusting for or taking into account confounding.\n",
        "\n",
        "In simpler terms, it is the weighted averages of the stratum-specific estimates\n",
        "\n",
        "Reference: \n",
        "* https://communitymedicine4all.com/2021/12/23/stratification-for-confounding-calculating-pooled-odds-ratio-mantel-haenszel-formula/#:~:text=The%20Mantel%2DHaenszel%20formula%20allows,or%20relative%20risks%20(RR).\n",
        "\n",
        "* https://sphweb.bumc.bu.edu/otlt/mph-modules/bs/bs704-ep713_confounding-em/BS704-EP713_Confounding-EM7.html"
      ]
    },
    {
      "cell_type": "markdown",
      "metadata": {
        "id": "FTa1zXPk96-v"
      },
      "source": [
        "Using Measure of Association, the following are the conditions for Confounding:\n",
        "\n",
        "If Uncounfouding exist, the strata-specific Risk Ratio will be equal to the Crude Risk Ratio. Also the percentage in the Crude and Adjusted Risk Ratio will be equal to zero"
      ]
    },
    {
      "cell_type": "markdown",
      "metadata": {
        "id": "F0QE7jHeSudj"
      },
      "source": [
        "Approach:\n",
        "1. Group crude data into exposed(Smokers) and unexposed (NonSmokers)\n",
        "2. Stratify Grouped Data by the Confounder Variable\n",
        "3. Compute Strata-Specific Risk Ratio for both groups \n",
        "4. Calculate Adjusted Risk Ratio and compute magnitude of effect"
      ]
    },
    {
      "cell_type": "code",
      "execution_count": 71,
      "metadata": {
        "id": "oTmSQ5pdSuiu",
        "colab": {
          "base_uri": "https://localhost:8080/",
          "height": 143
        },
        "outputId": "812973a2-763a-43ae-e7b2-fa34425f6eef"
      },
      "outputs": [
        {
          "output_type": "execute_result",
          "data": {
            "text/plain": [
              "           TenYearCHD  NoTenYearCHD  total\n",
              "Smoker            285          1503   1788\n",
              "NonSmoker         272          1596   1868\n",
              "Total             557          3099   3656"
            ],
            "text/html": [
              "\n",
              "  <div id=\"df-23d95182-cbc8-4ade-999b-73f4095c39d6\">\n",
              "    <div class=\"colab-df-container\">\n",
              "      <div>\n",
              "<style scoped>\n",
              "    .dataframe tbody tr th:only-of-type {\n",
              "        vertical-align: middle;\n",
              "    }\n",
              "\n",
              "    .dataframe tbody tr th {\n",
              "        vertical-align: top;\n",
              "    }\n",
              "\n",
              "    .dataframe thead th {\n",
              "        text-align: right;\n",
              "    }\n",
              "</style>\n",
              "<table border=\"1\" class=\"dataframe\">\n",
              "  <thead>\n",
              "    <tr style=\"text-align: right;\">\n",
              "      <th></th>\n",
              "      <th>TenYearCHD</th>\n",
              "      <th>NoTenYearCHD</th>\n",
              "      <th>total</th>\n",
              "    </tr>\n",
              "  </thead>\n",
              "  <tbody>\n",
              "    <tr>\n",
              "      <th>Smoker</th>\n",
              "      <td>285</td>\n",
              "      <td>1503</td>\n",
              "      <td>1788</td>\n",
              "    </tr>\n",
              "    <tr>\n",
              "      <th>NonSmoker</th>\n",
              "      <td>272</td>\n",
              "      <td>1596</td>\n",
              "      <td>1868</td>\n",
              "    </tr>\n",
              "    <tr>\n",
              "      <th>Total</th>\n",
              "      <td>557</td>\n",
              "      <td>3099</td>\n",
              "      <td>3656</td>\n",
              "    </tr>\n",
              "  </tbody>\n",
              "</table>\n",
              "</div>\n",
              "      <button class=\"colab-df-convert\" onclick=\"convertToInteractive('df-23d95182-cbc8-4ade-999b-73f4095c39d6')\"\n",
              "              title=\"Convert this dataframe to an interactive table.\"\n",
              "              style=\"display:none;\">\n",
              "        \n",
              "  <svg xmlns=\"http://www.w3.org/2000/svg\" height=\"24px\"viewBox=\"0 0 24 24\"\n",
              "       width=\"24px\">\n",
              "    <path d=\"M0 0h24v24H0V0z\" fill=\"none\"/>\n",
              "    <path d=\"M18.56 5.44l.94 2.06.94-2.06 2.06-.94-2.06-.94-.94-2.06-.94 2.06-2.06.94zm-11 1L8.5 8.5l.94-2.06 2.06-.94-2.06-.94L8.5 2.5l-.94 2.06-2.06.94zm10 10l.94 2.06.94-2.06 2.06-.94-2.06-.94-.94-2.06-.94 2.06-2.06.94z\"/><path d=\"M17.41 7.96l-1.37-1.37c-.4-.4-.92-.59-1.43-.59-.52 0-1.04.2-1.43.59L10.3 9.45l-7.72 7.72c-.78.78-.78 2.05 0 2.83L4 21.41c.39.39.9.59 1.41.59.51 0 1.02-.2 1.41-.59l7.78-7.78 2.81-2.81c.8-.78.8-2.07 0-2.86zM5.41 20L4 18.59l7.72-7.72 1.47 1.35L5.41 20z\"/>\n",
              "  </svg>\n",
              "      </button>\n",
              "      \n",
              "  <style>\n",
              "    .colab-df-container {\n",
              "      display:flex;\n",
              "      flex-wrap:wrap;\n",
              "      gap: 12px;\n",
              "    }\n",
              "\n",
              "    .colab-df-convert {\n",
              "      background-color: #E8F0FE;\n",
              "      border: none;\n",
              "      border-radius: 50%;\n",
              "      cursor: pointer;\n",
              "      display: none;\n",
              "      fill: #1967D2;\n",
              "      height: 32px;\n",
              "      padding: 0 0 0 0;\n",
              "      width: 32px;\n",
              "    }\n",
              "\n",
              "    .colab-df-convert:hover {\n",
              "      background-color: #E2EBFA;\n",
              "      box-shadow: 0px 1px 2px rgba(60, 64, 67, 0.3), 0px 1px 3px 1px rgba(60, 64, 67, 0.15);\n",
              "      fill: #174EA6;\n",
              "    }\n",
              "\n",
              "    [theme=dark] .colab-df-convert {\n",
              "      background-color: #3B4455;\n",
              "      fill: #D2E3FC;\n",
              "    }\n",
              "\n",
              "    [theme=dark] .colab-df-convert:hover {\n",
              "      background-color: #434B5C;\n",
              "      box-shadow: 0px 1px 3px 1px rgba(0, 0, 0, 0.15);\n",
              "      filter: drop-shadow(0px 1px 2px rgba(0, 0, 0, 0.3));\n",
              "      fill: #FFFFFF;\n",
              "    }\n",
              "  </style>\n",
              "\n",
              "      <script>\n",
              "        const buttonEl =\n",
              "          document.querySelector('#df-23d95182-cbc8-4ade-999b-73f4095c39d6 button.colab-df-convert');\n",
              "        buttonEl.style.display =\n",
              "          google.colab.kernel.accessAllowed ? 'block' : 'none';\n",
              "\n",
              "        async function convertToInteractive(key) {\n",
              "          const element = document.querySelector('#df-23d95182-cbc8-4ade-999b-73f4095c39d6');\n",
              "          const dataTable =\n",
              "            await google.colab.kernel.invokeFunction('convertToInteractive',\n",
              "                                                     [key], {});\n",
              "          if (!dataTable) return;\n",
              "\n",
              "          const docLinkHtml = 'Like what you see? Visit the ' +\n",
              "            '<a target=\"_blank\" href=https://colab.research.google.com/notebooks/data_table.ipynb>data table notebook</a>'\n",
              "            + ' to learn more about interactive tables.';\n",
              "          element.innerHTML = '';\n",
              "          dataTable['output_type'] = 'display_data';\n",
              "          await google.colab.output.renderOutput(dataTable, element);\n",
              "          const docLink = document.createElement('div');\n",
              "          docLink.innerHTML = docLinkHtml;\n",
              "          element.appendChild(docLink);\n",
              "        }\n",
              "      </script>\n",
              "    </div>\n",
              "  </div>\n",
              "  "
            ]
          },
          "metadata": {},
          "execution_count": 71
        }
      ],
      "source": [
        "#Grouping the Data\n",
        "a = len(heart[(heart[\"currentSmoker\"]==1)&(heart[\"TenYearCHD\"]==1)])\n",
        "b = len(heart[(heart[\"currentSmoker\"]==1) & (heart[\"TenYearCHD\"]==0)])\n",
        "c = len(heart[(heart[\"currentSmoker\"]==0) & (heart[\"TenYearCHD\"] == 1)])\n",
        "d = len(heart[(heart[\"currentSmoker\"]==0) & (heart[\"TenYearCHD\"] == 0)])\n",
        "\n",
        "tot_r1 = a+b\n",
        "tot_r2 = c+d\n",
        "tot_c1 = a+c\n",
        "tot_c2 = b+d\n",
        "tot_c3 = tot_r1 + tot_r2\n",
        "\n",
        "unadjusted_ana = pd.DataFrame([[a, b, tot_r1], [c, d, tot_r2], [tot_c1, tot_c2, tot_c3]], \n",
        "                              columns = [\"TenYearCHD\", \"NoTenYearCHD\", \"total\"], \n",
        "                              index = [\"Smoker\", \"NonSmoker\", \"Total\"])\n",
        "unadjusted_ana"
      ]
    },
    {
      "cell_type": "code",
      "execution_count": 72,
      "metadata": {
        "id": "HnMq7IM0aBxz",
        "colab": {
          "base_uri": "https://localhost:8080/"
        },
        "outputId": "097a8da6-a63f-4d27-9fd6-64aa79996035"
      },
      "outputs": [
        {
          "output_type": "execute_result",
          "data": {
            "text/plain": [
              "1.0946752862218714"
            ]
          },
          "metadata": {},
          "execution_count": 72
        }
      ],
      "source": [
        "crude_RiskRatio = (unadjusted_ana[\"TenYearCHD\"][\"Smoker\"]/ unadjusted_ana[\"total\"][\"Smoker\"]) / (unadjusted_ana[\"TenYearCHD\"][\"NonSmoker\"]/ unadjusted_ana[\"total\"][\"NonSmoker\"])\n",
        "crude_RiskRatio"
      ]
    },
    {
      "cell_type": "markdown",
      "metadata": {
        "id": "REEtdknZeiG_"
      },
      "source": [
        "Crude Risk Ratio = 1.09\n",
        "\n",
        "This means that, in the dataset, the risk of Coronary Heart Disease in 10 years is slightly greater by 1.09 times the risk of TenYearCHD for people who don't smoke."
      ]
    },
    {
      "cell_type": "markdown",
      "metadata": {
        "id": "OYK6qAMDhgnz"
      },
      "source": [
        "Stratify the data by the Confounding Variable Age"
      ]
    },
    {
      "cell_type": "code",
      "execution_count": 73,
      "metadata": {
        "id": "MYbW7wafj9x3"
      },
      "outputs": [],
      "source": [
        "heart_young = heart[heart[\"age\"] < 50]\n",
        "heart_old = heart[heart[\"age\"] >= 50]"
      ]
    },
    {
      "cell_type": "markdown",
      "metadata": {
        "id": "KlVNgqg70bpR"
      },
      "source": [
        "Young People (<50 years)"
      ]
    },
    {
      "cell_type": "code",
      "execution_count": 77,
      "metadata": {
        "id": "2sCLV0reup9P",
        "colab": {
          "base_uri": "https://localhost:8080/",
          "height": 143
        },
        "outputId": "04f90c6a-928b-4aeb-df18-d4c92b52e2fe"
      },
      "outputs": [
        {
          "output_type": "execute_result",
          "data": {
            "text/plain": [
              "           TenYearCHD_Young  NoTenYearCHD_Young  Total_Young\n",
              "Smoker                  113                1006         1119\n",
              "NonSmoker                46                 752          798\n",
              "Total                   159                1758         1917"
            ],
            "text/html": [
              "\n",
              "  <div id=\"df-f788bf53-ca1c-46ec-bb69-41696d4b9523\">\n",
              "    <div class=\"colab-df-container\">\n",
              "      <div>\n",
              "<style scoped>\n",
              "    .dataframe tbody tr th:only-of-type {\n",
              "        vertical-align: middle;\n",
              "    }\n",
              "\n",
              "    .dataframe tbody tr th {\n",
              "        vertical-align: top;\n",
              "    }\n",
              "\n",
              "    .dataframe thead th {\n",
              "        text-align: right;\n",
              "    }\n",
              "</style>\n",
              "<table border=\"1\" class=\"dataframe\">\n",
              "  <thead>\n",
              "    <tr style=\"text-align: right;\">\n",
              "      <th></th>\n",
              "      <th>TenYearCHD_Young</th>\n",
              "      <th>NoTenYearCHD_Young</th>\n",
              "      <th>Total_Young</th>\n",
              "    </tr>\n",
              "  </thead>\n",
              "  <tbody>\n",
              "    <tr>\n",
              "      <th>Smoker</th>\n",
              "      <td>113</td>\n",
              "      <td>1006</td>\n",
              "      <td>1119</td>\n",
              "    </tr>\n",
              "    <tr>\n",
              "      <th>NonSmoker</th>\n",
              "      <td>46</td>\n",
              "      <td>752</td>\n",
              "      <td>798</td>\n",
              "    </tr>\n",
              "    <tr>\n",
              "      <th>Total</th>\n",
              "      <td>159</td>\n",
              "      <td>1758</td>\n",
              "      <td>1917</td>\n",
              "    </tr>\n",
              "  </tbody>\n",
              "</table>\n",
              "</div>\n",
              "      <button class=\"colab-df-convert\" onclick=\"convertToInteractive('df-f788bf53-ca1c-46ec-bb69-41696d4b9523')\"\n",
              "              title=\"Convert this dataframe to an interactive table.\"\n",
              "              style=\"display:none;\">\n",
              "        \n",
              "  <svg xmlns=\"http://www.w3.org/2000/svg\" height=\"24px\"viewBox=\"0 0 24 24\"\n",
              "       width=\"24px\">\n",
              "    <path d=\"M0 0h24v24H0V0z\" fill=\"none\"/>\n",
              "    <path d=\"M18.56 5.44l.94 2.06.94-2.06 2.06-.94-2.06-.94-.94-2.06-.94 2.06-2.06.94zm-11 1L8.5 8.5l.94-2.06 2.06-.94-2.06-.94L8.5 2.5l-.94 2.06-2.06.94zm10 10l.94 2.06.94-2.06 2.06-.94-2.06-.94-.94-2.06-.94 2.06-2.06.94z\"/><path d=\"M17.41 7.96l-1.37-1.37c-.4-.4-.92-.59-1.43-.59-.52 0-1.04.2-1.43.59L10.3 9.45l-7.72 7.72c-.78.78-.78 2.05 0 2.83L4 21.41c.39.39.9.59 1.41.59.51 0 1.02-.2 1.41-.59l7.78-7.78 2.81-2.81c.8-.78.8-2.07 0-2.86zM5.41 20L4 18.59l7.72-7.72 1.47 1.35L5.41 20z\"/>\n",
              "  </svg>\n",
              "      </button>\n",
              "      \n",
              "  <style>\n",
              "    .colab-df-container {\n",
              "      display:flex;\n",
              "      flex-wrap:wrap;\n",
              "      gap: 12px;\n",
              "    }\n",
              "\n",
              "    .colab-df-convert {\n",
              "      background-color: #E8F0FE;\n",
              "      border: none;\n",
              "      border-radius: 50%;\n",
              "      cursor: pointer;\n",
              "      display: none;\n",
              "      fill: #1967D2;\n",
              "      height: 32px;\n",
              "      padding: 0 0 0 0;\n",
              "      width: 32px;\n",
              "    }\n",
              "\n",
              "    .colab-df-convert:hover {\n",
              "      background-color: #E2EBFA;\n",
              "      box-shadow: 0px 1px 2px rgba(60, 64, 67, 0.3), 0px 1px 3px 1px rgba(60, 64, 67, 0.15);\n",
              "      fill: #174EA6;\n",
              "    }\n",
              "\n",
              "    [theme=dark] .colab-df-convert {\n",
              "      background-color: #3B4455;\n",
              "      fill: #D2E3FC;\n",
              "    }\n",
              "\n",
              "    [theme=dark] .colab-df-convert:hover {\n",
              "      background-color: #434B5C;\n",
              "      box-shadow: 0px 1px 3px 1px rgba(0, 0, 0, 0.15);\n",
              "      filter: drop-shadow(0px 1px 2px rgba(0, 0, 0, 0.3));\n",
              "      fill: #FFFFFF;\n",
              "    }\n",
              "  </style>\n",
              "\n",
              "      <script>\n",
              "        const buttonEl =\n",
              "          document.querySelector('#df-f788bf53-ca1c-46ec-bb69-41696d4b9523 button.colab-df-convert');\n",
              "        buttonEl.style.display =\n",
              "          google.colab.kernel.accessAllowed ? 'block' : 'none';\n",
              "\n",
              "        async function convertToInteractive(key) {\n",
              "          const element = document.querySelector('#df-f788bf53-ca1c-46ec-bb69-41696d4b9523');\n",
              "          const dataTable =\n",
              "            await google.colab.kernel.invokeFunction('convertToInteractive',\n",
              "                                                     [key], {});\n",
              "          if (!dataTable) return;\n",
              "\n",
              "          const docLinkHtml = 'Like what you see? Visit the ' +\n",
              "            '<a target=\"_blank\" href=https://colab.research.google.com/notebooks/data_table.ipynb>data table notebook</a>'\n",
              "            + ' to learn more about interactive tables.';\n",
              "          element.innerHTML = '';\n",
              "          dataTable['output_type'] = 'display_data';\n",
              "          await google.colab.output.renderOutput(dataTable, element);\n",
              "          const docLink = document.createElement('div');\n",
              "          docLink.innerHTML = docLinkHtml;\n",
              "          element.appendChild(docLink);\n",
              "        }\n",
              "      </script>\n",
              "    </div>\n",
              "  </div>\n",
              "  "
            ]
          },
          "metadata": {},
          "execution_count": 77
        }
      ],
      "source": [
        "a_y = len(heart_young[(heart_young[\"currentSmoker\"]==1)&(heart_young[\"TenYearCHD\"]==1)])\n",
        "b_y = len(heart_young[(heart_young[\"currentSmoker\"]==1) & (heart_young[\"TenYearCHD\"]==0)])\n",
        "c_y = len(heart_young[(heart_young[\"currentSmoker\"]==0) & (heart_young[\"TenYearCHD\"] == 1)])\n",
        "d_y = len(heart_young[(heart_young[\"currentSmoker\"]==0) & (heart_young[\"TenYearCHD\"] == 0)])\n",
        "\n",
        "tot_r1_y = a_y + b_y\n",
        "tot_r2_y = c_y + d_y\n",
        "tot_c1_y = a_y + c_y\n",
        "tot_c2_y = b_y + d_y\n",
        "tot_c3_y = tot_r1_y + tot_r2_y\n",
        "\n",
        "strat_young = pd.DataFrame([[a_y, b_y, tot_r1_y], [c_y, d_y, tot_r2_y], [tot_c1_y, tot_c2_y, tot_c3_y]], \n",
        "                              columns = [\"TenYearCHD_Young\", \"NoTenYearCHD_Young\", \"Total_Young\"], \n",
        "                              index = [\"Smoker\", \"NonSmoker\", \"Total\"])\n",
        "strat_young"
      ]
    },
    {
      "cell_type": "code",
      "execution_count": 80,
      "metadata": {
        "id": "zDaJTJurhkgQ",
        "colab": {
          "base_uri": "https://localhost:8080/"
        },
        "outputId": "e069dacd-ba37-4376-c091-d12f042c8fab"
      },
      "outputs": [
        {
          "output_type": "execute_result",
          "data": {
            "text/plain": [
              "1.7518358783074952"
            ]
          },
          "metadata": {},
          "execution_count": 80
        }
      ],
      "source": [
        "RiskRatio_young = (strat_young[\"TenYearCHD_Young\"][\"Smoker\"]/ strat_young[\"Total_Young\"][\"Smoker\"]) / (strat_young[\"TenYearCHD_Young\"][\"NonSmoker\"]/ strat_young[\"Total_Young\"][\"NonSmoker\"])\n",
        "RiskRatio_young"
      ]
    },
    {
      "cell_type": "markdown",
      "metadata": {
        "id": "5y4TnIPMwhuB"
      },
      "source": [
        "RiskRatio in the Young Group = 1.75\n",
        "\n",
        "In younger people (below the age of 50), people who smoke have a higher risk of 1.75 times the risk for people who don't smoke.\n"
      ]
    },
    {
      "cell_type": "markdown",
      "metadata": {
        "id": "dShOzaR9ZeF7"
      },
      "source": [
        "Older People (>=50 years)\n"
      ]
    },
    {
      "cell_type": "code",
      "execution_count": 81,
      "metadata": {
        "id": "1B8LJoRi0hN3",
        "colab": {
          "base_uri": "https://localhost:8080/",
          "height": 143
        },
        "outputId": "c92506d9-08c3-4863-a8f8-5734e22d6a91"
      },
      "outputs": [
        {
          "output_type": "execute_result",
          "data": {
            "text/plain": [
              "           TenYearCHD - Old  NoTenYearCHD - Old  Total - Old\n",
              "Smoker                  172                 497          669\n",
              "NonSmoker               226                 844         1070\n",
              "Total                   398                1341         1739"
            ],
            "text/html": [
              "\n",
              "  <div id=\"df-ba3d206d-1115-48f0-a27b-9496d987e566\">\n",
              "    <div class=\"colab-df-container\">\n",
              "      <div>\n",
              "<style scoped>\n",
              "    .dataframe tbody tr th:only-of-type {\n",
              "        vertical-align: middle;\n",
              "    }\n",
              "\n",
              "    .dataframe tbody tr th {\n",
              "        vertical-align: top;\n",
              "    }\n",
              "\n",
              "    .dataframe thead th {\n",
              "        text-align: right;\n",
              "    }\n",
              "</style>\n",
              "<table border=\"1\" class=\"dataframe\">\n",
              "  <thead>\n",
              "    <tr style=\"text-align: right;\">\n",
              "      <th></th>\n",
              "      <th>TenYearCHD - Old</th>\n",
              "      <th>NoTenYearCHD - Old</th>\n",
              "      <th>Total - Old</th>\n",
              "    </tr>\n",
              "  </thead>\n",
              "  <tbody>\n",
              "    <tr>\n",
              "      <th>Smoker</th>\n",
              "      <td>172</td>\n",
              "      <td>497</td>\n",
              "      <td>669</td>\n",
              "    </tr>\n",
              "    <tr>\n",
              "      <th>NonSmoker</th>\n",
              "      <td>226</td>\n",
              "      <td>844</td>\n",
              "      <td>1070</td>\n",
              "    </tr>\n",
              "    <tr>\n",
              "      <th>Total</th>\n",
              "      <td>398</td>\n",
              "      <td>1341</td>\n",
              "      <td>1739</td>\n",
              "    </tr>\n",
              "  </tbody>\n",
              "</table>\n",
              "</div>\n",
              "      <button class=\"colab-df-convert\" onclick=\"convertToInteractive('df-ba3d206d-1115-48f0-a27b-9496d987e566')\"\n",
              "              title=\"Convert this dataframe to an interactive table.\"\n",
              "              style=\"display:none;\">\n",
              "        \n",
              "  <svg xmlns=\"http://www.w3.org/2000/svg\" height=\"24px\"viewBox=\"0 0 24 24\"\n",
              "       width=\"24px\">\n",
              "    <path d=\"M0 0h24v24H0V0z\" fill=\"none\"/>\n",
              "    <path d=\"M18.56 5.44l.94 2.06.94-2.06 2.06-.94-2.06-.94-.94-2.06-.94 2.06-2.06.94zm-11 1L8.5 8.5l.94-2.06 2.06-.94-2.06-.94L8.5 2.5l-.94 2.06-2.06.94zm10 10l.94 2.06.94-2.06 2.06-.94-2.06-.94-.94-2.06-.94 2.06-2.06.94z\"/><path d=\"M17.41 7.96l-1.37-1.37c-.4-.4-.92-.59-1.43-.59-.52 0-1.04.2-1.43.59L10.3 9.45l-7.72 7.72c-.78.78-.78 2.05 0 2.83L4 21.41c.39.39.9.59 1.41.59.51 0 1.02-.2 1.41-.59l7.78-7.78 2.81-2.81c.8-.78.8-2.07 0-2.86zM5.41 20L4 18.59l7.72-7.72 1.47 1.35L5.41 20z\"/>\n",
              "  </svg>\n",
              "      </button>\n",
              "      \n",
              "  <style>\n",
              "    .colab-df-container {\n",
              "      display:flex;\n",
              "      flex-wrap:wrap;\n",
              "      gap: 12px;\n",
              "    }\n",
              "\n",
              "    .colab-df-convert {\n",
              "      background-color: #E8F0FE;\n",
              "      border: none;\n",
              "      border-radius: 50%;\n",
              "      cursor: pointer;\n",
              "      display: none;\n",
              "      fill: #1967D2;\n",
              "      height: 32px;\n",
              "      padding: 0 0 0 0;\n",
              "      width: 32px;\n",
              "    }\n",
              "\n",
              "    .colab-df-convert:hover {\n",
              "      background-color: #E2EBFA;\n",
              "      box-shadow: 0px 1px 2px rgba(60, 64, 67, 0.3), 0px 1px 3px 1px rgba(60, 64, 67, 0.15);\n",
              "      fill: #174EA6;\n",
              "    }\n",
              "\n",
              "    [theme=dark] .colab-df-convert {\n",
              "      background-color: #3B4455;\n",
              "      fill: #D2E3FC;\n",
              "    }\n",
              "\n",
              "    [theme=dark] .colab-df-convert:hover {\n",
              "      background-color: #434B5C;\n",
              "      box-shadow: 0px 1px 3px 1px rgba(0, 0, 0, 0.15);\n",
              "      filter: drop-shadow(0px 1px 2px rgba(0, 0, 0, 0.3));\n",
              "      fill: #FFFFFF;\n",
              "    }\n",
              "  </style>\n",
              "\n",
              "      <script>\n",
              "        const buttonEl =\n",
              "          document.querySelector('#df-ba3d206d-1115-48f0-a27b-9496d987e566 button.colab-df-convert');\n",
              "        buttonEl.style.display =\n",
              "          google.colab.kernel.accessAllowed ? 'block' : 'none';\n",
              "\n",
              "        async function convertToInteractive(key) {\n",
              "          const element = document.querySelector('#df-ba3d206d-1115-48f0-a27b-9496d987e566');\n",
              "          const dataTable =\n",
              "            await google.colab.kernel.invokeFunction('convertToInteractive',\n",
              "                                                     [key], {});\n",
              "          if (!dataTable) return;\n",
              "\n",
              "          const docLinkHtml = 'Like what you see? Visit the ' +\n",
              "            '<a target=\"_blank\" href=https://colab.research.google.com/notebooks/data_table.ipynb>data table notebook</a>'\n",
              "            + ' to learn more about interactive tables.';\n",
              "          element.innerHTML = '';\n",
              "          dataTable['output_type'] = 'display_data';\n",
              "          await google.colab.output.renderOutput(dataTable, element);\n",
              "          const docLink = document.createElement('div');\n",
              "          docLink.innerHTML = docLinkHtml;\n",
              "          element.appendChild(docLink);\n",
              "        }\n",
              "      </script>\n",
              "    </div>\n",
              "  </div>\n",
              "  "
            ]
          },
          "metadata": {},
          "execution_count": 81
        }
      ],
      "source": [
        "a_o = len(heart_old[(heart_old[\"currentSmoker\"]==1)&(heart_old[\"TenYearCHD\"]==1)])\n",
        "b_o = len(heart_old[(heart_old[\"currentSmoker\"]==1) & (heart_old[\"TenYearCHD\"]==0)])\n",
        "c_o = len(heart_old[(heart_old[\"currentSmoker\"]==0) & (heart_old[\"TenYearCHD\"] == 1)])\n",
        "d_o = len(heart_old[(heart_old[\"currentSmoker\"]==0) & (heart_old[\"TenYearCHD\"] == 0)])\n",
        "\n",
        "tot_r1_o = a_o + b_o\n",
        "tot_r2_o = c_o + d_o\n",
        "tot_c1_o = a_o + c_o\n",
        "tot_c2_o = b_o + d_o\n",
        "tot_c3_o = tot_r1_o + tot_r2_o\n",
        "\n",
        "strat_old = pd.DataFrame([[a_o, b_o, tot_r1_o], [c_o, d_o, tot_r2_o], [tot_c1_o, tot_c2_o, tot_c3_o]], \n",
        "                              columns = [\"TenYearCHD - Old\", \"NoTenYearCHD - Old\", \"Total - Old\"], \n",
        "                              index = [\"Smoker\", \"NonSmoker\", \"Total\"])\n",
        "strat_old"
      ]
    },
    {
      "cell_type": "code",
      "execution_count": 82,
      "metadata": {
        "id": "uw6QZjbd0hS0",
        "colab": {
          "base_uri": "https://localhost:8080/"
        },
        "outputId": "a4bfdf16-8db1-4a96-94ee-c172759e6ceb"
      },
      "outputs": [
        {
          "output_type": "execute_result",
          "data": {
            "text/plain": [
              "1.2172440705318992"
            ]
          },
          "metadata": {},
          "execution_count": 82
        }
      ],
      "source": [
        "RiskRatio_old = (strat_old[\"TenYearCHD - Old\"][\"Smoker\"]/ strat_old[\"Total - Old\"][\"Smoker\"]) / (strat_old[\"TenYearCHD - Old\"][\"NonSmoker\"]/ strat_old[\"Total - Old\"][\"NonSmoker\"])\n",
        "RiskRatio_old"
      ]
    },
    {
      "cell_type": "markdown",
      "metadata": {
        "id": "wQdfyXiR0hYa"
      },
      "source": [
        "Risk Ratio in Older Group = 1.22\n",
        "\n",
        "Therefore, in the older group, people who smoke have higher risk of 1.22 times the risk of TenYearCHD for people who don't smoke"
      ]
    },
    {
      "cell_type": "markdown",
      "metadata": {
        "id": "zl-6_3Kp0hd6"
      },
      "source": [
        "Observation\n",
        "\n",
        "* The Strata-Specific Risk Ratios are not equal to the Crude Risk Ratios. Confounding Exists"
      ]
    },
    {
      "cell_type": "markdown",
      "metadata": {
        "id": "rwO6n3lL-TOX"
      },
      "source": [
        "Calculate the adjusted/pooled Risk Ratio for both strata"
      ]
    },
    {
      "cell_type": "markdown",
      "metadata": {
        "id": "uBzltMWg-TTN"
      },
      "source": [
        "![Hanzel Risk Ratio.png](data:image/png;base64,iVBORw0KGgoAAAANSUhEUgAAAsoAAAGSCAYAAAD6o+dHAAAMPGlDQ1BJQ0MgUHJvZmlsZQAASImVVwdYU8kWnluSkJDQAqFICb0JItKREkILICBVsBGSAKHEEAgqdnRRwbWLKNjQVREF1wLIWhE7i2DvCyoIyrpYsJc3KaDrvvK9+b65899/zvznzLlz750BQP0kVyzORjUAyBHlS2JCApgTkpKZpB5AAcZAF5gBKy4vT8yKjo4AsAy1fy9vbgBE1l51kGn9s/+/Fk2+II8HABINcSo/j5cD8SEA8EqeWJIPAFHGm0/PF8swrEBbAgOEeIkMpytwpQynKvB+uU1cDBviFgBUqFyuJB0AtXbIMwt46VBDbQBiJxFfKAJAnQmxb07OND7EKRDbQBsxxDJ9j9TvdNL/ppk6rMnlpg9jxVzkRSVQmCfO5s78P9Pxv0tOtnTIhxWs1AxJaIxszjBvt7KmhcswFeJ+UWpkFMRaEL8T8uX2EKOUDGlovMIeNeTlsWHOAANiJz43MBxiQ4iDRdmREUo+NU0YzIEYrhB0hjCfEwexHsRLBHlBsUqbrZJpMUpfaH2ahM1S8ue5Erlfma8H0qx4llL/ZYaAo9TH1Aoz4hIhpkBsUSBMiIRYDWLHvKzYcKXN2MIMduSQjUQaI4vfAuIYgSgkQKGPFaRJgmOU9iU5eUPzxbZmCDmRSnwgPyMuVJEfrIXHlccP54K1C0Ss+CEdQd6EiKG58AWBQYq5Y70CUXysUuedOD8gRjEWp4izo5X2uJkgO0TGm0HsklcQqxyLJ+TDBanQx9PE+dFxijjxwkxuWLQiHnwliABsEAiYQAprKpgGMoGwrb+hH94peoIBF0hAOhAAByUzNCJR3iOC11hQCP6ESADyhscFyHsFoADyn4dZxdUBpMl7C+QjskAPxDkgHGTDe6l8lGjYWwJ4DBnhP7xzYeXBeLNhlfX/e36I/cawIBOhZKRDHpnqQ5bEIGIgMZQYTLTFDXBf3BuPgFd/WJ1xD9xzaB7f7Ak9hA7CQ8J1Qifh9lRhkeSHKMeBTqgfrMxF6ve5wK2gpisegPtAdaiMM3AD4IC7QD8s3A96doUsWxm3LCvMH7T/NoPvnobSjuxERsm6ZH+yzY8j1ezUXIdVZLn+Pj+KWFOH880e7vnRP/u77PNhG/6jJbYEO4idw05hF7CjWANgYiewRqwVOybDw6vrsXx1DXmLkceTBXWE//A39GRlmcxzqnHqc/qk6MsXzJB9owF7mnimRJiekc9kwT+CgMkR8RxHMp2dnJ0BkP1fFJ+vVwz5fwNhXPzG5Z4EwLMEkunfOK45AEd6AKC/+caZv4SvzUoAjrXzpJICBYfLLgT4lVCHb5o+/H+ZAxs4H2fgBryBPwgCYSAKxIEkMAVGnwHXuQRMB7PBAlAMSsFKsA5sBFvAdrAb7AMHQAM4Ck6Bs+ASaAfXwV24errBMzAA3oCPCIKQEBpCR/QRE8QSsUecEQ/EFwlCIpAYJAlJQdIRESJFZiMLkVJkNbIR2YZUI78iR5BTyAWkA7mNdCF9yEvkA4qhVFQbNUKt0FGoB8pCw9E4dDKajuaihegidDlajlahe9F69BR6Cb2OdqLP0EEMYKoYAzPFHDAPjI1FYclYGibB5mIlWBlWhdViTfA5X8U6sX7sPU7E6TgTd4ArOBSPx3l4Lj4XX4ZvxHfj9XgLfhXvwgfwLwQawZBgT/AicAgTCOmE6YRiQhlhJ+Ew4Qx8l7oJb4hEIoNoTXSH72ISMZM4i7iMuIlYRzxJ7CA+Ig6SSCR9kj3JhxRF4pLyScWkDaS9pBOkK6Ru0jsVVRUTFWeVYJVkFZFKkUqZyh6V4ypXVJ6ofCRrkC3JXuQoMp88k7yCvIPcRL5M7iZ/pGhSrCk+lDhKJmUBpZxSSzlDuUd5paqqaqbqqTpeVag6X7Vcdb/qedUu1fdULaodlU2dRJVSl1N3UU9Sb1Nf0Wg0K5o/LZmWT1tOq6adpj2gvVOjqzmqcdT4avPUKtTq1a6oPVcnq1uqs9SnqBeql6kfVL+s3q9B1rDSYGtwNeZqVGgc0bipMahJ1xytGaWZo7lMc4/mBc1eLZKWlVaQFl9rkdZ2rdNaj+gY3ZzOpvPoC+k76Gfo3dpEbWttjnamdqn2Pu027QEdLR0XnQSdGToVOsd0OhkYw4rBYWQzVjAOMG4wPuga6bJ0BbpLdWt1r+i+1Ruh568n0CvRq9O7rvdBn6kfpJ+lv0q/Qf++AW5gZzDeYLrBZoMzBv0jtEd4j+CNKBlxYMQdQ9TQzjDGcJbhdsNWw0EjY6MQI7HRBqPTRv3GDGN/40zjtcbHjftM6Ca+JkKTtSYnTJ4ydZgsZjaznNnCHDA1NA01lZpuM20z/WhmbRZvVmRWZ3bfnGLuYZ5mvta82XzAwsRinMVsixqLO5ZkSw/LDMv1lucs31pZWyVaLbZqsOq11rPmWBda11jfs6HZ+Nnk2lTZXLMl2nrYZtlusm23Q+1c7TLsKuwu26P2bvZC+032HSMJIz1HikZWjbzpQHVgORQ41Dh0OTIcIxyLHBscn4+yGJU8atWoc6O+OLk6ZTvtcLo7Wmt02Oii0U2jXzrbOfOcK5yvjaGNCR4zb0zjmBcu9i4Cl80ut1zpruNcF7s2u352c3eTuNW69blbuKe4V7rf9ND2iPZY5nHek+AZ4DnP86jney83r3yvA15/eTt4Z3nv8e4daz1WMHbH2Ec+Zj5cn20+nb5M3xTfrb6dfqZ+XL8qv4f+5v58/53+T1i2rEzWXtbzAKcAScDhgLdsL/Yc9slALDAksCSwLUgrKD5oY9CDYLPg9OCa4IEQ15BZISdDCaHhoatCb3KMODxONWcgzD1sTlhLODU8Nnxj+MMIuwhJRNM4dFzYuDXj7kVaRooiG6JAFCdqTdT9aOvo3OjfxhPHR4+vGN8TMzpmdsy5WHrs1Ng9sW/iAuJWxN2Nt4mXxjcnqCdMSqhOeJsYmLg6sXPCqAlzJlxKMkgSJjUmk5ITkncmD04MmrhuYvck10nFk25Mtp48Y/KFKQZTsqccm6o+lTv1YAohJTFlT8onbhS3ijuYykmtTB3gsXnrec/4/vy1/D6Bj2C14EmaT9rqtN50n/Q16X0ZfhllGf1CtnCj8EVmaOaWzLdZUVm7sr5mJ2bX5ajkpOQcEWmJskQt04ynzZjWIbYXF4s7c71y1+UOSMIlO/OQvMl5jfnacCPfKrWR/iTtKvAtqCh4Nz1h+sEZmjNEM1pn2s1cOvNJYXDhL7PwWbxZzbNNZy+Y3TWHNWfbXGRu6tzmeebzFs3rnh8yf/cCyoKsBb8XORWtLnq9MHFh0yKjRfMXPfop5KeaYrViSfHNxd6LtyzBlwiXtC0ds3TD0i8l/JKLpU6lZaWflvGWXfx59M/lP39dnra8bYXbis0riStFK2+s8lu1e7Xm6sLVj9aMW1O/lrm2ZO3rdVPXXShzKduynrJeur6zPKK8cYPFhpUbPm3M2Hi9IqCirtKwcmnl2038TVc2+2+u3WK0pXTLh63Crbe2hWyrr7KqKttO3F6wvWdHwo5zv3j8Ur3TYGfpzs+7RLs6d8fsbql2r67eY7hnRQ1aI63p2ztpb/u+wH2NtQ612+oYdaX7wX7p/qe/pvx640D4geaDHgdrD1keqjxMP1xSj9TPrB9oyGjobExq7DgSdqS5ybvp8G+Ov+06anq04pjOsRXHKccXHf96ovDE4Enxyf5T6aceNU9tvnt6wulrLeNb2s6Enzl/Nvjs6XOscyfO+5w/esHrwpGLHhcbLrldqm91bT38u+vvh9vc2uovu19ubPdsb+oY23H8it+VU1cDr569xrl26Xrk9Y4b8Tdu3Zx0s/MW/1bv7ezbL+4U3Pl4d/49wr2S+xr3yx4YPqj6w/aPuk63zmNdgV2tD2Mf3n3Ee/Tscd7jT92Lemg9ZU9MnlT3Ovce7Qvua3868Wn3M/Gzj/3Ff2r+Wfnc5vmhv/z/ah2YMND9QvLi68tlr/Rf7Xrt8rp5MHrwwZucNx/flrzTf7f7vcf7cx8SPzz5OP0T6VP5Z9vPTV/Cv9z7mvP1q5gr4cq3AhisaFoaAC93AUBLgnsHeD6jTFSc/+QFUZxZ5Qj8J6w4I8qLGwC7/AGInw9ABNyjbIbVEmIqbGVb+Dh/gI4ZM1yHzmryc6WsEOE5YKutDLW1UsCPRXHm/C7uH1sgU3UBP7b/AqgOec3m1TJAAAAAimVYSWZNTQAqAAAACAAEARoABQAAAAEAAAA+ARsABQAAAAEAAABGASgAAwAAAAEAAgAAh2kABAAAAAEAAABOAAAAAAAAAJAAAAABAAAAkAAAAAEAA5KGAAcAAAASAAAAeKACAAQAAAABAAACyqADAAQAAAABAAABkgAAAABBU0NJSQAAAFNjcmVlbnNob3QyesIZAAAACXBIWXMAABYlAAAWJQFJUiTwAAAB1mlUWHRYTUw6Y29tLmFkb2JlLnhtcAAAAAAAPHg6eG1wbWV0YSB4bWxuczp4PSJhZG9iZTpuczptZXRhLyIgeDp4bXB0az0iWE1QIENvcmUgNi4wLjAiPgogICA8cmRmOlJERiB4bWxuczpyZGY9Imh0dHA6Ly93d3cudzMub3JnLzE5OTkvMDIvMjItcmRmLXN5bnRheC1ucyMiPgogICAgICA8cmRmOkRlc2NyaXB0aW9uIHJkZjphYm91dD0iIgogICAgICAgICAgICB4bWxuczpleGlmPSJodHRwOi8vbnMuYWRvYmUuY29tL2V4aWYvMS4wLyI+CiAgICAgICAgIDxleGlmOlBpeGVsWURpbWVuc2lvbj40MDI8L2V4aWY6UGl4ZWxZRGltZW5zaW9uPgogICAgICAgICA8ZXhpZjpQaXhlbFhEaW1lbnNpb24+NzE0PC9leGlmOlBpeGVsWERpbWVuc2lvbj4KICAgICAgICAgPGV4aWY6VXNlckNvbW1lbnQ+U2NyZWVuc2hvdDwvZXhpZjpVc2VyQ29tbWVudD4KICAgICAgPC9yZGY6RGVzY3JpcHRpb24+CiAgIDwvcmRmOlJERj4KPC94OnhtcG1ldGE+CrH5E4MAAAAcaURPVAAAAAIAAAAAAAAAyQAAACgAAADJAAAAyQAAaGijXaqoAABAAElEQVR4AeydB3xUVfr3f0AKpJMCJAQIEHoLJSH0DgoCoohi72XVta677n/Lu7rF3XVdXQt2wEIRFQWliEAogVTSIIEAKZBKegghCe09z413uPfOnclMMoFk5jmfD8wt5557zvfczPzuc57znA5XRAInJsAEmAATYAJMgAkwASbABFQEOrBQVvHgHSbABJgAE2ACTIAJMAEmIBFgocwPAhNgAkyACTABJsAEmAAT0CHAQlkHCh9iAkyACTABJsAEmAATYAIslPkZYAJMgAkwASbABJgAE2ACOgRYKOtA4UNMgAkwASbABJgAE2ACTICFMj8DTIAJMAEmwASYABNgAkxAhwALZR0ofIgJMAEmwASYABNgAkyACRgJ5d2dfZkKE2ACTIAJMAEmwASYABNweAIslB3+EWAATIAJMAEmwASYABNgAnoEWCjrUeFjTIAJMAEmwASYABNgAg5PgIWywz8CDIAJMAEmwASYABNgAkxAjwALZT0qfIwJMAEmwASYABNgAkzA4QmwUHb4R4ABMAEmwASYABNgAkyACegRYKGsR4WPMQEmwASYABNgAkyACTg8ARbKDv8IMAAmwASYABNgAkyACTABPQIslPWo8DEmwASYABNgAkyACTABhyfAQtnhHwEGwASYABNgAkyACTABJqBHgIWyHhU+xgSYABNgAkyACTABJuDwBFgoO/wjwACYABNgAkyACTABJsAE9AiwUNajwseYABNgAkyACTABJsAEHJ4AC2WHfwQYABNgAkyACTABJsAEmIAeARbKelT4GBNgAkyACTABJsAEmIDDE2Ch7PCPAANgAkyACTABJsAEmAAT0CPAQlmPCh9jAkyACTABJsAEmAATcHgCLJQd/hFgAEyACTABJsAEmAATYAJ6BFgo61HhY0yACTABJsAEmAATYAIOT4CFsoM/Ah06dYLX+HB4jR2NmiPpqDoQg8t19Q5OhZvPBJgAE2ACTIAJMAGAhbIDPgUuPbpj+NpVcB82FE5enkYELtfXoyJqH47c9QAu1ZwzOt9WDnTpG4LI9ERVdRKnzkV1vPqYKoMD7XiOCcO46J26La7Yux/J8xbrnhsTtQ3e4uVJLx0cMgZ1Obl6p9rEMWdfXwQ/9RiyX/mHzesztSwPndy6GMo99d93cPL3fzbsW7LR69knEfqPV1RZU5fcgbJtO1THlDszzpcpd1H05TpkPPyk6hjvXD8Cff/0MkJeftFQgcv1DdjjE2jYb2qjz2+eRb9X/thUNpPnT7z0B5x+e4XJ8y050X35MtSfOo3K6IOqYsbu2wGvcWMMx2pS0hAfOd2w3x43TLW1PbaF62xbAiyUbcuzzZcW9NB9GPjmv9DB2bnJul5uaMCJF3+P/A8/bTLv9cjgMWoEwmP3qG6dctOtKP95t+qYo+54ilECU0L5Uu157PXtqYtmWlUhOrq66p6jH8Oa5FTdc9f7YL9X/4Tezz0lVSPKo5vNq6PlUrz2K6Q/8LhV95FEkainMqXdeidKf9ymPKTanlFXrtov37ELKQuXqo7xzvUjQM8d9ashXbmC3V38DLtNbYT830vo+8ffNZXN5Hl6WTv1xtsmzzfnhPuwIRi+7jO4DeiPvBUf4fhzv1UVQ9+79P0rp7rTeTg4YKS8264+m2pru2oMV7ZVCLBQbhWsbbPQkd9/Bb95s62uXOazLyH//Y+tvq61L2ChbJ6wOaFMV8aOCEft8ZOqQuhHIyIxWnVMudMWhbLPpAkY8fWXcOrqI1X1ysWLYKGs7DXebk0C9iaUh325Et1uvTraZM9C2ZK2tuazw2W3DwIslNtHP7W4lvTFR18Keuli9VlcLC+Hc7duqqFlOe+Vy5cla0F9foF8qE18slA23w1NCeVTr7+Fk3/4i6qQ0NdeBbkHmEptUSgP/uBtBN53l6HKVy5cQJRnd8O+rTbYomwrkvZVTmsIZXrZg7BMW5KOP/875H+k/91uyfXaPNNrS9GhY0fD4bz3PgTdQ5nG7t8pXC9GGw61V4uyJW01NJI3HJYAC2UH6Hr60ptclG3kj0y+puTT23CmxEAh+MnHMOD1vwvv9Q6GY7RRvHaDGGZ+THXseu+wUDbfA00J5XNHMhA3dpKqkPHJMXAbPFB1TLnDQvmqSwq7XiifDMfdbg2hTK415GJzPZIl4pFcszoq/PXp5bQtz2cxxdGStpq6lo87DgEWyg7Q13pWwtrME4gdGaHb+mFffIpuS29WnTPn00oZafJX4P13o3O/EDh5euLc0WOo2n8QZdt/hqWWaBK+vnNmwjtiHDr37oX64jM4fzILRV+sw9lDyar60I4poVyxaw+6zpqOgMU3wSNsFOqyc4Tf8i6UbNwEsp5rU8CShXDpftUCWbrpR8lHN/jpx+EVPg6V+w8g/4NPjCaxdZ0+Fd1uWyLV1SXAH5fq6nChtAznMo6hQPh1k5VFm9yHDILPtCmGw+dPnJR8qumHx2/+XAQsugldBoTiXHo6KnZG4cyGjSCLfnNSU0JZz0Vhes0ZdHByMnk7U0KZJlYGP/koOvfpDZdAMZFJWMMuVlSgTkwEKlz9hZhgecioTJpI2v3O2w3H6Ye26Iu10r73xEjpGST+9Xn5qNy7H0XrNogyKw35aVJqwM0L0eOu20U/jTUcp3tn/uJTeTbxkO69qXy/G+bAO1JMWhSRX6rjElGxe4/4txf0o6+X2oNFOejBe+E9cTxcewXD2dtbPO/V4pksR9XBWBSs/KxJMUM+qf433QifKZPgHBCAc4ePoGLPPunvWMleycfWzzT1ZcCSRZJ/rGvPIFy5dEnqd/obpvkSelF5etxzJzq5uymrZXa7VvyNUru0ydnPD/4LbwT9bbsNDMX5rBxUiYlspVt/Mvr7l69ti0KZvk96Pvog3EcMRZeQPsJI4iU9C3Xib+n0/1bozjPwX7QArkGBGPjff6oMJfS3SxNIIfpBtlxLfBQv1Nq/M21/FK76XOq3ruK7L0CMbnqOGY3ajAyUfPeDNJGV+pgSzZ3xu3Euut2yGF369xXPbZz4DvxG929Y5k+f1n7/WNNW5X2a83wor+ft9kmAhXL77Deraj0p96gQgurJTYlT5piMDtGxsyumFOUIwdQJ57NzheA9gOIN34IEqDbRD+rwdatAXyCmEom99PsflX7w9PKQb+ko4T/tJQSyqUTCPvmGxagvKDRk0RPKNLmq/6t/hGtwT0M+eYPEfsqCWyTRIB+jzymFWQb/VtqnH+Ogh+9XDT/S8eT5SyQGJAzCftoEFyEkzKWcf7yO7L8I67wiDfjPP4SgfMxwpPZoJo6/+DJGblynO8GyQbwsHJo5X3phMFxk4YaeUCbRrRxWTZq1wDCjnfpy9I7NhtJJSGtFs1Yo0w/y2D3bxQuJ+Yk8JNToXkrRr60fCdSDg0SkjtgoXbY0ufTI3Q+BXmQo9RAie8inKwz11dugF6yEiTMNp+g5HbPzR5NW80tna0ATQqti4w3XyBttWSiT68nAt14H/e2aStSfFGFDz1JJz8TQVR+i27JbdC+nfjvxwsvSxC5tBls9013698OIrz4X0XiGaG9xdV+8BNHLDPWR8llq6gXvagGNW9TPewN6qw4HP/EIQsXfp/LvQ5nhzFffNn6PaV5c25pQpigcvV98Bh1dXJTVV21frKzCkXsfRvlPOw3HJ50+pvt3Z8ggNg4OHi29MDQ1mU/bHwmTZkmRlsgAok30nR4zdAw6i5e7sdG7jEY+Kf95YeyIHTZO1ed0vLnfP9a0le5DqbnPR+PV/H97JsBCuT33noV1n1ZdpPrSJAvdgdCrM5b1iqEfXD3LjTKvIdSVxk1DmUfepi/mhAkzpC88+Rh9kugcJ2ZQm/tSl/NTGQeHjDZYFfWEspzX5Kf4od0fPBAXyq6G3NIKZb1rScTt8Q4EWTEj0w+ZFSTK68kCk/n0C4ZDWlFB5Upi1AxDave+Hn0NZVi6oRWidB1N3iOroZwKV3+Jo489Le0O/lD4+t57l3zKKC+d0ArlyMPx6BJ6tTzDxTob2lEMvfrRM2dO7FGxNLuerPXWCmUSYOMO7m76WRPPyImX/4TTb76rakVbFcpkVadwj1p3KVXl5R3RtrTb7zW8bNBhiqU+4UQaXAN7yLlMfpYJyyqJbWWyxTPdycMdE7PSdUWS8l7yNoWApJd9OWmFmXzc1KdWKA9f/5k0AmUqv3ycXlwPDhql+m5sS0K5z+9eQL//939ydc1+0otG8pyFhhdlS8RjjAgPSaLVWqEsfc+ZibRE38dk9TYXjalyXzSSRH2VqbnfP9a0le7XkudDWV/ebp8EWCi3z36zuNYkOqZVXrXC0oVk3Ts040aLy9DLSBbEcCE6LPpx/qUAcqOIEVYBZRqfGicNcSqPSdviB12v7IqovcKy3OgW0pRQ1rOIUtlFn69BxiONYcRo3xKhTMPyyTcuwYhv1sB/wQ10mSqRtZpYa61RJPyUMVW1okJVCLWZko5oznjwCRStWd943sL/9YQoCfeejzxgKIFcIw4OHCXtT8hMkdxI5JNkWafhW2VSCuUedy/HkI/VYpLyUhxuaoPey48y0oZe/ZT3MtV/pT9sRdrSu6wWyuPT4lUvCdK9BPPL4mVFW1f6Yd/XPQTUr3JqLaFMlnJc/qXv5ZspPrUvDtrwcLo/+qJdVHcp7rPmeTqblCK9tMq3GPj2f1TPhHyc+pEsdtqk9Z+1xTOt5x52QUwwbigukQS8k4+3thqSaCLxRMlaoUwuWPu69ZGuJTeCsG3fSdvK/6hfOpK40/Ar+HgVjj31vCFrawhlyVqusVwbbqjYKN28FYeX32c4ojWKUDnkekYvQzTKph0hohdn+pukNOmUsCh3CzCUpbfRXKGsLMvU37Uqj/j70xPN8eFTUJN2RMraku8fa9ra0udD2S7ebp8EWCi3z36zuNYUOmu0GGpWJltMzJtwNAmdhe+bMpGlOuPRp0A/xN2XLpGGMbUCJOvPf0XuP9+QLtOzCJLFJmn2AuFqkC35/w7+4B21hVEIgH1B/SWrsimhXLZluzRESj+G5Cs35KN3lNWUrJHKmJ96Qpl+YMqFfzV9WftMnojUW+6Q3C60P8gkNOnL+2JVtfRjFJ6wX7KSK28Y5R5gcDsxJSrIRYNiodJ96Ueb+k2ZSr7dhMN33q881OS2nhAl9wfV8yB4RnkJS6K4L7VNKQqM8oo7KoWyVniSuIwbNxm1x45LdRsgfB1puFKZjj35HAo+WS0d0qsfnSAhmPHQE9IkUz0LWUNRMaJDhkjuPl1nTkWfF55RuX4Qw/T7Gu9LPqZnE5N0RXV1XIIktkgQUlSYoZ9/onrRKVz1BY4+/mtD9VtLKBtuYOGGUih7TxiPMbu3qq488833SBfD6uT3SQuwTMw6ovobulBegf3ib4gSjZDQeeULHgnUhImzpCF2t0EDhGvNT1AKVW2EA1s809pnSWsxNnILEs9a3rsf4sTv/ii1g1wNOrm7S3600iuHeK6p/T3uusP45UhcQaM8sr+tVjSRkDu8/H6Ubt4ivWiM2bVV/XyJ8zTCI09eaw2hLDXKgv+UhgO9Z0EefZGLiqDvp+FD5V3pe3R/70GSXz6NuLgPHYxh4u9AmcjljvzbKZVu2iK9CFtrUaZrKf568oJbpdE8cpmi739tIuGeNGu+9LevDd1GebP++Apy//2mdJn2mbHm+8eatrb0+dC2kffbHwEWyu2vz6yqcfBTjzdGsVBcRZM5Trxk2fCc4jLDJglkEsrKRJEzosUXrjJJ+TLEJC6FRYYmBO0L7Cdlk1Z30kzCiu4zWBWFQxmMn36Y6nJPSYKRxJieUNZzK9FarbWuDHpCOeev/0S2+KdNNNmFJhz6TJ4gTbo7+siTqljENKFx8Pv/U112oP9ww4RGPVFBPtxH7nnIcA1Z8aZVFqi40WS2pLmLDHks2dATovTDGZESqwoDKN1biEtl+MBL52oRL0RvJPWfIimFMk3G8xHWuK7TJktCouDj1SI6yleG3E7eXphSnGPYpw16ISDfbUp69SN/xQP9hknn5f9IyBF3OWmHzS0JDxceE6USO2Rt3Sd8VOVJRFS2tm9IQJO7jZzaolCmutGPvu+s6fCeEIlOnh5IXXSbypdTGz+d2i4vNkPD9PQyokxKqx0dp4m6Y4QfujLFjhp/9YVI43dP+ax9prV/o/KLKk2iJT9a2icLIn2XlO/YCXpZaipJEXxE3bQp7533xbyA30uHyQ2JBJcy5fz936qVHcmiP+VMrmrUIfdf/0XWn16VLmszQlmnn4gTvRAUrvxcmt9BFuMgMUpUKfy8q2LiVM+/zMCSSBDWCmUaWdsf1M8wQqM30klCNzpkqMEtjuYTTM5vfOmW66b87Wrp9w+V2VRbbfF8yHXnz/ZLgIVy++07i2quFz/5zNffiUlR6iF1iwr7JVPIH36LvuKfMpHYoh9HbRq1aQN85866elhYeuRVq7STDGliW2xY5NW8YossXV6REdLEQ/oiVSY9oaz8AZPzhm3ZiK4zp8m7IBG41y/YsK8VyjTkuoesrBYk+sKnWdr0z0dEUqAJScoXAyoibvQEKRIGbWvFGB1TuiPQPqWpJack0dO4BxGVIUEK5Uf7NPlxwrEU+ZTu58EBIyTfYe3KfCSUh61ZqYoSQa4MJBgpSoicyD2H3D3MCWU5r/KTLOH+C+eLyB5CPAvLlXb4VBm7WU8o5772H2T9v78pi8RoMXHSZ+pkwzFt/1kilLXuCecOpyNVuG8oE0U5oOdVmaLc/A2i05xQJhE34I3XlJeqtinyCz0HeivzqTJasKO0KOtld/b3RzcRyYVe6OhvRzucrny+ta5E9HIQO0r9N0j3iEyLU/UlTZqVX4ps8Uxr/eNV7RLfGfSCXCpGikg4yyMWqjyaHXKPokVotH+LJLpTxIuEnPSG7w9NmydF3JHz0GfYD1+rfPFl9x861ypCmSzi4l9TiUbPyA1JTlrhJx+nTzI0VCckisgy61G8/muT0V20ZejFUbZWKFcdiJEmJSvro70PWZzpRVyZpOXbFYYWGo2iUSlTyZrvHypDWwdtW23xfJiqKx9vPwRYKLefvmpWTelHkoaOlIksCYemG/vZKvOY26ahOQqLpkzkh6s3+Y+GRPv/9c/KrIgfPw01KWnQ+tPR0tM0m93SpCeUlT/gcjlaMaC0qFEerVDWs2rKZdEnWUr7iTZ1u2WR2Wgf8jVNWd92d/aVsxo+yZKijCSiHIrWs7QYLvxlY39QKDr37WO0hDUJ5R5334G+f260qFF2GmonoayM4kELkZSIIXxLhDL1MS2NTmGotMJEWy/li4yeUCaXieL136guo4gg9CIiJ23/WSKUtS4zcllNfZJPPfnWUzInlHs//zT6//0vJouTreB6QtkWS1jTpFh6JsmfsqkwaUpL+XgxukDuFdYm5QuPnlC29pmm+ofH7zPyodWrFw3PZzz4mMmQYfS9QC+IRv64YhSK/haVSc89SHne1LbSz7s1hLLWD9xUPbTH6eWAwvs1lcjoQC8dJ377RyOrclPikcq2VigXr/tacodT1mv62WLVyxe5uqTddrcyi5HvuZ5Qbu73D92oqbba4vlQNYh32iUBFsrtstusq7T2y6ApIUilD1+7WljxJoIsFlLczV8mUEjn1qxCgBCJyqT3w0jnuy9fhqEr31dmxZG7HgD5Uc6oK1cdL/1xG0g0WJr0hDJZi5Qhj6gsagvFSpaTVmhphbKeZUO+ltxJwuP2Wjw7n65Tii0jUaGwsMv3oE+ttd2WQhnCSj/hWLLydkbb5APcqUsXs0KZrMXj9u1QuTQYFaQ5oAyZpyeUKaICRVZQJu2Mc23/WSKUtc+asnxz2/TDTT/glNqqUKaoFzRKoPQzNtcm5QRTraXd3HXKc0pRY4tnmsqmGLujhOVWOwqhvK9ym16q6eVamcgwEHk0WeVaROcpqgK9JNKzo0wjv10r4pfPUx6yaFvp4tWWhDJVXjsCY65BeqN42t8LrZWVyrNWKGsnQFIZWkOJ3gI+WjGtFMot/f6hOjTVVls8H3QfTu2bAAvl9t1/FtV+csEJaVKPMjPFtaRJTnqJfnBJFCh/sJS+xQP/97pRNASyYJJlUpv0fCDJl5l8mikah3JGf3VCEhInK9w0fimMQkfJE2eU5esKZZ0fT2uFstLNQXk/2ta6RNAxshZWCdcIEnjn0jNArh7KJMcepWNaUUG+lzS8r02tKZRpMtbU8nwjMSHXgVjv9e8lBfE3Z1HW+0EmS9XZlMOSH+mZr76RXiqUz5HS91tPKCfPW2y0EERT/WcklMVkqygPddxwrUWZJmw1uRCOeIk5fNeDhr+TtiiUaaGFyPREI0s++aZWigV/Sjf/KLlfKCdVKoWydkIUPQPk5tBUohfdk79vHCmyxTMt34++D3o98yQC71mu68Yk56PPhhIxL6LX1XkRdO2E46mqkRHKR+2lOL1kINAmve8yS9p/NjHZMLm2rQllaiMt2tLnt8+j64xpTY4wZDz8pGGhH7rWSDyu+AjHf1nAh85TslYok/U685nfNF78y/9aoVz4mQhV+ejTqjzmhHJLv3/oRk211RbPh6pBvNMuCbBQbpfdZl2ltUKDribXB3KB0Es0GY0mpSmTMrSb3gRBmvhGIkibIhKjVQsIkJCK8uwuZdOGI5OHp5VlUFijaWKIjhKtekcxPE/9539SHNjWEsp68Trp/jQ8HJF0kDYNqeT7H3BYxKWVE/lCGwllYcmSV+mzhaggJsPFwgxS6Cr5xopPCnd2eNk9kqVXz0eZ6jJ2708mF3ipFCuRUcQLSYSZmcynFY4kzmjionKCnPaHKPvV15Dzt39Jtb2WQlk7akCrjSVOma2gJrSmeEEksaW1OsqZtO1VWsA8x4SZjV9bm3lcmkBma9cLI5EmKkuL+9BQt5y0LxJKi/yoH7+VJgLKeZXn5GP0SROn9Fa1pHO2eKapHEoUzo5WY6yOTxDRFRoka2+3W28W/tYzVK5IUmbxIiNFlBEvm5S03zV0jF5EKd6yKaMAhT8kMaRMtOiNViybelmn64z6wMQokfIeym3lhGX5eHNdL+Traa4ETeyk0TFaLbPHncsEyxvEBNowo5EH7cRL7d8shYnM/PWLctHSZ1sQytq/R2u/f6ghTbXVFs+HChzvtEsCLJTbZbdZV2n6kp9ccFI1a5tKqEk9LIViU/4Akj8x+XxpkzKOrxTNoChbZcWiCUKxIyJUPzB64d9I6FIsTkphW8UkO2HxUKbjtPrXux8YDpEvbcjL6i9pioFMsZBbSyhTOCRahU+b+r3yR/R5ST2RRDlRj/Jr/aHpmBx7lLZtKSqoPHNJT4jS8DMJZb2wa3JZJ8ViG6f++45ZoUx+reTfqky0QIccrouO602EUUYU0KtfcyzKg979r+QjLddFz0pPC414jh4lZ5GW2Kb40fILDJ2gVQkpDBk9yxfEiEft8ROSz6Q8mqH9YVYK5asFm9+ytVDWRvNQTtSjmpD4n5ibobKyKi3Ken9fFBKPQuPJqfdzT6H/P16RRCe5MNRl50q+rTThk1JLn2mK2hEmBLuTb1fDd1TJxs2q+MB0H60LDh2jkQ/qH60fO52jpcwlVywRbtBU0nv5LRNhIVMXLzNcIuU5dEDapzCQ9MyQC0D++x9Lx9qKUB668gP4iUmMTkIg01wB+js4IFyoaPROTvQiMrUsT/XdTUt509+dnLTiUc/Se72Fsi2+f6i9TbXVFs+HzJU/2y8BFsrtt++sqnmvp59A6L/V0QSkAsSPCX2RUsg0V7GEqLRAgaZkZXB++ZT2B5qO03B2sRhupxXYus6gsGFT5OyGT+XS2XpClzKSj3F1wiFpUorHCBEqTDHrWSkE9K7X81vUWtS1VjOttdGUUNazpJNlkvxqO7o4gyxDNKlNm5RuLi0VFdqyze3rCVFZKNNysTRMrZdk1xhzFmWKvEHclIncc5LEMuO1xzKl+Mn0YqF0u6C89BJEL0OU9OrXHKGsZUpl0zLXZJEkdyAa8qVnMWz793TKkGgEI0OE9yNXm2Dx90GCUJmU7kZ0vC0KZWqT9u+MXnIodJnHyOEY+Oa/VBFOqB3KUR2yoJM7kbKfSGBlv/IPULg/mrAa+vrfDQKWricBqnzJ0PLXe1Ghy0y5E1E4xKml6jrQPXJEBBTybb1YVYWAmxdJUUXIsi0nOfqJtELoa42h2uRz8qf0kqP4/pCP0yfNlSjbtkMKD6dcrZLOSa4lIkYziXgaYaN408qU+exLrSqUacLllYuXlLc0uV1z+AgoUsegd95A0MP3q/LRSOCJl/+MMhHZxl18l/Z6+vHGMHuKXMrY9nRY6+5AfycFIryct4jqc/j2eySXpestlG3x/WNpW/Xck6x5PhSoebOdEmCh3E47rjnVpklo9ONpTaIf1fiIqYbwZvK1FNc2UsRS1i4oIp/X+9Sb+WzpLG25PGUczWstlPWEo1wvc59KC11LRYW5+2jP6QlRWShTXrIsaSMkKN1f9NqrjKOsd71UByFylC83ynoprXV69WuOUKaVBml1Ob2knLhqzXK3VJay32i/LQplkyMDZvqA2qKMUqMnsCiPqaRdxtoWz7Seu5ep+8vH5QVhyJLaffnVkG/y+aY+ZRcVCqM3avPXTWU3nCer+v6eVyOFtIZF2XAzCzbkiYX0EjE5/4Tqpaepy+n7fX/PUJVbDY0+Ogvrvl5KEy5d9BJ6vYUy1a2l3z9UhiVtbenzQffh1L4JsFBu3/1nde0phJVkOTNhZVEWSBbilJuWglZ/0ksUimqEmDWuZ4XW5qdZ8ofvuE/lv0p5yC1k3P6dcBs8UHuJ0b52iPBaC2Wq0AjhG+y/aIFR3QwHhECh+KfKCATKGKK2EBWGezWxoSdElUKZFpGgxSSUSbmwSVNCWc+1QlkWbdMIgPJlSp4oSOf06tccoSxZJCvyVcypfEqy1ZG26VkbG7VdtTIZHddLurP0xQRX5ZLObcH1QnKtyE6HS3f15EVlm7R9QOdoIh6tBCknrR+zfFz7SVES4sZOUv0d2+qZ1nPF0t5f3j93JEOqB+23VChTGfQsUyxn5d8tHdcmep6o/XU5uYZTbUUoU4VoEh+t1KgNjWeorHJDfE9JUWaEVV2ZKEoRRSvSS/LKeG1BKLf0+4faZ0lbKV9Lng+6nlP7JsBCuX33X7Nq7xEmFp0QsZA79+mlEjFyYWRlKFrzlRgi/51utAk5H32S+BjyyQr43TBHJSLkPDT0Tf7NNMRpLpHvJi1kohQicn4SVzl/+6fkNysfo09LhbL2h1TreqGNWaxdlEB5T5pIN2jFm2JWvghjp3nZIBcW+uEhN5fudyw1XKZ0F9H+qCqHwQ0XiI2JJ9LgGtzTcKg5sa/1/Ov2Bw8UkyJLpXJpVny/v/zBcA/aoBUbyWpPiYabJ+VkSNvyf0qLMh3r+fjDCP3nq0b9Rn6wx5//rYhMUIoRG676u9I1JDRI6OjVjybYkTuLMhn1n2bBGMor/ZC9/5aRQNBa/ygvWS+7LbtV9wWP8mf/5R+gCUzapI0U0hyhrOe+k3zDzSZfRqkO2tB22gVHqJ+IMYkkbaJIMrRSX3jcHtXzVCPCPdIKfMpEy70PEO5ZyuWq5fP0DBd9tkZyY1FO1qTztnym6W+n90vPqnyq5TrQJ30XZP/1NZA/vJy0z4d8vKlP2Toq5yM3L/J1dhGjZUaCWYjKcjF3gVbi1EbPMJqMJ/LKiyrJZZv7NLreXGadcyTaKbKOnOgFl0ZYaGKxUTt+yUT+5RRzXin45evJMj36p81GYR8llxyxsmbuP9+AdlVV8tuml3A5ad03LIl6oTdpUFuOMjwc3asl3z90vSVtpXyUmvt8NF7N/7dnAiyU23Pv2aDuFHfUd94cOAnBW19UhLPih1U5wcmaW9APNbl2OAf4ozomHhQ9gYSgNcnZ1xddZ02DW2h/4et8HNUiDJPel7k1ZbZGXnpB8J4wHhTtgOpHLwI00ccRE708EAfvCRHCgnwBZSIednOfoZbwIz9bWpnLKzIcZPks/3mX2Rc96sOuM6dLP4DnT5zE2UPJquXIW1KX63EtCWafKROlvx2Ku12xZ7/Vf39Ub+pPb7Gin7coiyY1nhURcih6glYgt2Yb6XuJnil3sbojJVpJkfpHOTGtNe9PL3E05A7hRUSTnqsTD5l9llqzLs0tm/4eyMfac9QI0JwE+pukvqSXVEu+l117BsFv3mzJGFK+M0q6rrl1ac3rbPH9Y21b7eH5aM0+sbeyWSjbW49ye5gAE2ACTIAJMAEmwARsQoCFsk0wciFMgAkwASbABJgAE2AC9kaAhbK99Si3hwkwASbABJgAE2ACTMAmBFgo2wQjF8IEmAATYAJMgAkwASZgbwRYKNtbj3J7mAATYAJMgAkwASbABGxCgIWyTTByIUyACTABJsAEmAATYAL2RoCFsr31KLeHCTABJsAEmAATYAJMwCYEWCjbBCMXwgSYABNgAkyACTABJmBvBFgo21uPcnuYABNgAkyACTABJsAEbEKAhbJNMHIhTIAJMAEmwASYABNgAvZGgIWyvfUot4cJMAEmwASYABNgAkzAJgRYKNsEIxfCBJgAE2ACTIAJMAEmYG8EWCjbW49ye5gAE2ACTIAJMAEmwARsQoCFsk0wciFMgAkwASbABJgAE2AC9kaAhbK99Si3hwkwASbABJgAE2ACTMAmBFgo2wQjF8IEmAATYAJMgAkwASZgbwRYKNtbj3J7mAATYAJMgAkwASbABGxCgIWyTTByIUyACTABJsAEmAATYAL2RoCFsr31KLeHCTABJsAEmAATYAJMwCYEWCjbBCMXwgSYABNgAkyACTABJmBvBFgo21uPcnuYABNgAkyACTABJsAEbEKAhbJNMHIhTIAJMAEmwASYABNgAvZGgIWyvfUot4cJNJNAx86u8LthLly6BaAqLgHnUg/jyuXLzSyNL2MCTIAJMAEm0P4JsFBu/33ILWACLSLgFT4GI7//Cs6+vkbllP64DWm33ml03N4PhG3/Hl2nTm6ymVeuXAEuXcKlc7Woz8tH4eovcfrtFbrXTS3LQye3LoZzp/77Dk7+/s+G/ZZuzDhfpioi/YHHULzua9WxluxMKcyCk493k0UQkysXL+LS2bOozTyBnL//G+U7djV5XUszdF++DPWnTqMy+qCqqL5/ehkhL79oOHa5vgF7fAIN+7zBBJgAEzBHgIWyOTp8jgnYOQH3IYMQHr8PHZycdFtKwu/oY0/rnrPng2OitsE7MqJZTawvKETsyAhcqjmnun5aVSE6uroajhWv/QrpDzxu2G/pxoy6clURJ1/+E0iM2ypJQt/drVnFlW3/GamLlzXr2qYuch82BMPXfQa3Af2Rt+IjHH/ut6pL+r36J/T5zbNXjwkhv7uL39V93mICTIAJmCHAQtkMHD7FBOydwOAP3kbgfXeZbGb6fY+geP03Js/b64mWCGViUns0E7FhkSo8jiyUCUTeux/g+Asvq5i0dGfYlyvR7dbFhmJYKBtQ8AYTYAI2IsBC2UYguRgm0B4JjN23A17hY1VVz/7L31G5/yDI2ly0Zr2RZVSV2U539ITylQsX1K3t0AEdOnUCxKdeSpq1QOUGMK1SWJSFH7ic7MGibA0TyrvHNxhG18hAmvE5vbYUHTp2NFyZ996HOP787wz7tNH3D79FiPhnSGxRNqDgDSbABJomwEK5aUacgwnYLYGIpEZBLDfwYmUV9vXoK+867KeRUDYjroIeug+h//67yv+YwJV8uwmH77zfwLCThzs6ODsb9i/Xnsfl+nrDfks3rrXrBflkHwgdYVRtci/p/9orCH78YaOXiCP3PIQzGzYaXdPcA5YIZXqZ6eTlefUWYoLqxarqq/u8xQSYABMwQ4CFshk4fIoJ2CuB7ncsFROzfBDyf7+BS0CAoZkXysqQ/eo/pf3KfdE4dyTDcE7e8B4fjsD770bnfiFw8vTEuaPHUCUs0OSHWp9fIGdTfZLVL+jRB68eE2Il/8NP4TNlEnqK467BQSjZuEmaDGetiAl68F54TxwP117BcPb2xsXqalwoLUfVwVgUrPysWRZxa4QyNar3c0+h/z9eudo+sVWTnIr4yOmGYzTZzMnby7BfuulHkD+zNpGFP2DJIsnn1rVnEK6IyYIXKypR/vMuidnlOn1x3ZRQ9p4wHh6j1MK2NuMYKvbs01ZBd1/ro2xKKMsXj975I3wmTZB3pc/c1/6DrP/3N9Ux2unSNwTBTz6Kzn16wyUwEBAvJhcrKlAnJucVrv4C1fGHVNf4L1oA16BADPyveFYVFn3KV/TlOmmCZf5HK6Vr3AYNQNcZ0wzXE3NibyoR815PPwE3MaLi2r2bVAd6lsp37UFNSpqpy/g4E2ACdkqAhbKddiw3iwmYI6B1A9DLS6IgfvxVgUGidvi6VXD2Mz0RiqyF6fc/Kok7ZZlkZSQfXWXK+es/1UPi4iSFo4ty81dmM7lNvtUD33pd5c6gzUzRF1KX3GF11AVrhbLnmDCMO6CO7FCdkITEybMMVWrKR7lL/34Y8dXnoMlpJpMQkBW79yLlpluNQveZE8pdp01B2LbvVKKS7qHnqmDq3tYK5QH/+YcQv4+piqM+zxb/5ETPxdg92+ERNlI+pPtJQpVcWeRwhZNOH1O94OlddHDwaNTl5MLSyXwUFjFsy0a4Dx+qV5x0jF4ckxfcgoaiYpN5+AQTYAL2RYCFsn31J7eGCVhEwCKhLOIox0dMlcrr9eyTCCWLqcJ6Z+pG5L6RMGEGzmfnGLLoCWWyGmrL05sEZyhEsRFw80IMX7vK6HpFlqub4j5pt99r1op4NXPjlrVCeejK90EWY2Uq+nwNMh55ynDInFAmt4yJWelwUroIGK403qiOT0TilDmqE6aEMllUIxL2q9w+6MIzX32LI/cK9wgLkzVCmUYQIo8moXPvXqrSUxYuVb20RB6OR5fQ/qo8pnYo1BxFE6FkiVCOGTJGegYtEcoUInH0zi3o6OJi6vaG4/TyRaH3bOlCYiicN5gAE2hzBFgot7ku4QoxgdYnYI1QJmtf+MHdlonSX6p+/mQWYoaNMzREVygbzl7doNBeFLmgqaQrlIQgviT8fqVYxRpBfzYpRRLvTZUrnzcSyuJExoNPyKclK3ZHNze4iKF5vzkzdS2iyTfcjIqovYZrzAnl0NdeBb2MKNOF8nI0FJfANbCHbvzipDkLQe4xctITyoWfrcWEY8kgIa5M5T/vlqzSymNNbWuF8oXyCpx48feNlwlh3KlLZ3QU/zr3DRGRKG6WFq5RlkmT+PYG9IbsOtLj7uUY8vG7yizStuS3LfpPT7TGjghH7fGTmHRKWJSFBdhcslQo07M5Oe84Onl6mCtOde5yQwOi+wyWXGJUJ3iHCTABuyPAQtnuupQbxASaJkC+qiQ0hq76QOVKQUPKGY80CjbyQT0nfFgnkGUwpI+qUDqX8ehTIAHafekShIphdq2wyfrzX5H7zzek60wJZVqog/xFKcJGlwGh0kTCpqIikK/tmN1bVfU58833SBfWUfLnpYVTJmYdUblkkKjbH2SZ5ZIK1hPKqhs2saNn8TUnlMenxUs+yXKx2uvJ7WX0js3yaSlyRN67H+LE7/5oOKYVysQ/+IlH4NKjuyEPbWjLVp00s6MVymay6p6iaCo5/3jdcE7bZur3uHGTUXvsuJRngPA/pvor07Enn0PBJ6sl9xT3oYMx7PNPlKdRIfyIyS+dUummLdJkyaYsynohEkmsZz7zG8lv3itinBD070kvRcqbVcXG49C0ecpDvM0EmIAdEmChbIedyk1iApYSGJ8SCxqal9P5EycRMzxc3pUEMgllZWo4U4Lo3oOUhxrzZYgJVwpLLk1A2xfYT8pnSiiTD3RzJkiRH6/vrOnwnhApWQJTF91m8F+lG9JKg37zZhvqSJbmvb49DftNbbREKFO0i/QHHzNYTuV7mRXKqXFwGxgqZ5XaUi4mR+Z/8AnKf9op7ZMFlviW79ip6yOrFcrkz6sMnUaFkwiNGz1Bxcpw0yY2miuUSQBn/+1foIl8ykRuJj7Tp6LrtMmSRb7g49WgkHlyoomPU4pz5F3pUyu2LYl60ZRQ1raLuB3oN0zFmDhOElZnZ9+uqvrs9e/VrMmiqkJ4hwkwgTZNgIVym+4erhwTaF0CTQllij9LcWiVyVSIr1GbNsB37tXJa+SDLK+ApieUzx1OlyyIyrKbu+3s749uSxbCV7hBeIkV9bTD8jRUvserh8XFN0coU5SLDLGKoSnhb04oD/5QLPxy71369RMc63JPoXTLdkk4yxZXbWatUNaep/193UOaHRpNKyj1ylceI4FMS1enP/SExS4KFCXDf+F8+JB4FpPqlOH0qOxTr7+Fk3/4i+E2LRXKFGWDXFOUSRvWTz5H0VUGvfemvCt90vLutMw7JybABOyXAAtl++1bbhkTaJJAU0KZhra73bZEVc4en0Ajayll6P3iM+j/1z+r8soWYz2hbO1kMlXBYofcNfqJ+3UVVslOTSytTEPpe7xF2DELk55QLlz1hQhj11Oy/GonqVGxhZ+J5b4ffdrkHcwJ5aaWElcWSj66GcJirQ2ZZolQLl67QZqIpizP0m2tUCYhXLz+a2nCnkfYKKOJiGSZPfbEM1LIP3P3oOeGYlF3IfcexYiE3jW5//ovsv70quFUS4WyNCl03WpDebSR+fQLkEPLKU/Qy9jkvEzlIZx+812V+4vqJO8wASZgFwRYKNtFN3IjmEDzCDQllIevWYWAWxapCt/d2Ve1L+9Q1AeK/qBMR+56AOQ/rCeUtaJHeV1T2yRwhq1ZaeRaYOo6mkBGAt/SZCSUFdZxKqP380+j/9+vWjblcqvjEpA4da68q/o0J5QpI4VwG/XD10ZWVFUhih0KEUeT8uRkiVAmK/9BEQ2CwqZZm7RCWRlHmRb1GEkjCrOmGxWrDQknZyBr8TixMmRToeHk/PRJPs7kfiGnlgplegnU+jnLz6x8D+WnljE925SfExNgAvZLgIWy/fYtt4wJNEmgKaE88H+vSwuCKAvaHxQKisigTf3+3/+hz+9eUB0mX2byadYTyrTwhNZvVXWxiR1anCIyPdHI+kgTEWnp7dLNP0ruF8qJYLYWylS1IR+9gx733GlUy1P/fQcnX/6T0fGmhDJdQEtc93rmSQTesxwUV9mchbWhRPiK97rqK64VcVQeWX217gvahVAonyXJnFCWr9eb+EnnkuctNlrYZPRPm+AzdbJ8qfRJ9T2bcljywz7z1TcIj9urqr9WdBsJZRExhSKnKJM5H2W9iaHUd9SH2uQ2oD9oAqIykRsIuYNwYgJMwH4JsFC2377lljGBJgk0JZSDn3ocA16/asGjAmnBCBIs2hSRGK1aLINET5RnY8QFPaFMERto6NraZCR8RAG0yEnxuq8NRWkjGbR4Mp/GoizfiKJr0ApxqiTyxo2ZKEUMUR63RChTaDuv8HHCrSJBRGxogN/8eVKoNd85M1TRSaRyxX2i3AMME/O0Qpn4J0ycidB//VW1Mh1dm3rz7SjbtkNZvSa3LRHKxGJCZgo6ODmpyrtYfRb7xcROikoiJy0PetE50H+4Ko9WCGe/+hpyxMRAOWnP02qPmb9+UT4tfRo9L4q+dOrqgymFWar85NKSOOXqRFD5ZOi//oZev74aIpCOJ0yahbOJ6smucn7+ZAJMwD4IsFC2j37kVjCBZhFoSihLkQeKslWWTZoYFzsiQppgJt+0x523Y8inK+Rd6ZMWHKFYtpT0hHLmsy8h//2PpfPW/BceE6UartdO1KMIBRNzM1Qrt7WGRZnqTBFDxifHqPjQcVommSInKJNWGFKEh/QHHpdeLsJ+/BZOIqKCHGKvZONmHF5+n/JyDF//GQIW36Q6poy6oBXKcoQI8q2ddOqoyk2FRgRoZMCaZIlQpvJoNT5alU+blD7pEjcRcUWZtP6+enGWc/7+b2S/crVsrVDW8xM3J5Tp/noxmQ/fcR9Kvrsajo+syRGHDqis2+SDvcejm+FFRdkW3mYCTMB+CLBQtp++5JYwAasJNCWUqUCtMKVjtDpZsRgap9XSus6gEF9T6LAq0cpxFLOXki2Fctj2743uR0PlNMnLY+RwDHzzX8IqO1ZVF6V1W3XCxE5TPsrKy4yE2C8ntW4CpoQysZlaekolwsiXOEeEUyv4eJWIUlGFgJsXYcAbr6kmzFEM6r1+wYaqaIWy0oVg0DtvIOjh+w15acPUyIAqk2LHUqFMl4TH7gHF6tYmsnCfPZQMPUsuhRNMumGxCGGXKcVP7vfKH9VMRGF5736A4y+8bCh2+tliVZ5LZ2tEHOXP4T0xEodvvwf1+QVNLmFN9+nz0nOGMuUNislcsWefmDQ6GN2W3aJ60aA85DZE7kOcmAATsG8CLJTtu3+5dUzALAFLhDINp9NyxLK102yBv5wkNwhyh5CTLYUy+UGTP7RREuLSnE+vqWgdRuWIA9YIZbqe3A20kTDoZUKKxyt8tCmZEsp0bvD7/0Pg/XfTpsWJonAcffzXhvzmhDL5KU8tOaVahIVeHvb3DAW5RViSrBHKkhU7+4hKxNI96guLcKDvUOl22vIMdTDTj2UitnTq4qtLhU8uOGkU21guJ23ZPdJiNkYvMgrXCzmvXv/J5/Q+lRMZ9c7zMSbABOyHAAtl++lLbgkTsJqAJUKZCqUQbCO+Xdu4PHQTdyndvAU0dK30R7WlUJZcK7LTjVZKU1aL3DG0wv7k7/+MU2+8rcxmcttaoUwT78anxRlZHasTkpA4uTG2tDmhTBUJ27rRyJfYVAXPHclA3NhJqtPmhDJl7PX0Ewj9t9oCSn2VdptlAl0rbJsSiz0ffRA0GVSbZEu7nmuFNq+2Hy/VnAO5m8iJoqxQtBW9lPXHV5D77zebtCjTtRR3e+z+n41edvTKpfB8yfMWSe41euf5GBNgAvZFgIWyffUnt4YJWEUgPH4fPEZc9aWlJatp5Ta91MnDHUM+WQG/G+ZIrhTaPOT3mvHgE7qTxMiiScPkynTsV8+i4NPG5YaVxy3ZpmWZR2z4wsjFgq4lcUor9YXH7ZHiHsvl1aQdQXy4sYuIfF75qXXvIH/UKDd/ZRaj7b5//j1CXlZPJKNMSXMWonJfNKaW56teNGQfZWVBJGZ7v/Ssyr9aeZ6EYvZfX9OdBNmUUKZyJuUeNXrBMBXFRHlf2p5yJlfl+qH0QdfmlffHHdwNz9Gj5F3pkyzttPgLMe35+MMI/eerRs8T+ZQff/63aCgplfpZWQC9INCLAiVa3W/0T5tVPut0nMomH21aQj3k/15C3z/+jg43Jh2LsnyK3DDIRUW7Ah+dpzrlvv6m7kRW+Xr+ZAJMwP4IsFC2vz7lFjGBVidAPsDkD+wc4I/qmHhURh+UQpG1+o01NyDB7DNlItxC+0v+0BV79l+Xemiq1eJdsnB6jgmDu1idjhKtYki+vRRqz94SxWCmtnpPiMDlhgsoEyvd1Z3Os6qZrj2DpCXL6WWufGeUQUhbVYgiM03e8xw3Fl36haD26DEpXvXFqmpFDt5kAkzAUQiwUHaUnuZ2MgEmwASYABNgAkyACVhFgIWyVbg4MxNgAkyACTABJsAEmICjEGCh7Cg9ze1kAkyACTABJsAEmAATsIoAC2WrcHFmJsAEmAATYAJMgAkwAUchwELZUXqa28kEmAATYAJMgAkwASZgFQEWylbh4sxMgAkwASbABJgAE2ACjkKAhbKj9DS3kwkwASbABJgAE2ACTMAqAiyUrcLFmZkAE2ACTIAJMAEmwAQchQALZUfpaW4nE2ACTIAJMAEmwASYgFUEWChbhYszMwEmwASYABNgAkyACTgKARbKjtLT3E4mwASYABNgAkyACTABqwiwULYKF2dmAkyACTABJsAEmAATcBQCLJQdpae5nUyACTABJsAEmAATYAJWEWChbBUuzswEmAATYAJMgAkwASbgKARYKDtKT3M7mQATYAJMgAkwASbABKwiwELZKlycmQkwASbABJgAE2ACTMBRCLBQdpSe5nYyASbABJgAE2ACTIAJWEWAhbJVuDgzE2ACTIAJMAEmwASYgKMQYKHsKD3N7WQCTIAJMAEmwASYABOwigALZatwcWYmwASYABNgAkyACTABRyHAQtlReprbyQSYABNgAkyACTABJmAVgSaF8oy6cqsK5MxMgAkwASbABJgAE2ACTKC9Etjd2ddQdRbKBhS8wQSYABNgAkyACTABJuDoBFgoO/oTwO1nAkyACTABJsAEmAAT0CXAQlkXCx9kAkyACTABJsAEmAATcHQCLJQd/Qng9jMBJsAEmAATYAJMgAnoEmChrIuFDzIBJsAEmAATYAJMgAk4OgEWyo7+BHD7mQATYAJMgAkwASbABHQJsFDWxcIHmQATYAJMgAkwASbABBydAAtlR38CuP1MgAkwASbABJgAE2ACugRYKOti4YNMgAkwASbABJgAE2ACjk6AhbKjPwHcfibABJgAE2ACTIAJMAFdAiyUdbHwQSbABJgAE2ACTIAJMAFHJ8BC2dGfAG4/E2ACTIAJMAEmwASYgC4BFsq6WPggE2ACTIAJMAEmwASYgKMTYKHs6E8At58JMAEmwASYABNgAkxAlwALZV0sfJAJMAEmwASYABNgAkzA0QmwUHb0J4DbzwSYABNgAkyACTABJqBLgIWyLhY+yASYABNgAkyACTABJuDoBFgoO/oTwO1nAkyACTABJsAEmAAT0CXAQlkXCx9kAkyACTABJsAEmAATcHQCLJQd/Qng9jMBJsAEmAATYAJMgAnoEmChrIuFDzIBJsAEmAATYAJMgAk4OgEWyo7+BHD7mQATYAJMgAkwASbABHQJsFDWxcIHmQATYAJMgAkwASbABBydAAtlR38CuP1MgAkwASbABJgAE2ACugRYKOti4YNMgAkwASbABJgAE2ACjk6AhbKjPwHcfibABJgAE2ACTIAJMAFdAiyUdbHwQSbABJgAE2ACTIAJMAFHJ8BC2dGfAG4/E2ACTKCdEzhXXY7KigocL6rGpQ5OCBvUF37eHu28Ve2n+hcvNKCurhaHDyUhZs8+XOjkhc7e3TF12lgMHhQCZycndOzYsUUNqiovRf7JTDi7e6JrUG+4d+mCLq4uLSqTL2YClhBgoWwJJc7DBJgAE2ACbY7AhYZ6NNSfR3FBHk7n5ePQqSp0cPXAkhnh6BMY0Obqa28VunTxIurOn0N1VSXKys7gx2824ov3P0a9S0/49hqO51+8B/NvnIzOrq5w6tSpRc0vzM1C6sEodOzsCd8+A+Hn54+uvl0lsezi7NSisvliJmCOAAtlc3T4HBNgAkyACbRZAqePH8bR5GhkFjWguNYZI0cMweCBfRES1A0ebp3bbL3toWKXLl1CRWkxkvbtRFJSEpIys5GZeQJZ4l8Xr/7o3W+0TYVyTXUlSgrzkBaXgIS9B+AROhzdho7C5LBBCO3Vwx6QchvaKAEWym20Y7haTIAJMAEmYEzgypUrqK05i4qSIhw9koyUQwdRecUfHT2DsXBOJMKG9kcnYb3s0KGD8cV8xGYESCiXFeUjZsdmxMUnIP5YDk7l5qEkPx+dhVAO7htmU6F86dJFNIgRhNgdP2Pb2nU459UNzj37YMZk0efDBiHAR7h7uDrbrH1cEBOQCbBQlknwJxNgAkyACbRpAiSSSaDlHDuMA9u+Q25lA8508sXEsWEYP2oY/H294enehUXyNehF6gtyfSHf4YqKcpRVVmHflm3Y8vmXqOjQDV0CB9lUKNP9rly5LKzYpUKMFyB2/y4cPpyKziFhCBkShnkTRyG4m+81aDnfwtEIsFB2tB7n9jIBJsAE2ikBSZiVFSNVDPX/y9zuVwAAKChJREFUtGU7Ovl0R/DISEwYNUhM4Atpp61q/9W+ePEC6oWv+LY16/D562+g4JIvOgb0t6lQlildvnwZ9C/lwG4kxx5Ael4NOnn44cb5czBkUH/4d/US/tAtmzgo34s/mQARYKHMzwETYAJMgAm0CwLnqiuQdUQM86dk4udD+Rg3bhTuXjoPXu5uYtidIyBcr068lkK5sY1XUHO2CgW5uVj/3ofIyjqFUQuXYkxkBMYN6w+3zvwsXK9nwR7vy0LZHnuV28QEmAATsCMCNOxeX1+Lgpxs7PjuG5wqroRLz2EIF0J59qQwOFH4MfZJvm49fu2FMnBRRNwgt4/d325A0qEUFF32wpCwMCy9eQ66B/iKaBiu140H39i+CLBQtq/+5NYwASbABOyOwOXLFGGhCEeSDuGT/63AZSc33Pb4UxgxcpiIcOHvUD7JxOLypcu4dAVSu52drv/ExeshlOkhbxCxm0+kxSF63wGsWh+F4H6hePLZRzAoNATd/bra3d8BN+j6EGChfH24812ZABNgAkzAAgLkj1ovBNGhvTuQEBOLA4fz0aN3f9x73x3o368XvD3d4SjxLciyfiYvC4UF+cipuoLOHt6IGB4KX6/ru7jK9RLKtNBJseARfzAGH6/4DHUdumDsnPmYOW08Zk0MkxY5aelCJxY8opzFzgmwULbzDubmMQEmwAQsJUBCrK72HM5WlqOm9jxqzterLu3Y0UmEXnOFtwjFFeDfVbg8tL4184IQQ2erKrBp9Qc4GB2Dsz6DMHzseNxzy0wEdfOTQsGpKmlihyImNNQ3oLK0BGfP1qBeDN1fEu2VEwkq/4Buom0+oAUsOrVwJTm5XFt+XhEvDcdTY5CRcQQJhZfh5R+IO+ZNQq/ufra8jVFZ9FycP1cjnosy8VzU4VxdgyqPk7MzXEXc6ujvN+Hbd1e06mQ+5Y3Jul4j/NZTE+Lx6ZtvITOvAggchttuuREP3XUTXF2cpVUBldfwNhOwlgALZWuJcX4mwASYgB0SIDFEwiMrPRVxO39EYvpxpJzMV7XUxdULXl59MG3aBNy2bC68hSXTRYik1ky156pRWlyIVf/7HxLikjBg+kJETJmC2RNGwVcsU21pvGSKwVtSWIAd6zcgQcT9za2uQq0Qy3LqLJZEvmXZXZg6fSYC/X3EgiVtz8f1eghlei4oJN/x1ATxXGzBoaNZOJxTKGOTPoP79kX4tKk4k3YYKd99j8LLfq0W9UJ5Y6pbQ30dTopnduPKDxCblInMcifcevvN+NUTd4vRBg94dOGFZ5TMeNt6AiyUrWfGVzABJsAE7IYAiQ0awq4UsXCzMo8jIzVFLOKRgJKqalTVX5SEqGSNPV+Lqup6FJ25gLHjxmHZ7YswYsRADAjtLVlfW2uIu+xMPk5nHcOKt1Yg9XAmFtz7GKbOnIExQ/patPreBSGk6s7XIP3oMRxNP4rc1CMoEHF4yy7Uo168GFD7S8WKb9UVZYiccSMip85EZMRYhPQOlqIntCXL8rUUytTnFy9cQLmwwNNzcSRVLO6SGI/ymvOobpCfi8Znp4uHO/x7BKFcRKE4nXgI55yD4BE0uFXCw2n/8EjE52UdxY4Nq7BrTxyiUgowf8kSPPrkI9Iy5t39fLSX8D4TsIoAC2WrcHFmJsAEmIB9EZCHr48kJ2HNh58iq6ACHbr1w/Sp43GTWOnOSaxyd0nEyS0vOo0DBw7gw5XrhEuGE0JCRuOeexfhrrvmi9Bsrq02xH0qMxXpybF475M1yMwpwmPPvIRZc2ZjQK/u6GJBGLAqMQnwTEEu3vtoFaJjD+GW2+7E+PGR6BHgA2dn0Tax4lvMT5uwb+v3OJxfgU7e3fHQY09iqrBa9+rhKw3ft5Uev5ZCmbiQW0NSbCzWfvQp8srr0KF7f8ydEYm508dJz4X87CTHxeG7tV/h6PETKCgvh4fPQIT0t+0S1qb6gF50ik+fxL4f12Dbjt3YuCsJk+YsxPIHHsPYof0wKCTI1KV8nAlYRICFskWYOBMTYAJMwD4JkDW56PQJxOzfh/ff+RDVlzpj+LSbsGDuVCwWQpksxVeEaKquKEHcgf34+P0VSMs4jfJaVzz06H149In74e/jKa2IZ0tCJIDIqpkSvRMxu7Ziw/ZYlJy7gl+/8BxmzZyGnmIVNvJBNZVoglmDWAQjOfYgYnbvEgtTlOAcXHD7bbdhvLAY+wm3DWenjtLiFQlR2xC9/Xt8/dN+5JSdx6LbH8S8OXMwdfwwdBXuJa1lLTdVd1PHr5VQJpFcJQRvcvQ+xMXEY3/8EXgH9sLYKdMwMXwExokFXqTnQljk68+fw1ExCvHz5k34ee9+7BT5fbqKkYYB466JRZlYlYmXuKR9W/CDWITms407MCBsCmYsWIabZoRjwpghUuhAS110TLHn445LgIWy4/Y9t5wJMAEmIEWUOJESg6jdP+O9levh5t8by+5/AlMjx2D8iFCJEIlWEk8nDidh65qP8fOeA9iZdAx3PfgEHvnVr9G3ZzcRjsvLpjTJWkmxcnd/txbbN3yJmMxqXHbvgWdffAzTpkYKce5l1opN7hbVYvLZ+k9XYeXbKzBp6b2YfNPNiBw1UAzJ+6vqmp1+CIcTo6X27xd+roPGzMQN8+bh4TtvRHBggGQ9VV1wnXaulVCmVfZOnzwhVtn7LxKSj+JC75GYNXc6HrlzPrxElBEaZVCmmqpylIjoEys//xL/+M878PIOvaZCubr8DDLFM7xp8494b9VX8OwxCIPHzpT6b+HsxlGRtvKyo+TG2+2DAAvl9tFPXEsmwASYQKsQIB/evJNHsDdqN/7z7sdw9QnEsgeewLTxYxBhSijvFUL5UOsKZbIIU8SLH1Z/iu9Xr0ZmpQvcg0Lx3AsPYsrksdJqfJ00gk0JiIbjj6UcwPebduO7Tfux/NGHsPC2WxDaqwf8hAVcmSqFe0bBqSys/3w1omOShIvBcERMnIxHls9HcJBjCWV6KSoS7I4kJYjRg09RUFKDSYvuwNSpEzEtcoS0AqJ2cReyKtNLyTdfrsGK199EnfBR7ho87JpZlGnFxrwTh7Hx+814491P0LFzIHr3j8BTTyzF0sUz4OLiYiTulf3P20zAHAEWyubo8DkmwASYgJ0TIP/jsqJTiBe+qO9+uBJOHn5YcNvdGD96OMIGhUiT3WhSV7WY7Hc0JRE7Nq7B3pgERB/Jwt2taFG+IKJUnBfxkzes+ABfvf8JSjp2R7eBIyXxNUnEyKWV10xZCUns0UIU+7esxY79mYhKKsGzLzyKO+9eImIOe4pJeuqIFjQhjMKfRX2/VkTWSEBhhx4IHToSy4XI6iFcPLQW1Ov1SFwLi/JlwSIjcR8O7t2FT9ZuwmUXLzz9wm8xYfw4sbhLgAjH19Go+dcrjrJckbpzZ3EmPwvfbvxeWLTfRn2DJwK6DRXPyr1YLl523ETkCxexeiMnJtAcAiyUm0ONr2ECTIAJ2AkBEl+0oEdZWSkyj2eho7MLevbuC7+uPsI/112y6pYWFWL3xu8QvWcPEjLSkFtULKJi1OD+R55qNdeLOmGlrDlbiTVCKH8pLJs1rr3Qa0jjBDFzQplEMrltHEmIxs8iEsKBlCIcyrokRNP9WH7nTSJSRhe4akLaSa4lws2jOC8H5WXlOI/O8PD2QUgwTRh0tTgEXWs/Eq0tlGlxF/JZ3/vDV4jatgXbY44LN4YQPPPC0xg3diR6iAgSelFA2ppQPlfrjK6+fcXow8NYftdi+IgwcV1cXVq7e7h8OyXAQtlOO5abxQSYABNoDgGyMFNs2oLCIpzOy4dYLRlnKyqRLib7HU5JQlqOiGwgxGTl2Vrc/2jrCeXzwkpYVVWKz9/7EJ9/8CkauoQgZNjYJi3KktgTbUjavxubVr6P5BM1OFHhjheEdfGO5TdIlmjnNmZdJNeF8yJedEFRCc6UlpvsNhL0+SfTkZubg2Nll+Hm7YdZEcMR0NW0f7iHp1gcpkdP+Hh7wtvDzWTZdIJcXc7X1uC7VR9gm4iHnHa6HsGDRgi/8McxOmwo/L29hRXfeB3EtiaUz9Z0EH7SwZI/+5133SK52rh35njKZjufT5okwELZJBo+wQSYABNwPAK1wt+zXMQu/nrjJqxeswGunf3QvXsvzJ0zEV6ul5C0Zxvikw8j7mgO7n7oV61mUW6uUCY3ioaGOhz8aTvWitXajhVdQPGVgDYtlGkZZgqD983mHdgedcDMQ3dFRJmoRV1dHWovXEEnJ2dhLXWXVhI0ddEA4UIyd9FtCA8bgREDe0sRIEzlpcVdqipKsfKt/+H7r75DcUMXDBkTzkLZFDA+7hAEWCg7RDdzI5kAE2ACpgmQFfacWKkuTyzskSWiHWSeOImTpwuRU1AqXDB6oE/vEMyYPRmuIsBa9HdrEBUd2+qT+ZovlC+iXljEo7dsFVEb3sCx4jqc6eAnLNEPSK4Xnm5uZsPKmabUemcqzhRIsYCjDsQjLumwyRuRRbm6vERY2itQWnsFzp3d0E9EHHE3s/pccEh/REyagcED+qG/iD1tLkwaubpUlBXjQzEh79t1G1HVwQsjIiJZKJvsET7hCARYKDtCL3MbmQATYAImCEj+ucIKm3fymFjdbDV2iVi4UcnHMGvBLbj3oSekCVyBAV2lSVw5x9Kwfe0nIl5u60e9sJVQPpJfiYJLbr8Mwy8R8ZO9jCbzmUBzzQ7Ti8plEX6vQUyavHDh6rLa2gpQXOmThxOQeSwDSUWX4enXA7fOGi/FlNbmlfcpMoizi6s0IVFvIp6cjz5ZKCtp8DYTaCTAQpmfBCbABJiAhgAJEgo5lZ93GvsOxCIvv1CTo+3sunl4YnhYOEIHDECv7n4WrVanrD35I+dmpiApToRSE+4WhRXn4d6jH+aKOMI3L1oIHy83eHRxVcdRtkIokwikiXknUg+hTCxi4SbKDugeKFa98xNxkNXxeJX1ogmG54QrwDoxmW+NiHpRBl90HziiMTzclHFSeDi9aBQ0kY98beNFXOhvP3gPMelZOFxUg4eeeBxL77gNA/sEmfXpJR9t6vu6+guoFwuUeLi7CQbuoIl0zWmHsk0t3W7tyXxKofzN2g0oudARQ8ZGiMl8zyJ8XJgkyFs6mY/+ti5dvITjaYkoFH9fbt37wlf4UDfn2ZV5aqNe1NZ1hp9fYyjB5XcuhJfwze4sQsRxYgLNIcBCuTnU+BomwATsmgCFyCotzEFifCz+89YKHIiNFyGnGkQ0hSuKdndAB7FqnVMnJ3QWkRHIWmduWFtxYbM3yfpL/yh0Wn1dPcQ8O0l00gIhN8xfgAkjB8BXrDhneboilimuxH6x/O8OEeVg485EdOs3HLeLOMpTIsIwblh/qahGq7NiwRErhDItVFJZViItVHLi+En4hc3C0JGjMWHUALOWXRK75ELx7QciPNwHHyO71gmevUMlN4DpYsERioWsNylPrmtazF5sW/cJdhxIxN7ULCy562EsvOV2TB47RFogxVRf0cS64lMnUVlzHuedvNHN309Y1f2lSBrNaYflfdF0ztYWyudqqkRfncFHb7yFb9asw+mzNegv+uqp53+HiZERkuuGUwvDwzX6kNdjm1i45lBMNPxGzcSAURHNeHav8tIK5QuXfNA9cASef+5u3HHHvFZdYv1qLXjLXgmwULbXnuV2MQEm0GwCJLbqas8i/1QOft72A3buisLOfbGoqKo2lNmxozM8PIMQGjoYN944CSEhQXAWYceMYwIYLmnxhhRbWNQrVrhH7Nm+AxX19XDzC5BW0muOUKZoBWVnivDdx+/j560/ISG3AkMjJuCxpx7HyKEDhEDsJtVZFp+GlfmugVAmgU1ieduaz7D5i9VIya+Hk1+vJoUyQOHhruBY8kHs+f4L/LDrILYeSMOwUTMwYdJs3CNW2wsXYpn6SrtwBjW2pqoSx1OTUX/hEvxCQuHr5yvFXr58uXmCv8WdriigtYUyTYKsrTmLrz95Hz98/RUST56GT68BuO+xZzBt8gSEDQ7RHQWwJurFtRDKTu490XfIRPzqoSVYctNUKYayucVpFIh5kwkYEWChbISEDzABJsAEGgnU1lTj9PE07Nr5M1Z9uR7Hs06hsvqckGIQFmQXePv0Q9jo8Xjk8TswPmIUevbwl6ycpqyVLeUquSMIq982sbDCt5+vwbHcXJy70gHzbn8As+fdgGnjRAgvzapz5u5JSxUX5+dJk95+3rIT2XUuiJw1A8+JZaJD+/UR/ryNK9i1TChfEuKzAtHbNuL0qTz4DIxA34GDMHJAH2HpczZZPXLZIFEVvfVb7N60AbuS8nC+k48Qyr/C9OmT0K2rt9loD6dEvx3a9yM2bv4ZG37YC3evPggJHYmHH7sDM2dOQM/u/uoYyWSpF8K8rKQEh2IT0VGEkBsVMQ6+vl3F5D8XqS7NaYfJBjbjRGsLZcltRYyc7Nr4JX7+YSO2RIsXBhcf3HDzcsyeOQ2zxYqINHFQ6+usFcr5F0S4Ov++Uuzq+fOniGu6GBZtaXSNuYADWzfiaFoKvAeGo/fAYRgxoHeT4etMIasVfxNFuZnY+N0m/PPNFfDtNRSjJ92Iu5fMxNypY0V9O+m+FJkqj48zASUBFspKGrzNBJgAE1AQuCQWoaD4thkp8fhp0zrs2h+PqPh0yWLZoYNwu3B2Q2Bwf0yYeSPmzp6GRXMnoKsQl3p+nIpim71JIoN8aAtOn0bOyZPY/OVaHEpIQq+p8xExYwaWzIhAkJh4Z2m6FkKZRDYJqQphuT5//jyc3X3g5uEhfIy7mFxZj+pP15F1OCMxGon7d+Kzb3Ygr/w8fv3Ci5g1ayZ6B/oJv1PTQruq/AwKT5/Ahi/WYdWHq1F1qRM6eflJfTVr9kwsmjMBweLFRrY0EtvKkkLkns7D3uRseHh54yYhqAN8KXZwx8YVCpvRDkv7wpJ8rS2UiTlxSD24Ewd278Cqr39EZm4ZgkOGY+HC+XjooTvQI8APnqLvlEkrlHPEgh8Xu/YU/uSPYMFNM8XCNR6GRV7oHuSnXC6eh5rqajh7+KCLu6f0PDiZ8VlX3k+7fbayFNnpiWKp8h/x9kdfYMi4qViw9F7MmjASY8l9qINwk9JexPtMwEICLJQtBMXZmAATcFwCZ/KzcfTQPmz/aaewUO5AcXkVysWCG5TcPH0R1G8Epk6fjmVLb8KQ0BD0FgKsNZMkTOrO48fPViE6ah/O9xyGAaPH4I55k6RJUZbeW7KgCsGy8cP3sGPrDiTlVWPgmAjc8+gDGDdyCAaH9JQEIsXuLcg9iZT4GPz0w3eIE3GU07ILsOzeR3Dfw79CaC9/9PD1EouTdEBHYb3rLFZB01uYwtJ6KfMVZB9F5pEkrPhgFdKOncKtD/4Ks2bPwtih/eDpZnoRCXIjoMgZO77fiI1ffIHEzJPILq1CUN8RGDkqDHOmjEb3AF/DSw0JuHNVVThXdwG1rmJVvpA+mBkxAl1FnOK2klpbKFM7iUNhTibSUxOxZt164Z+fAoENYWPDcfOti4XbykgMHz5QEr40mZJEL/lu52VlYvt3m/H16jUoqgMuuvngpkXzEDlJvLwF9UHv4CCE9Oohheaz5YgL1be08LRYYOYnbN2+C2s27cHUeQtwz8OPYHhob/QTqytyYgItIcBCuSX0+FomwAQcggD5BtNiDAd2/Igt6z5DdNpxJJ3Ik9resWMnOInwWwPFhKRJN96Cm2ZMxE1iuLc1E4kDsvwdid2Lw2mpSKt0gm9gb6uFMpVTIyI87N0khtq3b8H3Uclw6dYXk29ahkWzJmPRtHFStIuyM4WI2rgWO3/egZ1xqcgvqRA+vBew6Pb7sfSuBzC0jx8CfT1R29BRTGzsIibAeQsfYCebIKiqKBGW4Wy8/5//4UBMEgbMWoypwqJ8y8wIs9ErZEYnRHSFlNg9WLV+E7ZFHZT6qrNYpc1dLGVNE9Nk0UYjBK4uvugXOhR3P3gHJk4YJ6I8+LWpmMvXQihTp128UI+y4gJE/bgOO3bswNZ9aTh/sTO6de+He++/Hffcd5uwEnvCXUxiJV/yE2lJ2CXia+/YcwA7Dqag4ZKwGgsrvKdYOrqbEMmhIydLrht3Lp4h4nJ7Gaz4LX1AqI/JPacxtOEqRO07hL2Hz2DxbUvwq18/gh7+PpJ/eUvvw9c7NgEWyo7d/9x6JsAELCDQKLouI/toGo7E78fmTdvw8859KBOuBDVCMFLy7RGM3oNGYuGC+Vh280JQ7GGKzNBaieqUL6yt2dlZiDtZiS7Csn2ziKkb1M3Xqls2CD/lrPRDSIzZj+++/wG5JeeArsEY3D8EYYNChIW4C5w7OcO943lUlRcjLeMoUtOPIvnIMQwYGoZR4yIxZNAgDB40EINC+6FnYDd4i3Bqcug2Cj9XLXyUUxMO4Wx1DQaEjUGPwCB4e3YxWHPNVZhCspWXFmPNincRvT8GHfuGY9ykybhXiC5iTG4R5lKFcKc4k5+Dnbv3YLeYBBkrXFVO5xWoLvH274mAwD4YO3IUxoePwfQZkxDavw/cyB/3l/Jb2g7VDZu5c62EMlWvTixlnXM0GSlJCdgjuCcfzkL68QKMDR+NyImNvsqdXQQfJzc4d7gIl8vVOBQXLya/RqGiAbjs4o4x40Zi6IgR6N1/GEYOH4LxowfD1amjtHJiarwID5dfICJejEHPPn0k/2Rz4QL1kNHfAI2KnDySim8/fBcJadnIrvfELbctxOMP3y5GHLpIfuh61/IxJmApARbKlpLifEyACTg8gQvC0lYnXB7WvfU2vv50JY6UlCJfRAlQprmLlmGpcEmYMGoQhoX2aj3fSCESqqvKUFhUjJiUHCFYXDF32lhhzbXcR5nq3WiVu4hTxzOwjRYT2b0Xu5IzUXO+XpztAHf3QIQOHI5nnn8UY0eFouJUOn7Ysh0rVn2Fc7XnhZ+2sKaPERElpszGw8tvQNiwUEkky5ZaWhI5VwzLf/ift3D6dBGWPiFi8k6MFCvKBZidjCczJYshTarcKsKJHdgXjdMIwuBRY/HwnfPRKzAATmLSXVOJ2lgi3GdSheh77Y13hOVRvUx0v+ETMTx8pqj/jZg9ZYxUf60Ab2k7mqqjJecloZwWi6MZR5BYKBYc8Q/EHXMnIljEz26tVFFSIKKAxOJb8RIl97l8r05OwjIvno9JUyfjkSeXIz85CTs+WY3sc0IMe3eXnpkFC2aLF0Yvgz/5WTGCUV5aJD0PMftixPPwa0yZM1eE7AsQk/5c5aIt+iS3D/p7zDh0CJ//W6zCWFCJSyGjcMvi2bj/trlSP8o+6BYVyJmYgA4BFso6UPgQE2ACTECPgDSZTgw1px48iLi9e7D5x61ISElFlQjT1iCiNFDq3W8ABg0diWXLlmHunFkiCoWH2XjBevex9BhZW8vKypF4KEMI3o6YMGE0/IVQ1oq8psqjCBNnK8vFwiNHJGtrnnCtaBCLQpDYdRIWQx8ff4waMxzdhUtF3dlyZOfkCsvycWHNuyj5JPsE9EJgz14YNrCPYfIbWWDrzteIMHY/IUr8i46NQ6cunnjo2d9g4uRJFgtlErlU1rGUOLEoSjy274qHd7cg3PXgfRgolmUOEEP5oppNpCs4L8R2ackZJCSlGC0g4+0XBL/uwRg2SPjSipB41G5Z6NuqHU1U0KLTxKKqrAjlYuGWM+euwKWLOwb2DoSHGV9tiwo2k4niSlcKYXsiK9vQ53L2jh2dxIuSO4J6BmLYyEE4JyKGnDqSgeqLHXDJxU1EhBmOkL690EVEDbl8+YK0YEvsnr3YvW2bcKOJQ6kYYXjw17/BnBtvbJZQJheRQhHzOvFgLFZ/8jU6uHlj2s2LERk+CuNGDJD+DuR+lOvMn0zAWgIslK0lxvmZABNweAK0glmBiLH85fsfYvvW7ThaWISq2sbJfQSnk7By3vfwk7h12Z0YMbgvAoU7BA3h2/pHm6ytNdVnkZF2VPLVHDxiCLxF2DTZ7eF6dtR5Ee+ZFjNZv3I1vlv3FU4WFMKvVx88/tzvMHmK5UKZ2kCWQ/KlPnYkDZ+/+z5qL3TA1KV3IyxshLDaB1v9YmANF1u2w5r72lteCm1IffjDhq+xTlidTxaK1S6F0H/s2Zcwb/58q4UyvTTQZM20mCjERMfih70Z6Dd4CB7/1b3o27snfIR/NCcmYAsCLJRtQZHLYAJMwKEIXLzYIH70q5AWdxBRu3fjsw0bcSI718CAJoYNHhqB8PGTsXz5YkQIC5eXWAq5ueGvDAVrNkgsXBQ+0tViIRSxCU9vL7iIkGm2FuSa21q0S6H1iNPJY8eQnpyCrV9/jeqaOtz86FMYO2G8xRblxpuRL+oFlBTmIWbnNhzLKUTxZT9hOQzDzfMmSi4c1lrRLWqEyGTbdlh6V/vLR5P+KFrLqawsHM/IwNYN3+Bk5gksfuRJTJo922qhTL7J5SXF+GHVSqSlpKNj76EYMW4sbpw1Ab7C1cPFApcc+6PMLWoNAiyUW4Mql8kEmIDdEyABVVVaiKRDCfhk5SrExCUir7BYckcg397OnX0R3CsUt995O+bMmYbhQ/vDpxVjLLdV4MpYzaeyT2PW/Y9i5PhwK4VyY+vIgpiflYFkYUHfHX8MfUL6YcrkSPQRIcB6iAgV5IHRWi8JtmxHW+2ra1GvBimCzFlpkZv4qP2Yef8jGCdigFvqo0wvh/SvOC8HWZlHRUi6bThTdhaRNy3GqLFhGNKvp8Ef+lq0h+9h/wRYKNt/H3MLmQATaAUC9GN9SVi1ikUM18To3diyfQfWix/tSuEKQYn8N93cu6J/6DjMmDETDz50Mwb07yWt8tZaYq4VmtniIm0pMC8LV5MGMYR/QkQfid4pInSUXULJlW7CqjxZmshI7i2tZVm2ZTtaDLUdF9BSody4YuNFsWLjRsTs2YmCy77w7hmKW26cjoH9gqUoF3pLk7djZFz160yAhfJ17gC+PRNgAu2bAFk5z+RlYW/ULqxfvw5HMrORk18iNYqWuXb3CMLIsHFYeuetmBg5GiMH9W0z7hHXgnxrCMyy4tM4eTgeKelZSMzIQ0ifARgwYJDwWR6E3mJyG/lo2/plpDXacS34t7V7NFcoy5bkotM5IkJLOpJSj+DkqQL0HDIWA4cOR8TwULNxtdsaB65P+yHAQrn99BXXlAkwgTZIQPoBF1EjjouwXfu2rsfmHdHYtDvRUFPyV/YP7Ish4bOweMEcPLBsHrw83Gy26ILhRm10ozUEJoVJI5/Xw/FROPDTNziQWoO8/8/euT9FWYVx/EvKZUFYrnJnASUj1MALA6hIxE20BhwYb0xpjtFUUzP1jzTNlOMPVmaWVzTAUKBl1FFU0FK8oUBcAkZY2DC5mK72vEs4/hCItLss737PzA4Mu/ue83yeM8Pznvec79eowcefbEKW2IhrXF0tztcacdhpyqw6rKkWymMryXX6ClQe/BZGz2i8JI6UhZkpWC5FsiIDx5Vkq6bOYS/OQtlhU8/ASYAELEmgv6cT7U3XUPlzBcpLy0XlwYCuPvH+labx0IohSSSSU1fjTZGvWhoXgzjZhuEIzZoFZm9Xq7iy3cDtViM6e4YREhkOnciRxYp1sbeXZVUPrBmHI8yDsRinWigres6tjVfQ3d2DHsM9uAdGwic0EnGy3SJEjGfYSMBaBFgoW4ssr0sCJOBQBMZWvM5XleGXkn2ounANdTeaYZK9zI/lpbSohcuwJP0tFOSkiYtekjjezZKVsImd5WY2xCfixjeAztYW/PDFl2iTw3ypm7chISkRr0iB4+bmYpFVQEV2zGAwoP56u9gnO+H1lHizJJ/l2NkmDsuN116v9ASDYtAz0G/APpkPdWL8krppK5alpYkTZJj5Sct4q8IdTddRpz+K2doQzI1dBZ2YzQQHeNtroByXigiwUFZRMhkKCZDA9BEY20PZ3d6CVjHuOLz3ACorqszOfYohidI8ffzhFxyBvPz1yJdXjC4Ywf7q/Gev3Dgor9/O6nHhVDWOV9Sg5Y8+RMQuw+qMdBQW5CIkKEDMMjT/O2mKY+KDkQcw/Hlf+nQSBQxfsZ9+MZe38QZhyzjGG4Ma/q5oYZtMj8VFrxaXz1SjXObD5YYm6GQ+JMmTloLCtZgfHWG2nf6v/eWDys1QdzucXMSWWhsEDzFZcZcbLTYSsDYBFsrWJszrkwAJOBQBRd91ZHgI5Xu+w8mjcjL/ViNae3rwUCkc/11ZXpWRi4zcPLFLTkL8wpfh6uysupXl0RV2Ey5Ul6FWX4n6xjZ0GIag0fgjeUUyNm7JR3hoELRzPOx6fqgljumGPHrDYTLfONVWlqGusR13OvvhJvNh8WsJ2FSUjwXitKj19LDIU4bpjpf9q4cAC2X15JKRkAAJ2AGB0ZUzk+ynvImr9Rfx4559OCfWy4aREdkWYDKP0McvAGERkXh3RzFyc9fKHktvq9oQTwcWZYVdPPXE/rgXxr5eDAyKpfXfj+SGwAXePj4IDgk0S3nZg4vgRHzUEsdEMdrmPUX/GLhn7JM50SPzYRiDIw9Fzs8Znl5eCAmRVWIPDZxpFGKbdLCXSRNgoTxpVPwgCZAACUyewJDIxnWJlNXxAwdRXa1HbcM19ImD3lhzc9NgXf5mZK9Zh5XJCYgMDzbLxo23R3Pse/xJAiRAAiRgOwIslG3Hmj2RAAk4EAFFwmx46D46mm5KoVyFz3fuRlNL61MCiiGJ/9xoxCck4v0Pt2JF8lL4enla3Ob6aYf8hQRIgARI4IUJsFB+YWT8AgmQAAlMjoDp0UMoh5AarlxGyZHDOFt7UQ4w3TTbXCsHlpxd5JFzaBQys9fijfRUpKUuhZ+vVorl2ZPrgJ8iARIgARKwKgEWylbFy4uTAAmQAGDs7UaTGJKU/FSOnd8cwF+Dg6LOMCoZ5yLFsn/Aq8jKzsKnnxXJyf9w2bvrRmwkQAIkQAJ2QICFsh0kgUMgARJQN4EHw4MY6LuLc6f1KC3Zj/qrt9Fwp8MctJuYkYRExSMjMxMfbC/EvKgwOdjnrm4gjI4ESIAEZggBFsozJFEcJgmQwMwn0HLjEi6dLsfR8hqUVtbChFnw8J2LhYkpSE9PQ4FYXEeIZJoltIUnomU0GtEjknWjig4TfZLvkYC6CGi1WgQGBorahpqNftSVs+mOhoXydGeA/ZMACTgMgQFjL3q72nBEJOOO7D0Eo5M3fHUx2PzOeqxauRzzdGFipKCBtSXTysrKsGvXLjGAGJWrc5gEMFCHJ5ApT26Ki4tFis6+9bsdPlF2BICFsh0lg0MhARJQKwFFQ/YJ+nvvoqutGeX7j+HEsRPwilqEBUuWY8PGbCyKmy/ycJaxdH4eRRbKzyPE99VKgIWyWjNrvbhYKFuPLa9MAiRAAmYCYyYk1+vO4lTpQZyua8bVZiOKtm/BmnVZiNaFwsfb02aOZNx6wYnpqAS49cJRMz/1uFkoT50dv0kCJEACkyJwf6BfVpJv44y+Wg7zlWCWZzj8dIuQl5eFlKQlZlc+OpJNCiU/RAIkQAI2JcBC2aa42RkJkIAjEuj8/RbOVx7C8ZN6HDp5HoVF27HtvY8wPyIQQf7eUDSV2UiABEiABOyPAAtl+8sJR0QCJKASAmOGI7/W1eL7PbvR3T8IVz8d1uTkIDcnE9o57vDQuKokWoZBAiRAAuojwEJZfTllRCRAAnZA4FkLa31NDb76eh+CIhdgw9s7kBgfi8UxEXYwSg6BBEiABEhgIgLPFsr/AAAA//9nJYTUAABAAElEQVTsvYdbFlnW7n2Tcw6SMyiCgIpkURTMuY1t27m140z3zLznOuf6/oATJnSYmU5jJ7VN3eYcEBQEJOeM5Jxzhm/tQnxRQQEBEVbN1cPD81TV3vu3y4e7Vq19L5l+2jBkC1HWHfIbENBR98jv/AsTYAJMgAkMT6CttRllxQW4dOIk4pIzUSWrDncPD+zZuh4mhnrQ0VQb/kB+lwkwASbABKYNgaFaWIaF8rSZF+4IE2ACLymB/v4+9Pb2oiArA6nx8Thz+iKqmjrhvHIt/P08scrLBUqKCi/p6LjbTIAJMIHZRYCF8uyabx4tE2ACk0ygu7sLHe1tuPjLIYReu4nyfg2YzHXEzlfWYf5caxjqakFWVnaSe8GnZwJMgAkwgYkgwEJ5IijyOZgAE5j1BETmmvivvOg+CrLTceHkFSQmZMHebxncl3ojcOkiGBnoQo5F8qy/VhgAE2ACLw8BFsovz1xxT5kAE5jGBPr6RMpFD6JuXEDw6WOIy+1ES78uPvjkVSwP8IC2pjoUFTjlYhpPIXeNCTABJvAEARbKTyDhN5gAE2ACYydQV1WKotxUhNy4jevX7sB8njvmubojKNALcx0soSAvDxkZmbGfmI9gAkyACTCBF0aAhfILQ88NMwEmMBMISCkXFE3OSbmHsCsnEBKVh/DkWnzy6bvYtXsT9LQ0oaqsNBOGymNgAkyACcw6AiyUZ92U84CZABOYSALtZANXVXIfd0Jv4cSJ49CaYwcH16VY7u+BxQvnQ5kcLuTl5CayST4XE2ACTIAJTBEBFspTBJqbYQJMYGYREJHkXnK4qCwvRtzdEISEReDq7WgErduEt959H2ZzdGGgozElgxb50d1d3WhtbYc8pXioa6hKaR6c6jEl+LkRJsAEZjABFsozeHJ5aEyACUwegd6eHjTWlCMhPhY//PQz6lt7YLvAgyLJvgj094GKsiKUFOQnrwMPzix8m7u6ulBRVoWU+Czo6uvAbYkTlCjdgx02Jh0/N8AEmMAMJ8BCeYZPMA+PCTCBiSfQ09OFlqZGpERHIiIyChdC78HQwoZykvdiofNcOFgaT3yjI5yxh6LaDbWVyM0twt172bCwNMPaNb5QVVVmv+YRmPHbTIAJMIHREmChPFpSvB8TYAJM4AGBluYGlBUV4Ndvv0dMQhqU7Nzg5eeLPesDYKinLeUlTxWsjrYW5GfEIy2nEDGFbXCca4+dQijzAsKpmgJuhwkwgRlMgIXyDJ5cHhoTYAITS6Cvr1fySk6OjERcRATColPQ1CMLv7Vr4em5GO7zbUmgKk5so085W1dnO6oryhBy8SxyCsvRYzgXi9xcsN5/0ZSK9ad0kT9iAkyACbzUBFgov9TTx51nAkxgKgl0d3eio6Mdx7/8Jy4c+w1d5gtg5+6Jd1+l8tT2U+yVTIsJmxprkZuRhu///iVKKuvhu/11+Ph6wtvVgYqbTH5+9FSy57aYABNgAi+CAAvlF0Gd22QCTOClIiAcLoSzRH5mCtJiwhF8MwEp6SVYunENvAN8scjZHga6WlOWE1yWn0l9SURMShbiEtORHBsPLT0j7N7/Cby9PeBsZ04FTtiS7qW6yLizTIAJTEsCLJSn5bRwp5gAE5hOBLq7OtHW2oSIG5dw+fghpJX0o6FXF+/t34aAgCVQVppah4n0mFDE3L6AS7cTEZWUI6Fa7OGNT/78v+DjtQTWpobk3Sw7nRByX5gAE2ACLyUBFsov5bRxp5kAE5hKAlWl+ciMD8O168E4c+EG6lrIt7hfEXb2FjCaowc5KigylZ7FwuWitrIEpZV1qKlvllCwUJ7KK4LbYgJMYLYQYKE8W2aax8kEmMCYCQiv5HaKJGckxeD6+eO4FR6D0Jh0SsPoH/O5JusAGRlZSvlQxBIvH/zhz/8FT49FsDTSJ/HOEeWJZD5Q1KUTlSWlaKirR0efLDS0tWBmZgxlZWUoEO/G+mo01tWiur4Jre2dUvMq6prQ0NGn4jNa0NOemgI0EzluPhcTmO0EWCjP9iuAx88EmMCIBNpamlCck4JbwTfx868nkHO/CA1NrZg+MhkkkhWgoqIPb9+l+ONfPqKy2QswZwrzpUeEN8M+6KL0m7rqSlw69Cvu3Y1GWac8Fnguwav7XoGFqRE0VFWQHHENMRGhuBmZityiComA+VwXOHuvRKD3Iix3nz/DqPBwmMDMJ8BCeebPMY+QCTCBMRIQi/c62ppRSl7JN69eRPCtUASH3UN9Y9MYzzT5u8vJK0NT0xJL/Zfjsz+/A1eXedDSUIesjMzkNz4LWmioqUB1WT5yC8uQmX0fEZevIp0WUdb3a8AvKACffPoOlPt70Fxahua2WtQ21CAjrxTFZRVorq9Bh4wSulUMsWntKmxdF0SRZU1oqqvMAnI8RCYwMwiwUJ4Z88ijYAJMYAIJ9PX2oqa8AHEx9/D3L79BxL0YdFKZ6OmUcjE4XAUFVejqOWL58hX4019eh5Pk5aw8pTnTg32ZiT8z4u4gOvg0zt2Kxa2oFHR1dKK/XwHKqkZYsSoA+z/ei/tRkQg/eRo+O/ZgcdBqGBtoo6+9EffTYnDxajB+PnkRgRtewbY9b2CJsy3szI1mIioeExOYkQRYKM/IaeVBMQEm8DwE+vv70NpUj9KSYoRF3ENJafnznG5Sj5VSL1QNYG1lTekXrjA00CVrOPZQnijoYiGnSL9JzipAcnoOpVdE4X5OPrmeyMHS3hFL6QbFTEcNhhQkdnD3gLXTAuhoqqK3owXlhdk4d/ocvvn6IKwXLsWSwE3YFOgFD/K5FhH/qVwAOlE8+DxMYLYRYKE822acx8sEmAATYAJjJtDZ2YGqshIc+fvnuHr+AlJratGnpA8jExe88cZWfPDhTqiQTaCigoJ0blE1URSEufz7aXz318/Rb2AH/fme2P/aeqxa5k72fXJT5rs95sHyAUyACTwkwEL5IQp+wQSYABNgAkxgeALd3V2oq6rA2YPf4MaV64grbICpvRM2bt4CX5/F8KCFesImUE52wG1E7N9Oee43Tp/BT3/9B2pl9CBrPA9/+HAXNq7zgxIJarE/b0yACUxvAiyUp/f8zLjeiUVSbc1NaKqvRXN7B9o7eyAnrwQ1VXUYGurS6n0ljrLMuFnnATGBl59Ab28PGmqrceXoQdy6fgtR2U1w8fTBZ385ADsbS+hpPWr9JvYX5c5DzpzF4b/+HYWtymhXt8Cf/+t1bN0SABWylBNRZd6YABOY3gRYKE/v+ZlRvRN5n720SCo9LhLRNy8hPrsIWSW10NKywnwnF+zctRoODpZSpIVz92bU1PNgmMBLT4CF8ks/hTwAJjAuAiyUx4WNDxoPgc72Vook1yDyzh1cu3gJ1c3NqG1up8eZ3TAzt8HbH72OJUtcYaSnA3l5jrSMhzEfwwSYwOQQYKE8OVz5rExguhNgoTzdZ2gG9a+uqhQFGQkIj8/FzbgiLPWYi3mWOjj18zFUVNRj5atvwNvPG4sdbeixpOIMGjkPhQkwgZedAAvll30Guf9MYHwEWCiPjxsfNQYCIi9Z/JEpLShEYtQ91Lb3ol1BE67zLWBhqImIkFDkZt5Hr4wG7J3mYVmgL/R0taGsxGJ5DJh5VybABCaRAAvlSYTLp2YC05gAC+VpPDkzpWt9fb3SopbczHyEBcfC2t4SAWt8JBslWVmZgc9SMvH7N0egqqOD1W/ugLmlKS2O0ZwpCHgcTIAJvOQEplYo91NRE7DP8kt+zXD3ZwYBFsozYx6n9SjaW1tQnJuL+vomdPUpwMjUCNa25g+tkcQfoPrqWmTEp6Curhk95IJhN88Gzi5kyk9WS1yKd1pPL3eOCcwKAlMhlPv6+iC+LzNowXN1TQ3UTB3Ip9kMViYGFFjgIjKz4kLjQU47AiyUp92UzLwONTc0ICshAX00NCsnJ2hqaVFahdIjAxVRZ2Hon5ddiJi7ybAnoeyxdOEjvqSPHMC/MAEmwASmkMBUCOWhbeTm5EHPbSXmuyyEt6s9VJUf/c6cwqFzU0xgVhNgoTyrp39qBt/T1UVuF/WgJ4lQI5GsoKj40JR/sAcij1mI5ZamVtTWNEBDUx16BjrSo0e2ihukxD+ZABN4UQSGitjJ8lEe2gYL5Rc109wuE3iUAAvlR3nwb0yACTABJsAEniAwVMROllCWggWNDYi+dRmlpWXQtF0EKxs7ONqaQVlxoDT2Ex3jN5gAE5hUAiyUJxUvn5wJMAEmwARmAoGpEMrSkzVas9HcUE+paJ2QU1GHsrKKlHYhFj7zxgSYwNQTYKE89cy5RSbABJgAE3jJCHR3d1FxpAqcOfgNgq8FI6m0C4v8lo66hPX9Jlm0qBhTCeu3sHXbKmioqkjOPy8ZBu4uE5h1BFgoz7op5wEzASbABJjAWAmIxcZVpSU48o/PceNyMPLb5eG5ImDUQjm7tgsNitq0//vYtn2dZH+pwl7xY50G3p8JTDkBFspTjnxmNSjKUhflpCA3JwepuSVobm0f1wCVVDSgb2KDuQ52WOxiDzUVZcka7mknK83PRGFOGtKo3eKK2qft+pTPZKhda5ha2sJ9gQPMyIZJ2NHxAsKnIOOPmMAsItDR2ozWpnqEht/FnTt3kRIZhfu5+WjokYOZtRU8vBfBxt4JFjbzpO8QSxMdlOalISc7C0lZBUiOS5SOqW0jP3k5JXh6L4anlweWePvBce5cmBvpQelB/nFnRxsa6+sQEx6BxsZmOHl4w9TcHDqaauQAJDuLqPNQmcD0IcBCefrMxUvZk6b6GsQEn8atW8E4HxKH0spa9Pb0UH5dFzq7uiEnLw95BUVpIYq8vNwTY+wn39Curk6oqOvCwskHQSuXY9+2QBgbGUJVVRXycnIj/oFIDL+CqFvnce5WHKJT8qjdbnR3d6OD2oaMLB2nACUlBSjSH6Ens/v60U1uHD20v8V8H7gsWYp9rwTCc+F8qKqpSY9EFYbp7xMD4DeYABOY0QQaaytRW16If377Aw4fPzXsWM0dFsHe1Z++Q1bCx8UK8bfPIzTklvSdWF7d8MQxJuaW2Lz7LawICIC7kw3UVZWpwEgfaqrKcT8rAz/96xuUlddg54efYomPN2xM2Uf5CYj8BhOYIgIslKcI9ExtppseR1bTH5GyslIUldWirKQQlUW5uB0Rg4jYZBhZOZEnsjMCfFxhaTbnEVs4Ya7f1tKE5IhQZGZmobipH6pkH2dvZUrRlqXw8l8JOwsjmBrqDouvtrIEVWVFKKI/KCWl5aigdpOSknDzzj3IqOjC2Go+lnm5YonbXKndwSjxoBVdVmIMkqPuSO229CnCzsoELq6u8FoWCKd5DlLbQqjzxgSYwOwl0NXZjs62FqRlZCP3fv6wINS19KGpawQ7axPM0VVHTXkRysvLpO/Eto7OJ45RVVOHpa0DTIyNoa+jib6eLrS3NePmhQu4cekKYhKSoKSpg3c//R/wXerLQvkJgvwGE5g6AiyUp471rGipsjgP99Pi8J9DJ3D490twWLQCPsuC8N6etVjobCdFiAcFa28v+SY31iPi2lmEhQQjJDoBuUVlqCcvZU//1Vi9aTcCly6Gu8tcOo4q9FGVvpE28Wj0fnocLl++gn8e/BWyGqZwWLgCb+9ei+3rl0rtDh4vBLqwYUoIv0Vtn0NodCKiUzOldo3M7bB6824ErVhGbbtDVUVJOnakdvl9JsAEmMDzEuhob0FLcyPO/noMF38/g8yCAmgbmeI9FsrPi5aPZwLPTYCF8nMj5BMMJVBfVYbygiz86/ufSCyffKpQFpHdHkqXqK+uRH5WKsKCL+D23XskXNOhpm0GS2sXvPPOLmzevApa6qqUvqE4tKlHXndQxEe0e+nSZfz1q2/Rr2o0olAGlT6hptFUV4NaetQZHnwRd0JvULsZqGrqg7mlEzZsXId3390DIwNdaKipPtIW/8IEmAATmEgCfRQ06OntRgkJ5KzUVFz49Sjq65uxcf9HWOTlyRHliYTN52ICYyTAQnmMwHj3pxNobiDxWVGMb775Dw7+cAQWrsvg7rdi2Ijy0DPVV5chNToEV69cw9HfrqCupReySjrY9x5ZKe3Ygvk25vRIU2voIY+87upoR21lMa5duYK//+0rdCrqwcJl2bAR5aEHiuhyWswtRN0JxtGTlxGfmo9+eQ0sW7UKr+9/G66OtnCwMBl6CL9mAkyACUwKgU5K86gkZ43Df/sHivKLsfLN/XDxXMJCeVJo80mZwOgIsFAeHSfea5QE2lqbaNV2NX75+jscOXgIWo7emO/l/0yhLFZ711aV4sbFS/jPF/9GLuUc13b3wm/9TqxYtwlbV3jA2dZ8xF50d3dSmexqhF67jm//9gUaZLSobS+8vevJ1IuhJxFR7brqUmSmJOE/X36N0NBwVFFOoY2bF/w27sTmFT5Y6+s29BB+zQSYABOYFAIslCcFK5+UCTwXARbKz4WPD36cQDtZKTU21uDw19/j14O/QGOuJ+aNQij3kJl/a0sjQil14se/fY7k/HwUtbTCY/V2+K/ZhD2rfeA21+rx5h7+Lo5vomj2nes38B0dXy+jKbX91jOEskjDaKUFhfnZmfjxr+SPeuMm8puaYOzkDo8127FjtT+2LHd/2A6/YAJMgAlMFgEWypNFls/LBMZPgIXy+NnxkcMQGK9QFuVhOyh94i6lThz66z8Ql5uL7MYGSSgvk4SyL1wdLIdpceCt8QtlULttKM7Lpcedn+P6tWtIr62F0fzFJJR3kFBeis0slEfkzh8wASYwcQRYKE8cSz4TE5goAiyUJ4okn0ciMF6hLCyYGmoqcPXCRfzzb18ir7QUTeRxvGbnW1izeTtWebnAwdJ4RMrjFcoi9UL4pGalJUvt3rx1G/Vkeefk6Y+11PYqP3csW+w4Yrv8ARNgAkxgogiwUJ4oknweJjBxBFgoTxxLPhMRGI9QFmJV2LsV56Ti7LkL+PybH1FLK74VlVTx6jsHaDHfTiycR9XzRvBTFuDHK5SFTVwxVfeLj46Q2g2PiqdCJYrwD1yDve++Dw9XRzjbjZwbzZPOBJgAE5gIAuJ7sKG2CkV5OThGazwKC0rhs30vFnl7wYW+/1SpKIncUywyJ6IPfA4mwASeJMBC+Ukm/M5zEBi7UO5Hb28fKorvI+LKGVy5EYzTN+6ip18TOrpW+PAPb2Lnro2Yo6dN1atURuzZeISycLwQx0VcPUOLAC/h1M27yC6qg6aGBTZsXo+P/vgWrMwGCgKM2DB/wASYABN4TgKD3u6xodcQEXwVl2+GI6+kDqZ2rggIWolXX90CM2NDtqp8Ts58OBMYDwEWyuOhxseMSGAsQlmkW7Q2NyOPFu6lJSUiJuQKklKykFbUAAuq6OdCzhM7d67CCnK8UFRQeGrhj7EIZbFvN7VdWFyC3Lz7iLl1BfGRd6ndevQq6MLFxQtr1gaQQCf/Zg11qe0RB8wfjJuAmIc2KrJQVV2NkrJKdFGqzURtCnS9zDExh76BIbQ1VGkO5Sfq1HweJjDhBAaFctzt64gJC0FibgnK6tqgrKwLd48l2LZ9PVXxM4Qme7pPOHs+IRN4FgEWys8ixJ+PicBYhHI92cHl52Ti+5+PIDjkDlXpa6BCIGpQUDGjPwwb8OZb22BKfxz0KZosqvkNVvQbrkNjEcoizaOOyl+foApYPxw6RmkfDeho74aCshkWLvbEO+/uwMKF86W25eXlntrucH3h90ZHoKWxDoVZSbgVehvHz1xFQ1Pz6A4cxV4amtpYs3U3/JcHSG4pulrqoziKd2ECL47AQApaA1qaGtHa0YWunj6qRioPNXV16OnpQFFRgVMvXtz0cMuzmAAL5Vk8+ZMx9KFC+cj3P6JXzxw6Fjbw83CCuYnhI1/0LY21qKmuQnxmAZWPboed+RwY6BlDTc0YPn6LsJIiySIyKC8n98yuPi6USxq70KtvDh93Jyyi0tmifPWg0O6kKn6iMEpqbjESs4uoXSOYGxtBndp1mDsPgUGeFL0xkNqWeWbLvMN4CYhrparkPpKSU3E7Mhatbe3jPdUTx6moqmGx9zIscHGFjZl4ZD1y2s4TB/MbTIAJMAEmwAQeEGChzJfChBIYKpR/+eZ7VLR3oJEeqcuR2JWVfVR2igiKspoG3JZvhP/KIOwM8qYKVHMkQSsiuXLy8nj0iJG7+rhQTs29j/L2dqldOTnZRw+kdkXbc5csw8KAjdgR5IUAEtQyMrKSoBZtC2HN2+QSEHPQ398n5aj3Uglf8ftEbeKmSLrmxHX3jKcRE9Umn4cJMAEmwARmHgEWyjNvTl/oiIYK5cMUUe7WMoIG5YoucXWA8QPXiuLcTGQnxZAFXDUqm7tg5+yPpcsDceCNjXCioiIKQiCTuBnL9rhQLqpvQxe1vdjFAc4PCpU01lUjOzEGOffzkVdWgzmWrnBw8cd+anfzGl/IU7u8qnws1HlfJsAEmAATYAIzmwAL5Zk9v1M+uqFC+fHKfK7zbaQIcfyd6wg+fQQ3o5JxL60Qmtp2WOzhg08+fR1LKLKrTQvoxipYHxfKQyvzvbLOT2q3rCAXwacOQ3gl37iXjH45Q+joO+CTP+7Dzt1rpXZVlBSnnBk3yASYABNgAkyACUxPAiyUp+e8vLS9eppQdnOylQRwVVkRRFT59K8nceX8FVR3y0Lbwhbrd+3GiuW+8F/oCDUVpTExeJZQFukXbc1NKMrNwJ1rN/D74ePIr25EXa8C1u/chTWbNmAptWttajimdnlnJsAEmAATYAJMYOYSYKE8c+f2hYzsaUJ5IS2qEwvzRLnqrq5OXDp0GJdPnEB4ZhZq+mTh5LUCqwJXYvfGIJgY6pFvsvKox/A0obx9/dIHCwL7pXYTwsJw4aefcTs+HpE5uZjvuQIe/tTuhkCpwIhodzQLCEfdOd7xpSJQUlIC8R9vTIAJzGwCYh2DlZUVDAwMZvZAeXTPRYCF8nPh44MfJzAaoSyOEb6heSnxiI+KwLeHjiIiLglq2nrwWUr+xXtfh7vLfDjZmj1++hF/H41QFnnPYvFYZXEBcpLicPjkKRw8+hvUtXRhaeuAna++gcAVy6kSnwU01dklYUTYM/yDgwcP4ocffpjho+ThMQEmoKamhs8++wzr169nGExgRAIslEdEwx+Mh8BohPLgQr3m+moUF+ThyK+/4vqNW8jJL8IcM1v4rdyEtauWYW2gL5SoUIRY3PesbTRCedDJooNsyZrqqnDu3DkcPXZMarelo4/a3UjWcKuwYZUfWdnNkYpUDPb1We3z52Mn0N3VQTZ9tSgtLUcuzX1nV9fYTzLCEYqKSjC3toOJqSn0tDWgTB60o91+//13nDp1arS7835MgAm8pARUVFTwxhtvYNmyZS/pCLjbU0GAhfJUUJ5FbYxFKPf19aKtpRmpsWEICb6Jn4+fQ2llK3T0rPDa6zvx/odvQFdTfVRlW8cilPspmi3azkmNR3L0Hfx84jxuhMVCl9r1XbocH3/yFlwWzIOuloZkLTaLpm9Kh9pcX4P76XG4ep3m/sQ51Dc0TVj7mto62LTrTQSuWg33+bbQ19EY9blbW1vR0tIy6v15RybABF5OAiIQoqGhASGYeWMCIxFgoTwSGX5/XATGIpRFA0LgVpcVIjH2Hn49dAjxSVkoq++G74ogbNi+Az6LHMnezfqZXrhjEcqDA6uvLkNFcT6OHqZc6UtXpXYNLRywccdOLF/qBd/F86FELhjCh5e3iSfQQYVfaiuKkZ6RiXvxKWgjz+2J2pRVVLFgkSfmOjrCwkh/TPnuE9UHPg8TYAJMgAm8/ARYKL/8czitRjBWoSyKTIhiE8XkRnHt+I+4EXIbN2MzqJrfAjgsXIa3ybZtY6A3lBQVyed45Ap94xHKot1uWlR47cRPuH7ud6ndmm4l2Lktx6b1QXhn9zroUFRZaQyP7QcnYzBq3dtLBTUogj24iQiGSAEZLKYixi/eE//1UX96KdLd1ycKcYDeg1Q0Q/g7i19GI9dFDnZPd4+UAy4V8BDHiaqEUgf6H5z70cIeYkGLvLyC1J7UjwcR956eJ4uAyIoCHrJUDIZcRPgGYnBW+ScTYAJMgAnMVAIslGfqzL6gcY1VKItuioV9UjGQ5FjcvHoNx4+dQj1ZxslpGWIZRZZF/pi/5wLYWBhLIlOIuce38QjlAZHegxxqNy4qHMePnkZiRh6goQ+nhUuwnNr293KDJ0W1hbgdizCsLitAXlosEtNykJhZKHVXRkaOItRasLGzx8ogf6gpyqGxvAxahgbQ1NNDdkIUstNSkFlUica2PijSvks8qJQ37auhpgpV5adb5vX0dKGuuhr3KJUhPT0d5ZQ+IK+pC11jS2jKdUC5txmF5bWorn80rWChuwcCAtfCQFcLGiryVFY6H9lZGQiNiEVFVc1D1IK71fxFsHdyxRKy+jOfo/fwM37BBJgAE2ACTGAmEmChPBNn9QWOqaWpnsRaGQ599wN+/ekI1G0Ww9HDF/v3bYK76zwoUnR2OMHZTSkYrc31uBscjKPf/4B4ehyfVVZBwswTCxb7YOeGAHi7LyAbH33KJ1N6wr6tq7MD9TVlCL12Hd9+/i809KlR24vwzmsbsXPTCqnd4S3f+tHS1IDCvBxq9yCCg28hvaQMKnpm1LYXtqxdjs2rl8KQ7Oq0tLSeGkkV0dxOUbK7tha5GUmIv3cLMUmZiE0vkGZETk4Ryiokwp2csW3bKij096IwPQv2bgtgt8ARCcGXEB0WirCEDNwva0BHpxLWb92IAx+/C2szI5jo6z51ZttokWJBThZ++tvnuHM7HFUUR9Yxt4aN8yLoy7dBvaeWRDs5fhSUUz5wK41FnvKytbB+01bse/sALIz1oaOuhKKsJETfi8DR05eRmpaN5vpGKKmqQENHG27+a+FJVnrr/BZinpXJU/vDHzIBJsAEmAATeNkJsFB+2WdwmvVf5BsXZifjp1+O4cixs1DTs8Z8Nw/84eM34OuzCFrqak+IXDEEEVXu7elGSX4uLe67h5NnzuPIqfNQo4iott4c2Fk5wNvbC6/s2AA7Wys6j6qUrjA4/LaWRhRRu9euXMU3/zmMuhYZatsGH364D6/t3UJV99SgojR8RFZEYpvq65EWdw83b9zALydPo6K2SWrbysIe8+bOx3Zq12+pJ9nGqZITx5MOCiI63d3diSLyZb752ylkF5aiVk4VDg7WcHO2lwqtiJQFGRl5tDXWoeo+RY5zikm4VmPDKxuwdcdG9LY2oL6yDClkXRcecQ+Xg6Ng4+KBoFf2YJWPG3yoHPdIm2i/vqoU6SmJ+PxvXyGnsAyLl6/GQvfFWEQiXJW6LNfbjqKCfKSmZuPyjQSoamjile2BcFvoAjs7B6jSDYiivCjM0ojammrkFRQi/m4swi/egqXzPCwOWgpzS2uYmZnDSE+boty8AGak+eD3mQATYAJMYGYQYKE8M+bxhY1CpDyIRXE19Mi/vKYB5eRRXJqfieshd3ErPAZKyuRRbGWHLdvWYgGJLU1KITAloWVlYyulEigrPSo621uaKCJbQekXx3Dwh4Mor25AQ3MnnUcH8ykSu2XbOtjakM8xnUedvI5VVRXJoYCiybV1KKN2Y2JjcenGHTS39kvHbNqyhizf/CWBa6CnD0tqV09XFyrKjy7SE+MQ7UbdDcN3332H+OQ0VFDb8gqa0NI2wpZX1sHXd4nU7pw5c2BlbUsRZk0agyLlE5NIplznUiqRnRIXj8unrqCpVx4mdIMQsNQDq5YtloTyYP5veWEeYkOv0cLFbCRkVSJow2ps3LYe+hSxlu3tQG4KidO74Th7NQTtctrQNHXEvm2rsWW1HwlZeSmqPXTCRfviRkNUHUyKi8bPh4+gtrUHq7e/iaU+XvB2dZCs7vqo0EtVaT4J8XT8dCIcmrp6+OPHu2BtZUr2aY+W7hZFYTopSh8dfBenvvkVzjSOoNdfgR6NWdzs8MYEXiQBcVPd1dGGevq3X0vfD0b62jDQ0XyRXZpRbQu2TY2NyMsvQFNrBwUN9GA0x4BsMw2kQMdw6W+TDaCjrZVS9GogT9aPKhraUKCAhcJT1q1Mdn/4/LOHAAvl2TPXkzLSlsZaxN+5jPCw27ganozSimp0k8BqbG5BE/0nKytPaQ/K0KH8VxUVZUkwrl6/eeBRP33pGtGj/6GbsG3r7e5GVMhF3Dx/jM5JaQAp96XzCAsfbR0tKFNkWCwms7KiL25zPeTkVKCsrFZqV1h7NTQ10wJBSMdo0x9PTU1NqV2HeY54/Z33scTdHeZGuo98yQqxKf745melULvk63wrDFfDktDZ3SctdNOmtAMNEoiy1K67hxf1/304z59Lebq6kkhtIj/gO+dPIjo6Htn1ipTHuwA7tgbBglImhM3c4B+WQVHdSlHbUorY5lKKiYGFFUzsHSShLNfXhfz0ZBRQ5LegshLRCbkIi8jE/gOvYd++bdDRUH8iV1kw6yZmidHRSIyJQlL8XXTJKmK+32YsXrToCaGcnpGNk9eToKWjjwP7NsCcynY/7lXNQnnoVcmvpxsB8dSjrpKeyNyvRGR2FVbTExd/WkvA2/MTEN9Rgm1Weiq+/fEwMvNFCpwXggKWYudGf3KQUaHv35EXVj9/D4Y/gygUlRp9F6r0vWXi6AYdTQ0pcDH83vwuE5g4AiyUJ47lrDyTWLyXT1646RnpSMgoIIHc9kwOrotoodzKVdLiMW0N1WH3L8lLJ4/deCSInNrCimH3MTTUhJ6eBsrLKepMObfP2oxMTKnd1bC3o6gyFaGQJ9H7+NZQUyF5+6aSmBTj6Sbnh8c3G0pTWEb9tzSnYhYkgjs728jirgQnD36DxMR0qNh7YYm3N7at8aEvc3VpIeDj5xC/NzdQPndFGeTVqCCGpjbU6Eaij24yCjJSUVtfS9FkecRExODG+WvwWr0WPuQJ7EZWecLubOgm5kDkhufkFtAivCzkJoaji4w2zBavhqur2xNCOSMzB6dC0kgo6+G9Petg9iBKNPScLJSH0uDX04WAsBSsKMpFcWkZLUxtQpecMmTVteHuaEsVNc2nSzdfun5IqW/0FKlArA1JSkJRRQky83JxLTgUNc29cFi0Als2rsZ7r66lp3PDp89N9qDrqitQkJmKirJKeoLZCE1af6FvaQN7CyPMoUAMb0xgsgiwUJ4ssrPovJIVGi1k6xe2ZqMYt+QgQS4Swo/sSf+KgROIqMbAeYVV2vBnHYzSglodYZdHeiP2F23LyIj/Hvno4S9Su2IsdEJh0zbcNnAekW8sbN1I8FJUveh+Lr7/+xfIzC6A747XqRS3nyRQ1Sjvd8RNjPHhhwPnamtukoRyS0cHlAyMkB0XgbjLv6NFnzydrRdi9yofyXHi4WH0QuQmC5eNui4FVNY2ICfsIlpb26HvuhLOLi4slIfC4tcvNYG6yhJEXj+JWHrKlFyjCn8/L7y9aw09ZVJ84qnISz3QKe58Dz1N6+xsx4WfD+HYV/9Cek0NChobJGtLHUOLaSGURR872lvJzvMkjn7+FZQXeMPYcxl2rfJ+4jtxivFxczOcAAvlGT7BPLzJJyBytHOz0vAFLaLLKyzHrgN/wFISyiLC9XgO9rN6MyiU26ics+ocU1QVZCE/LgyxBV0ob1fDgTc3YbmvmyQKhOgXW3FuNvIpCi327ybxHXfld4pIN44olJMSEvHtkXOUg10LF0dryXpuQPT/993DYISpurQWBeklWL11Hfa+/xrnKD9rAvnzCScgrkWxBiAz/h49MUlHflUj+hXVYUoLbR0dbKVrWDjaiGuYt/ERGPj33k3rI9KQHhuHUlE1s7gIUbfDKAe8B0bOfthA3vIvMqI8+J10n6wvU+5FkzNQGaoovc/a2R3znJykp216WurjA8BHMYGnEGCh/BQ4/BETGA2BqpI8ZKQk4P9+/jU9sqzDJ3/5/7DM3w82pgbSIrrRnGNwn0Gh3EE5x+rGFuhoqkFTaQ5+OxeH2OQyfPTpa1i1xu+he4iIuuekpiI9PgE2C5xpkYsKQk8dRnll7YhCOTY6Cn/96nskJKXRYkiR700iY7ADQ35Kkfx+Jcj0a2DPvp344I9vs1AewodfTg0BYf3Y1FCHqycPIz4hGf3mbnByW4wtAUugTylUvE0wAbrZbqKnZDkZafiOrCYTKHqvPtcTa9YFvlChPDhKaR0LLUIJPXcCESHXUa1kDn0rR2xf6w97SxPpO5dvmgZp8c+JIMBCeSIo8jlmNYFC8h1OjovEl98dQkV924QKZQVaMyPX3YbjB4/h9s27WLlnN7wDA+BoYwpVJTmI/ORCimLn55fDYZ4N1FVkcJ0qHJaUV48olFNSUvHL6VC0d/UgkPyQ9WjB42B0enAiRfRG2ObdT8tDTHAM/NauxCvv7mahPAiIf04ZgcriPPI5z8INWlxbWtNK6wOWw9XFEVYmhuTW8qhrzpR1aiY3NM2F8kB6XD9ZiWYjj8R88LU7qGvqhO+GjXAhT3oHS+NxVVOdyVPKY3s+AiyUn48fH80EaIFJApJiIvDVf46gsqF9QoWypljZTVHfCz//jNuXrkDD0RO2VDVwNVnO6WgoQiw+rGmkinytfbC1NIKKTCeuHD2IIlrwwjnKfHG+zARE5FDkpSZF3kF8ZBgKWlWhoGOKHeuWwtHe4qHl4ss8xmnZ92kulAeZCd/6WnIGOnvwP0hNyYDaXHe4LnFH0LIl0iJqebaOG0TFP5+TAAvl5wTIhzOBiqIcZCTH4/99+S2KK+snVCjr6OhAl5wzkiNCEBdxF+HJdZDXMMCB/a/A1EAN1cX5Ur6mgpYBuYhooq+tkYUyX5IzgkBHRytV62zEGfIFv3zqNJas24FFy1bCdZ4V5pCtJD9en6RpfkmEsqiEKlLVEsKDcS8yGsExBbCd74T33nuVHImM2e99ki6P2XhaFsqzcdZ5zBNKoKmuih4NZ+Pbr78mS6Ui+K3bDR9fX/gsmkeeo8oj/kEXftPC7qq7XxZ9MgrSvn1d7ZLrxWCOsi4VBRFFPiqKspGdlopjv1JOHqV37HhnB0zJ1q2tqgYGJsYws7WlyoMKaK2rZqE8obPLJ5tqAoOP1ivoJjAvLQFXr4fhblQKXn3nbQSuXSWJ5Ke6yUx1h6eyPSFiG2jdAhUDqW3vh4KSCqWgGDzhrf5cXXpJhLIYY3dXBy1mTqNCUZH48aezUNY2wIbdO+G5eAFcHW2k716+oXquq4EPJgIslPkyYALPSaBbqk5YiYtH/oPo2ETUqdhisacX3tgRJHlFj2TO31xfjZqyQrT0KaFTVh2WJvpQk+8fVih3tLdQ1cMiHPn8n8jIyIL9Gjq3iSVUepXg4uyAxe5OZGfXi9ryUhbKzzmffPiLJSAihT3kX55ET1Fu/PYLchoUUCNrhHf3bpAeqytSXrLcA8eXF9vTqW9dLN69nx4r+aUnVvZCXc8Ir6zwhImBzsR15iUSysLvvYECFQlRUfjuH1+hpK4L+gt8sXXjSry2baW0UHm2XisTd0HwmVgo8zXABJ6TgFj4JhbVpcaEI/ZeDEIiM6CiMwc+AcvhvtAJi5ztHvg3D3hLiChIW1MD8kvKkZpbBDMzM9haWVNenRpketpxPzUeLR1dUDa0hqGhgfRHsJdWeTfUkBg/RGI8KgY1ivowt3PEUi8vOFGxBXtbc6pG2CMVPnlWjrLI5ztyNloqYf0xpXBYWtDiFyoHO3QTC/laqZx45M1wHPvmGBYt98HGt3fyYr6hkGbo64Hc4B5kU+GJVLLhqm5rRwM9/Ri62c91xBIvX+jratMjbpWhHz33a5GX3E5PWu5cvYgT334NedP5MFjghy1BXvBwcXjk39JwjQ1EpPtQWVKEvNQE5JdSoYqK2kd2VVBQhYqqARwd7eHl7QJVKvYjLOam+ya53CRH0c1yGmLL+6Cpb4zdq32pQqjexHX9GUJZWUEWnVROOi6S7Poys9BMDj1dohQqbVZ2czHfdTHM5uhLkf+J69TwZxLfvSKIkJmUgGPf/htJWSWoljHA9h0bcYCeuqlRNVcV8tjmjQk8DwEWys9Dj49lAg8I9NEfCmGplBwbgx++/BfulzdDycoFm9YFYO/WFZCTl38YBetoa6YSsaVIzq9EeHY1grxcsZ7cJ0QJ7UZKnchKuoeGlg7I6VrD1NQEtpRvp6Agjy46LurGb7gdchuXwwsx12UR/vDZftham0mlrTva21BRUojrJ39BcVkVdBcskwqOeLrMJSEsh77ebhIP+UhOSMNPR0Ohoa2Lj/+wGw721tDU0KD+DRQ96esl4U/G/nUkzO+QUD5+8BTcSShve2snDPR0SNBrSuW/H3fK4IvhJSdAAqmP/uvoaEMz5X5eP34SZ77/AVlkzVbc3CwNThLRJIxWrl6P9z76E5zn2cHafA5kycN4oh5xd1L7jfS05dLvp/Dt376Ey4p18N+2B14u9mT/ZfxUyEIk9/T0kHhqQ0p0OG7+fgTh8amIyix8eJwQmwoKWlDTsMHmzWvxh0/3woiEnYaa6oSN4WFjE/ziRQrl1WtW4J3dq9Df04nqynIc/ve3uEYLjCva6Hrp7JQWXvoErMGmPW/De+F8uM2zhlhQN5kRXTHfIohQlJOOq8cO4vbdRERkNmLb7m346I/vwlBHG9oaahM8C3y62UaAhfJsm3Ee76QQEF/YIlJcXVmBVPI0TohJQExkImRVKPfYkBYe0aNiISbEpqalC2NrB5iaW8Dc1BSWxgYw1lVDSlQYEmMicS8xBeW1TZBR1oStkxtcPPzgQVHpueaGKMxJRnJiKq6GpMPMygqv7dsCXW016Y9X6NXrCA8JQVp6CpWdbYGSrjEsbOfBcYErtOU7odTTiEwqc52ZU4SsnDLKb1SCs7M9lfVeidVrN8KQFkhpUH8ri+8jg85x7VYYEuJTkJuRDwPTObCh6JvjQm84L3SHp5MdzI0mMIo1KbPCJx0LAZEz39xQjVgqOHHhynWoKavDwtgC8nRNyCnJS6k9VaVFVOwhDM0dPZDRnEPeuhuxdv16GOiQO4vaxESWmykHtyQvA2fPnMM33/yIoG2vYueb+zHf1vSp19xgdLEwLw+hV64hm9YLVLd1w8TUCLb0xEUItj566tJMxTSys/MQfDsO2romFFH2xxryJl+5woMEtMK0jiy/SKHs6eGE9UsdUFLdRlH6ZhiqykCdgrVtdINfUpAnXRf17b3oVNKBu99yePoshSd9b1mbGo7lMhzzvmLeywtzEHr2MK7fCseViCysWL8Fr7/3Hl0z5lIO95hPygcwgSEEWCgPgcEvmcDzEhARty6qIpYQFo6LvxxGWlEh8mnhzdBN39QKzj5BVGHPA2t9F0JRXpZSN1oRfvkUIm7fwj2KfpXXDhwjqk45+wRiDe3nQxG1luYGFBeVIyIqE7p62gigogsKlNfcRu//9vMR3Lh8FdVU/rqVon5i05ljDmM7J+jKtUK9txZpueWSM8fQ/ojo4KuvvwNzEuw69JevKDsZoijJiXPXcL+w5OGuQuyLfrv7LsdaHzfMtTJ5+Bm/eIkJiKgcXbcNtdXITU3ETXpicfzcVaxYvQ5vvXsApoa6VNhDXRLK+ZkpuHX6CN1E3cHliCRs2vkG9r61Hy5zLSnH3uC5I7LihrOmvIhSPkJx7tJ1/HTyMna9/jb2f/CRlMNvQJ7fI23iiUwdVcmMjYzAt5//C+VNvTBZuBxbN6zEns3LJQEs7UNlsO+E3sIXX/4b94saIK9khvfe34sDH+yRxL4K3UBO1+1FCOXYhEwoWDhjwQJbLHe3RGldH8oaZfHKWj94LXKkYkW0riIzVfr+Cr4TgeCoeJgt8IETlZfeTex9FjpTaovipN6AVJcV4N7NU7h09QaOXwqHm88qbNz1JpZ7OGMhVR+dqKcd0/W64H5NLgEWypPLl88+ywiIP/QiwtFYW0tOFcVopkfAg6J1EIWSiirlBxtCn9IY5ugO2FyJ/OI6epxZW1ON+uY2dHQNCF01TR3a14CivdpkE6cmpWe0t3egtq4ZioqK0DfQpkg1pPdLqb2qikp0Ufs99J/YFJVVoKSmCUWZHsj3d6OptQPtlP88dDOYYwRzc1oYqKxIoptEO+Um19fXobS8Cq2Unzq4iT82ot/aepR/SP0Wjh68vfwExM1dG815VloKTh86jIqGNmjazIefrxcC/b2pDLsipe7IQ1zbVSUFSI68ibMXr+Hn3y9h3uLl8F25CdvX+ZHLi+NAlccHT07GSmbg304vCrPTqOracQSHxeFGdAH2vb0P+z98m665pz9GFxX8CrOTcPd2CL7+/hCgoo+V216jMXgiwHOBJJbEQsEOyq9NpXLYv/30PSJiU5BSUIc33n0X7334PszopkB3GpdBfhFC+c6dSDTIKsLN2wdbtm2DlYUFTI2MYEJ50ToPWAkbv+qyYty9dQ3Xzv6OnBpKx5BRx85X9yEocCWcbM0mNQWivroc6TEhOH/pKg4ePQcj24VY7L8eezYtRxCltclS/vngE72xXpe8PxNgoczXABNgAkxgFhPopicgpfkZiI6IwKGDx6GiZ4wNb7yFxa5OcLYzf4RMS0Mt7ZuJy5cv4+dffoWiwVyYzvOSShsH+S+WoobjzV0XQlk4yGQlxuLcj98iKiEPSaW9eIt8cfd/sFfKw1ejRXcjbV2dwloxgXL4b+FLEsoquqbY+dYHWOa5CB4L7KTDRBvipjSXFvmJRa83RQQ0Pgt73/6AhPIfpDSBOXojR61Hanuq3n8hQjksCk20+NE7IBB733iTnh7YwM7C6JEhD3DtRVp0GCKvncXpG+GISs/H6m37KK1rA1b7ucHMSH/SIrvNdF0WZMTj7PmLVPjpMJQ0LWHj5IcP3tqMreuXSik1k5kr/QgM/mXGEWChPOOmlAfEBJgAExg9ARFNjg09hzu3QnE+OAM2813xwR/3Yy4t8jSiJxlDN+FI0UkLPe+FXMf5X39Aea8eOrXsJ0QoiycxXZTnnxwZiaOff4HErHKUdOvinfd34f33d5BXsDKVJh7ZwaCHKrVVFOUi/HYo/s/nX0NB05CF8tDJG+1rupkQC5NzyFnju799jtjEbChbuyBodSDe2buJnE60hvVtFmK5urSA8svT8eW3P+Lk+Rtw9lqNgJWr8Mb2IMx9kCc+GWkQ4imYKPx05uw5/F+a+55+XRiZuuKzT1/Frl2roULXjTwtqOaNCYyHAAvl8VDjY5gAE2ACM4CASEVoJleLEFoIdTv4Nm4nN8LZ3QN/+vM7sLY0hab6o44BQgwJQVuSl4X0uEjUdSujXUEX3osdMY+EkIgmj1cICfeCttYmxIWH46e//QPpeXVoUDDBuwd24v0PdpDNlxIUH7MxHDoFwnmmhQTe/bxcWtR1B3K0GHGhhy9ZL5rTgll9KZLc3NCA9NhYxEVF4O7dEKRk5yK7pAqvv/sRR5QHYT4mlBNS7kN9rict3AyUbojENTGSlV4TuZXUVZXiqy/+haNHT0PPajGW+C7DR2RD6TLfVpq/8V4fg90b7mcH2XNWld7HaVoA+r///k9KL1OBrr4dXcdvY8+rGyj3XI1ush61wBzuPPweExiOAAvl4ajwe0yACTCBWUBAKthAi/hEGsJtcgxIKpLHYh8f/Okv+2BGTidPW9gmRPPgNhHiR0SrxSP0qDuh+O6vXyCnsBGdKla00G50QnmwL+LnYN+G9quTUjOKSUQfpijpjWvXkVZLFe7I1kxsbx/4hIWyRIL+7zmEcmtLI1UOrMUPX/wTJw+doPmzhOMiL/z5v17HooXzaB2E8qTkCj8ulJtbaD2Flhk+/csBvLp3G/S0NcjFZeS0ncGh808mMBwBFsrDUeH3mAATYAKzgIDICa6pKMPv3/wboTfDkNesRbmo/qMSyhON53GhnE1CuWucQln0TaSIiJzqCCqaEkK5yLJyqrQoUQV6avJoqa9AUjwV7rhfgJxpEFFuqKkgt49CRMQkIjE1a0S04gaggRau1dXVorK1H4oqaphraUIe0CNb8xmbWcKNIut21haSVdrQm4dhG3oOoSw8uMVTgUOff4VTvxxHgzz5wLstIaG8j4SyIwvlYYHzm9OdAAvl6T5D3D8mwASYwCQREFHWytISirL+A7euhaGiXx9+q1fQI+vXYW5mJOUFT1LTT5x2YoQyFRwha8T21hbUVJWjrIgex5+/gqO/n4eGpjFsbOaRi8YOmOgoIvriSdyJjJ4Wi/kqyAc4nxYi/nr6Ei5ev/0Em6FviMWX3VI1vH5KdZF7UFVQduguj7x2XLAI63e8Bm93N8kq7ZnuD88hlLspT7yjox3HvvgKZ34+igoZQ1guWMxC+ZEZ4V9eNgIslF+2GeP+MgEmwAQmiMBQoRx8JQRF3WrwDgzAZ395DzaWk2vp9fgQJkIoizzn6vJixN++gTgq/BOTngMDMxvYz3cjOzNDmBkbwdLKDE1Vxbj12y+4FR45LYRyO+XYtjbVoaCoDCXllY+jefi7iCiXF2SjhMpz59b3QVVDF0sppUGkFoy0aVEFTlMLa8mOUkdTnXLIR9rzwfsslJ8BiD+ebQRYKM+2GefxMgEm8EwCQpBIleqaGlFYUoqmpoESzs888AXsoKioBAMjEypAoycVzFCgssGj3URxnOryUhz/6isqVnMdGXXdWOi3lFwv3ofTXFuYkVfu0zZRjVJEOHshR9Un5SXPZXm5gejmQJ5wPy3uqkBTfT0U1LWhrK4p9VGRfJkf30S+dEtTPaLv3MFByiPOuF+LZgVjvPv+bhwg5wt1VRUoP8X1QhQTqacUhszkeFw8eRRJGbkoae7Fus2vYB/Z3Rnrkxe5FnmRj9MeToxHRKvrKFLd3t5O49GBqpo6LXhUmdQyzUM5vQh7uLEs5hM3Xu2U8nKEUi/OHDqORlUL2C5cgk//sAdurnMfzp9YRCp845ubmqTrQuXBdTGWa3col8dzlFva5KGjY4XP/vwe9uzdDHGD8LR8+6Hn4tdM4HECLJQfJ8K/MwEmMOsJiCIc9ZWlSE1Jwo+HjyE5NWPaMtHRM8CqzTvh6+sHFwcLaKmrjrqvIopbX12FC4e+w3XyRg5PL4QVVYPc++4H9KjeBW5zrZ56rkYSpkKctkEVskoaMJ2jA40HhWiEO4YQpZHXzyM5OhLaDh4wc3CmPloOW9RDMBciK+HuXRwioZyQUYRSinC/fWAv+Sjvo4I76pJYHqlDIiqbePcqwkJu4NSl25DTMIRP0GYE+PtgufdiclyQJ7cG2XELZRGtbm6sx90rp6k6Zgm053rAxn6exFwUZZmKbboL5TaagxaKjP9Ii/lOH/0dCpYL4ezth/ff2EQ3XlZU0EgUrumT/LLvXjlDNzWJ0KLrwkK6LsZ27Q7l/bhQ7uhSh4GBI+Xav4E9e9ZB+G8/zTFl6Ln4NRN4nAAL5ceJ8O9MgAnMegJCkAirq5zMNBw9dgy3w+4iMycfbVQVcXCTkZGDsrI2/UGeA2cqaKFH/rJyVAHsmYulBk8wjp9C2IoIbn5ODrLTMtDW0wMtan/nmx+Qfdd6eFOZ87FUlhNitqm+BsGnfsH1KxdxJSIFynpWWLpyK9avWY4Nq7ykMY1UrKE0LxulBXlQ1DOFut4cKWqrpjJQAloISyGUr5/4GVEh16DnshI2rp7wdrWHIbF6fBMCSkS402Koat7X/8K9xFyk1/bhrf1UmY+Esr6W1oiL1kRbjXXVuHbsJ9y4ehUhSQWwodzYNw+8D3fX+XC0MZOaE1Hh8UaUxXGizLdwCMnNyYOe20rMd1kojUdVeWrKXk93oSwq5FWW5uM/X/8H589fw7yl62hxaBB2UOVGGwtjKfIu5krM81XiGB91F3quK2Dv6jHma3fo9fO4UIaCIcyt3fHJhzuxfesKyX97JEu7oU+JpwAAJ+RJREFUoefh10xgOAIslIejwu8xASYw6wkIUdJIIjIj/i4uX7mKH46eQXll9UMucnJKlO4wD0s8fPDJJ7vhSo+WxePdyRTKHRRxbSav4NOHj+KXb75HRVsb5CkHdbxCWQymtamBoqTHcPPaJfx+PRq1LUqYY7QAb775Cj76eNdT/YszE+KRm5JCAtgNpra20uI/ETUU29iF8oCIzUmJx+Uj/0F4dCbu5TZTeenXnimUO6l8dVVZiVSo5MblYOS1yGJJwDL88c/vw8HWEgY6A8KchbI0NU//v+fIUS69n4G81Bh89/MJXL0dja379mPt+o3wpTxqI0p9EdtUCGVlPWvMWxiA9/auw6Ygb6nYyHgrRj4dFn86GwiwUJ4Ns8xjZAJMYFwERFnkusoSxESF48zvJxCTmI603BLJp1eWcnJVVAxgN9cJG17ZgmVLveBJFljqlHowWX+Ue8jOrbOzDUmxcZTLG47w0NvILy7DwnXb4bcyEGt9F2KO3pPR2qcNvpMsvYS4uXs7BIcO/Yas+5XoVdCCf2AQ1m/bBE+3eZhvb/lIMRFhvdZK+cSxSVlIzSqksXvC2ckBChRRHxy7EKUiYp2XloiS/DyoGllDZ46plPc8GHV+vF9i/9L8bETfPI8rwXdx5mY8Xn3zDez/cD9MDXRHjJYPXZR4k4RyfocivFaKRYkHYGdjCT2tgcVuzyOURd862tvoxiCe7NnqpfEYzDGSxjPe3NrHx/+s36drRFmwEU874u+EIOT0b7h3vwol7cDrr+1B4Ap/WFDBF/HvQmziyUFvTy+VEY9HeUkxVOdYQ5dy7EU+vMo4U1jEQsii7BQqYX0Bn3/9Eywcl2DZ2u3YFOgJv8XzH7l2n8WYP2cCjxNgofw4Ef6dCTABJvAYgeLcVNy7eRoXroXg1NVIdNKirp7ePmkvTV0j2Ln6Y+2aILy1ex1MDOkP/iQ/ihePrtvbWiQbrltXb0LJlfKTfX2xe7UvzJ+xAO+xoUFUtGtuqkVSTIxUKCIyOhaFVMFujq0bHNz88forgVi93F2qxjYogpsp0l5bXoTYgjpkVLZjR6AXPTp3ePzU4/pdPL4Xwv3U2fP4+ofj2Pbqm5RC8TEcLIxgbPBoSe3BBgYiyqUUUaZiIlJEWQbuy5fh48/2Y56dNd08DBwnxirEbnZyHK5QSkjI3Xu4k5yLPW+9j3c/+AQ2pgbSjYYopSJD/5OVfZZFxGAPpubnixDK8cRHxW4xglYF4K1d66CnoylZ0g0dsbhRaW1uxLUTp3D0q39DxtIZ+gs88DqVrvZd4iRdO5P5pKWhphJZCeE4f/Eqvj9yGh7L12DnG/vhQSlRjtamQ7vKr5nAmAmwUB4zMj6ACTCB2UZApDtUFt9H6PWruHD6FNLyS5FXViNhUFBSgZaeMRV18MHqTVvg5+4CrwX2k4pILHwTxUIir15AXHQMiuUMYWo3d1xCWURZRd5zaWEe7ly5gOs3b+FiaAT65FSgqWcEexIaZsYGUkW1QbHT3yeL/l55qrq2CC6eHlhgZ0Flog0mZMxtJLhEnuuF02fwzVffwXHpKvhu2okgTxdp4dxwjQzmKF8/PpCjfCsxHwY2Tli/ey9W+CwmCzVHim73UtW4OiTdDUVkWChuhIYhK78YFXWNJMbfxu43SVSb68FITwOdPbK0+EsRWppUrnkMLiLD9W0i33sRQjnsbjRalTRh77IY/pRvvNxnEXzdKUor8vFpcANPAXJoEWYwwu8kITQsCys2r8GKjYFwsrciWz49ckSh0uYTCWLIucTcV5Bfdvjl33AzJBKXwzOxevMmvPvhe7Cm6pLG+jpD9uaXTGDsBFgoj50ZH8EEmMAsIyA9LqY/yMmRtxFOrgfXKP8yLDYFHbSYrpseO4vNxNYRTt4rsXVtEHauC6CV9kqSXdpkoRJ9ys9IRE52FmKK26GuY4gdq3xgaqg7riZbGutQnJOCWyGhOHbqInLzC1FZ9d852eKkciQelVU0aAGjKcxNbbF912a8smMDtNXVJGeBoQ0LYSoWwNXSOZoam6CtbwANWpAn3CdGWhwoju8iy7nW5gZcP3uW3BO+hIKVC4wXL8drG/zhT4/RB8X60LbEa+F6kRRx7YHrRSiaoQ4LNz8s91pEInsB7SGLtuYm5MSHIzkxDpHJWSgorUB1bT2lrazDirWbMN/WDFYkrtTIyk5bmxZq6mpC4YGVnRhLF5W8rqmqohuLbhqPIVRp3Er0+Uh9eryPz/v7lAhl9KOFblaKKV3m1KGjiIqKQjnZJPYq6UBJ1wprV3hhbcASaQ7FuMU8VxVThcOESOSXtqOgTgm796zFxk3LoKygIOUHDx23iOr39HajprIKrS2t0CGOapqaEsexRvDFTZ5I+SigRbcXfvkOEbHpSC7vx7ZdW/DRR69DR+PpTilD+8WvmcBIBFgoj0SG32cCTIAJPCTQT7mVQF11BUU7C/H7j4dw4bczKCABUUOeumJTVlWHhq4B1m3cih0UyXSyNSfRNTFR1ofdGPJCiIRayp8uLinBvYxyKCqpYx0JGCOD8UXQhA9xe0sTigvzkZ6aRKkPF3Hs97NDWgSNbw7M7RdhmZ8PNq/2hx0tlDM1M6bcZBK/D/yTBw8QCw9bWxpx6bdTiIm4h2Wbt8PNywcmlD6hqjyynZokSCnCHXXzCs7+9B2q5Oeg13A+3t65CoE+biM6i/TSTUt9TTmyUhIkH+WY5Ezk1LRDTU2VFvOREFPWxRxDM6xc4UHpFaoozsug6GcEzly5BTUNbRgam2GeiycWuXtiHYnBubYWlEKj+DDnWpRmrqQFg+eP/4bKylos37Id85ycpHSQGZWjTBMoxGcHLRQtp2uroqwUVXSdhVJk+dTFYGioK8OQUlmG3hzY0ELOgIBAmJpaQFNDh64JQxhRJFmk6gzdT1wbImWomXKKBcf0pDTpuliwZAlMaLGfspLC4OUzqp/i34C4scpKSsTxL79Eyn2yK9S0wrata/Duvk2Sb/Nwnt2jOjnvxAQeEGChzJcCE2ACTGCUBCR7Nkp5CDlzBsHnz+MOVX/LLChEO4m0XqGkaXPz8IVvwGqsDVoOH4/FUCOxNTl/rPtJiDahuroGMQk5FDCVxzLfRTCgR82Pi5NRDk/arZ0EYVNtJa7dDMG5S9ceOVRd2wAm1s7wcF+IIP9FJHiVHgrJwR1FxFCUMs7PyUZ6YjwunDmPxMQU7P3oTwjauJHygA3J5m1gYdfgMUN/CvEjopQijzg6+BJisyqRU9GJN9/YicDApSMWLBHnEI/ha8pLaFHZDSSlpiOFUmQ6unqk0ysp68DY2BIbNq+CnZUxWqqLEROXgKshd2mBZBelEsjDxGYBiV9XBPotIjszI2lsfRRJFmkuGeT5m3DvHs6fPouWjl689smf4OXrI+U1T878DqUy8FqwGajMV4w8qsynoqmDpbTY8mmV+Z48y9jeEQs3m+qqEHY3AqfOXaIS1Z1PnGDefGes27QNtjZWmENR+OGuP3EDJBaj5mamIzU+XuKYm1eI1z7+EwJWr6Y0CQPpKcwTJ3/KG9LNUW0Fkij96NC/f0RDlyysfZZj5XJvrKG8evHkYjCv/imn4Y+YwFMJsFB+Kh7+kAkwASbw3wSEUKF1+xRVLkZuRhp+Jou2YMrpraSoshDLYlNWUYWGphYOfPwpduzaAwsjPWhrjL4IiHSSUf6fEHCN9Q1IiEshkdiHRUvcoKuvKy2eGuUpnthNPN4Xoqallazomlse+VyISXkFJWkxl9oI7h5iYZcoOnHl1BkcJj655eVoIxH/0Z/+JzZu2fpMoSwaFJybGmpRU1GME78cw8UzF7HzwEcI3LRZ4imq4Q2/iep5PRQNbUEHpUkIkTwwZ7Q4j3yv5SkVQIMexwth20eP/9vJF7ultU3aR4g7MTZFJWWok5BXoH1FXm17WzNFQOtx9PsfcPrX48ij1AsDS2t8+Kf/BX9/8gcmgTdVQlmMuYduQrppjF29/SQC5aSblcej+cOzGd+7Ay4VPeQh3k4cmtEn/Rt49FxKZIuorqEJRaqcOFiZ8dE9QAK7Vaq8eO7YCYllHqVeyKhrEMf/ibXkAT4eodzV0Y776ZRGQ6XIfzl2E3OoVPc7H74Fx7k25KKhP6xgf7xf/DsTeBYBFsrPIsSfMwEmwAQeIyAs1WqrK3HrwgUE37iJG5FRKB3isSwETEDQJqwIXIuglT5wnGcrWV89LTf3sSZG9euAZVkHysgiTrw2MTehsspUJY8iaS9qE1FDIYqSYmIRHnwLUXcjUURlwF/98DMEbtgwKqEs+i4WGIr0jVsXzyGUioho2bvDcv5CLPd0hiVFpadqjF3k0SzGE0G523dvhSAqIhIyiqoUIf8Mnr7eUy6UX9S8Pm+74ilDJzmOxEVG0nUxwLG2vhGvfvQplq8ae0RZ3Mw11dfhzvnTiItNRH4LLS51dcWu7etgTCJ5qorAPC8XPn76E2ChPP3niHvIBJjANCQgBGE1uTOEh93G//77P5GYnPYweinMxdTUjGFHpXn/+KcDZK3lDwNtLaoQNrYczGk47FF3SQijDor4HfviK4Scu4iVb+3HkqBVoxbKgw3lZyQgKzkWN5Oq0NSrgnd2r8VCJztpkd1wj/gHj5von0O9movILWMluWS4eC5hoTxG0MLaUJS6Pvy3fyAmNBwr3nwP7gEBY44od9DNaiXlUB/5xxfIzsyD86YdWOzjBS+qTskieYyTwrs/lQAL5afi4Q+ZABNgAsMTEHm0YvHb/dwsXLlwDiG3wxB2Lx6tbQOL+xQU1KhynzF8/QKxgopfrFvrC1MTw4eP9Ic/68x5d6KEchOVpq6uKMEdKiOek18CbRN7zHN0JIsyZ+hoqU9ZZJmF8sRcm88rlEUqiHh6khpzFymx95CUU4V+RQ2sWr8a8x3tyd5Pe1pZ+k0MNT7LiyTAQvlF0ue2mQATeOkJtFAubUFmIq5QesAPR06ipLySxPLAgid5eRVo69jBx3cp3v/wVbi5zpMcA+TIg3ambxMllAWnbnI2iLt9kXKxY5FY0gs9YytsDFoKWysz6JFbgizlF092dJmF8sRcsc8jlEW+eVsL5YyTleEd8hCPiaI0GDNXKSVnIy0utTDSn5hO8lmYwBACLJSHwOCXTIAJMIGxEhApGKKcc0J0OK6eO4E79xIRmUguFLSJBWSKFO2ysnOEX9A6rFrpRx60HpLn8FTl2I51PBO1/0QKZRG9r68qI2/fXNyLuov7BTVoaFeHt58Htm1bKVVCVJCXn6iuD3seFsrDYhnzm+MVykIkC1eTzIR7iA29hsLmfjTKqMPXyxMuTvPIP1yHUy7GPBt8wGgIsFAeDSXehwkwASbwDAJl+ZlIjQ7BpavBOHclBHXNbWhu65CO0tCZAzN7NwQFrcTuHRthbWYkPSJ+xilf6o8nUigPgmiqr0Z6TCgSk7IRm96IuQvmY9UaP5hQJNFAd/jy1oPHPu9PFsrPS3Dg+PEK5TZKc6qrLiPP5ASyg4tCn4Ed1MznIcDdCfOsTCamc3wWJjAMARbKw0Dht5gAE2ACYyUgHBrEI+Hbl87i8m9HcS+zAOmFFdJp5OQVoKSiDuclvvBf9/+3dx/eUZ13GscfdQk1imQBQogmI5pEFagYAQJMcaE42F7bxLsb2+c468QJSc7Z/RecTXYTHydxfBIvsF6KaXZoondkmgEJBOpCAoSQUEG9sO8dG5eAY4o03Jn5To4TMdy59/d+fnNOHl+9930Xae4TkzQjafT9XsKlju+OoGxtitJoNjG5UX3D7BpYrctV9eafRk0ZP1LjRg/rVh+CctfwPmhQvlx8QacObFGrVw8FPva4+vXvr6i+UY6lF4MCvnsDm66pmrN4sgBB2ZO7z9gRQKDLBKxfDVtTBC58fkyfH96rTzfv0P5Dx3SjufmrNZYfixmiwaMmatEz87Rg3myzQ1y4wkO6Z43lLhvYfZ7IcrD+uVJaoKLcs9qwar0O7juiMelzNHHqNE1PT9JAc0c90Ky5+6Dziq31o621kssqqlV4qUrxw2I0NLZ77ip+MZ5OFV/IUc6p41r/0VoVlVY4xpM89QlNS59kNvzwrBVN7vMr4Tj89veirOiiWfv4jNZ99LFZ1u2MwzEpPV3TpiaZ3wxEmu+FWb/azDn/+1dVhdlkJfuYvIN6KTx6hCJ6hapXWPDfH8afEehyAYJyl5NyQgQQ8GSBJnNn+WZtjVb+9r+16aNVOl9dpWtmO2DrZc1LtjbteHrJK1r84qtKGjNMcWYHOHd6WSsSWGvcHtu9VZlrPtTOz7J1LPeSQsMHmA1Rpugnb7+mpEmJ6hMedse21/fjYAUv61qdnbcc5+muOd/Wv/y0m81kdq1bqcwNq7Xz+DnlX65zjGfOvDl66+0faejgGPUOC72f8j3u2Nvfi8PbNipz7XKH4+n8qw7HlLSp+jfjODZhhON74e19Z1C+vRGOSdHyMuuUO+MBTo9rEgO+qwBB+a4svIkAAgg8mIAVEq07nsf37tHh3bu1NXOnzuReUF1bm9pNsLNecSPGKGF8kp5bvFBT01JNyApWYIB7rLF8+w5seWGeCnI+V/HVKscUCX//EPXtF62kKePNMnlRjgfwrLBj99ftQF547rQKc3NUbO5iV99sMbvxhWjIsKFKmjxevXuFOzaUsftYHmV9tx0v5eeaO8qnHd+LippGs1xiiAbExDi+F32jIh2Od7uj/Chr59qeLUBQ9uz+M3oEEOgOAXO3s95s41x4MVcf/v497dy5R0VVVWpobf3qasHBIXrtxz/XwueWKH7IAPOr5DBzx9n+wfGrAfADAggg4AECBGUPaDJDRAAB5wtYWzDXVFXq5OEDJijv1KpNW8way1883GdV4+fnrzFj05SSlq4fPDdfCWPiFdoj6KGmIzh/lFwRAQQQcG8BgrJ795fRIYDAIxRoN9s4W+v/Hjl0UH/84C9mm+tsVVRWO+bWenl5KzAoQsOGjdLLr/6Tpk9LVXxcrIJ7BDptt7lHSMOlEUAAAZcQICi7RJsoEgEEXFHAegDJ2lXuUnGBju7f6ZivvH7zLjU1Wzv3eZm7x34KC3/MbMk8RbNmZ+iVV+YrJjpKAWZFCF4IIIAAAo9egKD86HtABQgg4OYC1s59V0rytCNzuz5atUoFJZd1pbLGMeqAoHBFRY/R7Nmz9NaPXzQrKAwwO/cFubkIw0MAAQRcQ4Cg7Bp9okoEEHBhAWuJsQ6z6kX28QPat2WVNu/5TDuPZDtGFBTaUzHxEzRz5ky99tJCsx7wAIWGsD6sC7eb0hFAwI0ECMpu1EyGggAC9haoKCswS6ad0Lo1m7Rx/VY1KFjh/QZq1lNPmo0rUpQ8IUERZivm7p56cfLkSe02S9d1dHTYG4zqEOhigTFjxigjI0MBAQFdfGZO564CBGV37SzjQgAB2wm0tphd+syGJOv+9Getff+vuu7bT1HDE/T22y8pOTnBrCEb4JQH+f7whz/oV7/6lVnvuc12RhSEQHcKLF26VO+8847Cw8O78zKc240ECMpu1EyGggAC9hS4vdlC8YVsnTm6Tzt3ZOlw1jklz3pSKdOmKiU5UTEDouTr43PX7Xu7elTZ2dk6dOiQY/WNrj4350PAzgLx8fFKTU2VPw/M2rlNtqqNoGyrdlAMAgi4o4B1J9l6oC9r305tXrVcBZUdqunsqddef1lz501Xz1CzMx//x+2OrWdMCCDg4gIEZRdvIOUjgID9Ba5fKVXO8b3mTvIurf/bTiVOmamps5/VlEljHGsn+/n6ysfb2/4DoUIEEEDAwwQIyh7WcIaLAALOE+i01lFubtSFnFP628crdConT3lXG7Vw8RIteeFF9Yvoae4m93BeQVwJAQQQQOC+BAjK98XFwQgggMC9C1jbWN+oKNP+fXv0X+++J7+QSKU9uUDTUpKUMnGMrDvJvj7cSb53UY5EAAEEnCtAUHauN1dDAAEPEbDmJVdXVph5ybt1JOuEDuYUKn50op5/fomGD4nRwL4RHiLBMBFAAAHXFSAou27vqBwBBOwqcOuW6mqrlJ97Th/85nfKKShXXzMveeaMdL04N83svBfglNUt7MpDXQgggICrCBCUXaVT1IkAAi4h0NHRrlYz5eJoZqay9h/Uybxy+Yb3UcZTczVh7GiNGhpjplz4uMRYKBIBBBDwdAGCsqd/Axg/Agh0mYC1XnLDzTrVVFVq1bt/0p7texUwfIISU1P00sIMDYrp61grucsuyIkQQAABBLpVgKDcrbycHAEEPEXg1q1OsyV0p86dOKwT+3dq36F8lV1r1rznn1Fq+mTFDx2osJAeTLnwlC8E40QAAbcQICi7RRsZBAIIPGqBRnMnuba6Qvu2bdX2jRvU4NNf4f2H65VX5mvSpNEK8PNzyvbUj9qB6yOAAALuJEBQdqduMhYEEHhkAmUFOTp9OFM79p7SzgO5euYHizR73mwNHxarqMhe8jIbing9suq4MAIIIIDAgwgQlB9Ejc8ggAACXwq0tTar/kaVTmQd0JYNq3St3letfv303A/mK2NGikKDgxx3kwFDAAEEEHA9AYKy6/WMihFAwEYC9TeuqzDnuDZv3ar3/2eNUjPm6eV/edPMSR6g2P6RjjnJXl7cS7ZRyygFAQQQuGcBgvI9U3EgAggg8LVAZ2eHGutqlHfhnD7duF4XispU1+6njIyZWrjgWfUOCzZ3kwO//kA3/WSttGEtSVdTXavS4isKCQ1W7JAB8vM3c6IJ6N2kzmkRQMBTBAjKntJpxokAAl0mYIVTa3vqqyV5Onhgv3797vsKDI/Skh++obSksZo4amiXXev7TmQF9qamBhXlX9KB3SfULzpKM+amKrhHkHx8WK/5+/z4ewQQQOAfCRCU/5EOf4cAAgjcRaDZBNPrFVe0fcMGZR07pZImL41IGKsXFj6toQP7K7J32F0+1T1vtTY36XLJRV3IL9XRcxUaNnSQFsxJVY+gQJai6x5yzooAAh4kQFD2oGYzVAQQeDgB606ytV5yeXGhLmaf1Zr/Xav8SxWKnz5XT0xN1fy0cY6H9x7uKvf+6c6ODtWZOdKnDu/R+cJLKmoNU8KokXpu5mQFBfjf+4k4EgEEEEDgrgIE5buy8CYCCCBwp0B7e5va2lqUuXqN9mzeptImX4VGx2rR4nkaOyZe/SN7O3F76i92AbxUVKC1f/mrii9XKnbKLCUlTdD0SaMUYOYo80IAAQQQeDgBgvLD+fFpBBDwAIEv7iTf0vWr5eZucr4+XfWJDu75zATTNCWmpWje9CTFRj8mbzMn2BnrW9RVV6q6slwFxaXKPntOW9dvUruXn+YvfUMpKZM1fsRgJwZ2D/gCMEQEEPBYAYKyx7aegSOAwL0KdHZ2ynpo7tTBXdq3abWycmp0udZP//zG85r5ZKoe69PLMdXBWcvAnT+x32yTvVlb9p3SwRPnVHujRvGjE/X6T3+plClJihvYV74+3vc6PI5DAAEEEPgOAYLyd8DwNgIIIHBbwLqDW16cqz2Z2/XJ+g26VGWmPXSGaEbGJI0cOdTcvfV16lJs5YXnVXj+pD7PLVFeyVVHmROSkvXWsn83QXmSBpu72wTl293jfxFAAIEHFyAoP7gdn0QAAQ8RKLl4Wke2rdEn2/dqbWaWWbe40zFy6w6ys+4if5PamgpiniqU4z/mR+tFUP7Cgf9GAAEEulKAoNyVmpwLAQTcSqCluVHXL5co6/ABfbx2tU6ePa+LxVdNRv0yndpgtF7ePvL3D9Pk5DT9dNlPNWniWPNQYS/5eDP1oivbYz3IebO2Vsf37lNebp6q23wUGzdMT0xLVqRj6o2finM/V35uts5cKNWV6zWOy0f0j1XM8AQlxg/R6KExXVkS50IAAScIEJSdgMwlEEDA9QQcu91dr9Dpz/Zr2/ZMrVjzqa5WVtluID4+AQoOiVbqE1P1s2Wva9zYkWZXwDB5ezvjsULbcXR5QW2tzWoxa1XX1taprLRU6/70Z/Mg5yGVtwYqeeZ08y8nr2tAVIQCzP397GO7dSJrv7YfOqPcgjK1t7UqasgIDZ04XYvnTNOCjBQF+PnK15eNYLq8UZwQgW4SICh3EyynRQAB1xWwHt6rq6pQ7rmzWr5ipfYdPKyikjI1NbfYblC+vkHq2StO6enT9bNfvKoxox9XqNmV71FMCbEdThcUVJp3VhdOHdShk7nK+jxXpXl5qqqsU4dfH6XPmq43f7JUNSVFunDwiKJHjlCf2IFqbzfrW9dU6UrxRXN3udA8/FmkufOf0cJFizV8UH/HHf8uKI1TIICAEwQIyk5A5hIIIOBaAtYKFzWVV0xQztbK1euUc/6ibQfg4xOo8PBBGjtuvJ5/YbYGDYo2dy39CMpd1LEi89BkdtYu7cnK1uET51VRVqa62gZ1+IZpXFKSFi15Vq1m2cCKnDOaNP9ZJTyRrn6RPXWrpV4lF05rw4ZP9N77yzU+fZ5mLnhBM5MTlDB8EP3pov5wGgS6W4Cg3N3CnB8BBFxPwMxBbjO/Nm9suKmr1yrV0NBo2zF4eXmbX+UHKiQ0VFGP9VFgoL+ZdsH85K5qWFNDvRrqbuhaVbWKi0q0ZflKHd5/UEX1DQrqFa2hcRM0J2OKnpozWRH9+qtXRKT8zfSKtpZGVV8r19/WbdAff/uuQgcnaHDSDL2ycIbSpySYVUnMmtvmYVBeCCBgbwGCsr37Q3UIIIAAAjYQaG1tMRvOXNHa936v7Zu36vTlaoVGDVbS5GmaP3+6nn5qqgnIfo4AbJXbZo6/ebNG29et1wfv/FYNPaIVPDhRb/7rQs2bNUV+5lgeuLRBYykBge8RICh/DxB/jQACCCCAgPVw543r17Rl5Z+1O3OXjubVadTEyXrzrR9pxPAhZrpF72/dIbZWyWhpadLu9Ru1/J3/1KWmHmoxU2SW/fxlPbtgutmgJuCrUI0uAgjYV4CgbN/eUBkCCCCAgE0EHKugVFVq60cfmKC8W0cv1ilhcop5gPINDRsSqz7hod+q1Dq+2ayWsWfDRq0wQbmkIVBNIQO17JdLtdAKyoGBBOVvifEHBOwpQFC2Z1+oCgEEEEDARgIEZRs1g1IQcKIAQdmJ2FwKAQQQQMA1BQjKrtk3qkbgYQUIyg8ryOcRQAABBNxegKDs9i1mgAjcVYCgfFcW3kQAAQQQQOBrAYLy1xb8hIAnCRCUPanbjBUBBBBA4IEEnBGUb1nrd5tl5SrKSsza3Q3yD4tUaHi42ZI8RD4+rI39QI3jQwg8pABB+SEB+TgCCCCAgPsLOCMod3SYra9vVGnvplUqLi5Rr5GpihsxSuNHDDbLyfm7PzIjRMCGAgRlGzaFkhBAAAEE7CXgnKDcrpovl6DLzytQn7EZGpkwTsmJceoRGGAvEKpBwEMECMoe0miGiQACCCDw4ALODMrbzFrNefmFikic4QjKUwjKD944PonAQwoQlB8SkI8jgAACCLi/gDOC8q1bnWppalLxhRzV1NYqKCJGvSMi1S+ip3x9fdwfmREiYEMBgrINm0JJCCCAAAL2Emhvt7awrtDmFe87duY7VtCgxOTUe96Zr/imvxqDB5id+X6ohQszzFSKQPn5+tprkFSDAAJ3CBCU7yDhDQQQQAABBL4t0GpWo6i8cllr3v2ddm7bpdwb0qT09HsOyvk3OlUbGKGf/+I1LVr8pHqGhijQnwf0vq3MnxCwnwBB2X49oSIEEEAAAZsItLe1qLWlWQWFhco5m60da9bqRNYpXW311cjxY7V4ydMaOmyY+vWNVv+oPiYAB6mu+poqr1eq/Gqlsnbv1Y7Va3Wprk03fYP13JJnNHP2NMXFxalfVJTCQnrI98ul3zra29Rspl6Ul15SS0uLIqNjFGaWhwsM8JO3l5dNRCgDAc8SICh7Vr8ZLQIIIIDAfQjU36hU9bVy/XX5/2n1+k2qqbyu+vqbauv0Uo+QYEVE9tGg+PEaNjpZi+elacKIAco+mqkjhw9p+8EzKiy6pBuVlWrtuKUOLx/H8XHxIzRv0YtKS0lRwuMDFdIj0FFRw81aXSkr1ccfrtCVq9c1a8lLGp2YoOio3maaBnOU76NtHIpAlwkQlLuMkhMhgAACCLibQGN9jeprrmvbjj06cDjrrsPr02+w+saO0NTJo/V4bKSKzp3QuZxsHc8pVE1d4x2f6dUnQhNTpmv0qJEaEhMlP7OXiLXRyOnjn+nYoUPaunmrmtu9tPStZZqSlqIh0ZHy92M+8x2QvIGAEwQIyk5A5hIIIIAAAq4pYO2WZ61G0drapra2trsOwtvbR94+Po6H86wd9KwpFNbmIW3tHeazt+74jJe3tznWTz7mYT4f83NTY53qa6v04bt/1JrlK1VaU6u+Q+P01rL/0NSpaQTlOwR5AwHnCRCUnWfNlRBAAAEEELhDwLqb3NLSqOOHjujo/gM6uHefOr199cKbbyspJZmgfIcYbyDgPAGCsvOsuRICCCCAAALfKdDS0qSK8jKt+PVvVGrmNme8+roSJk8iKH+nGH+BQPcLEJS735grIIAAAggg8L0CBOXvJeIABJwuQFB2OjkXRAABBBBA4E4BgvKdJryDwKMWICg/6g5wfQQQQAABBIwAQZmvAQL2EyAo268nVIQAAggg4IECBGUPbDpDtr0AQdn2LaJABBBAAAFPECAoe0KXGaOrCRCUXa1j1IsAAggg4FYC1lrLnZ2dys85pbPHjmrD2o0qKr2mkSkZSkmfqlkzUxXRu6eCAvzdatwMBgFXECAou0KXqBEBBBBAwG0FOjs71N7erh1rlytzwyrtOXVR+VfqFRzcV0/Om6Of/Ow1DRs8UL3DQ93WgIEhYFcBgrJdO0NdCCCAAAIeIXB797/SvFyVFlxU2fUa1Ta0yc+vhwbGxipx3CiFh4Uo0J87yh7xhWCQthIgKNuqHRSDAAIIIIAAAgggYBcBgrJdOkEdCCCAAAIIIIAAArYSICjbqh0UgwACCCCAAAIIIGAXAYKyXTpBHQgggAACCCCAAAK2EiAo26odFIMAAggggAACCCBgFwGCsl06QR0IIIAAAggggAACthIgKNuqHRSDAAIIIIAAAgggYBcBgrJdOkEdCCCAAAIIIIAAArYSICjbqh0UgwACCCCAAAIIIGAXAYKyXTpBHQgggAACCCCAAAK2EiAo26odFIMAAggggAACCCBgFwGCsl06QR0IIIAAAggggAACthIgKNuqHRSDAAIIIIAAAgggYBcBgrJdOkEdCCCAAAIIIIAAArYSICjbqh0UgwACCCCAAAIIIGAXAYKyXTpBHQgggAACCCCAAAK2EiAo26odFIMAAggggAACCCBgFwGCsl06QR0IIIAAAggggAACthIgKNuqHRSDAAIIIIAAAgggYBcBgrJdOkEdCCCAAAIIIIAAArYSICjbqh0UgwACCCCAAAIIIGAXAYKyXTpBHQgggAACCCCAAAK2EiAo26odFIMAAggggAACCCBgFwGCsl06QR0IIIAAAggggAACthIgKNuqHRSDAAIIIIAAAgggYBcBgrJdOkEdCCCAAAIIIIAAArYSuK+gbKvKKQYBBBBAAAEEEEAAAScJeN0yr29e65sp+pvv8zMCCCCAAAIIIIAAAp4k8P8iMO1slERtHQAAAABJRU5ErkJggg==)"
      ]
    },
    {
      "cell_type": "code",
      "execution_count": 88,
      "metadata": {
        "id": "gBB50IyoATi3",
        "colab": {
          "base_uri": "https://localhost:8080/"
        },
        "outputId": "b80db9ad-0d11-4b9f-a038-6ee095e97da9"
      },
      "outputs": [
        {
          "output_type": "execute_result",
          "data": {
            "text/plain": [
              "1.3433882484251098"
            ]
          },
          "metadata": {},
          "execution_count": 88
        }
      ],
      "source": [
        "RRnum1 = (strat_young[\"TenYearCHD_Young\"][\"Smoker\"] *(strat_young[\"TenYearCHD_Young\"][\"NonSmoker\"]+ strat_young[\"NoTenYearCHD_Young\"][\"NonSmoker\"]))/(strat_young[\"Total_Young\"][\"Total\"])\n",
        "RRnum2 = (strat_old[\"TenYearCHD - Old\"][\"Smoker\"] *(strat_old[\"TenYearCHD - Old\"][\"NonSmoker\"]+ strat_old[\"NoTenYearCHD - Old\"][\"NonSmoker\"]))/(strat_old[\"Total - Old\"][\"Total\"])\n",
        "RRdenom1 = (strat_young[\"TenYearCHD_Young\"][\"NonSmoker\"] *(strat_young[\"TenYearCHD_Young\"][\"Smoker\"] + strat_young[\"NoTenYearCHD_Young\"][\"Smoker\"]))/(strat_young[\"Total_Young\"][\"Total\"])\n",
        "RRdenom2 = (strat_old[\"TenYearCHD - Old\"][\"NonSmoker\"] *(strat_old[\"TenYearCHD - Old\"][\"Smoker\"] + strat_old[\"NoTenYearCHD - Old\"][\"Smoker\"]))/(strat_old[\"Total - Old\"][\"Total\"])\n",
        "\n",
        "RR_adjusted = (RRnum1+RRnum2)/(RRdenom1+RRdenom2)\n",
        "RR_adjusted"
      ]
    },
    {
      "cell_type": "code",
      "execution_count": 89,
      "metadata": {
        "id": "1JSSI6MNDLGu",
        "colab": {
          "base_uri": "https://localhost:8080/"
        },
        "outputId": "62982126-8e86-4e60-95a6-c2e959aeeaf4"
      },
      "outputs": [
        {
          "output_type": "execute_result",
          "data": {
            "text/plain": [
              "-18.513855729705195"
            ]
          },
          "metadata": {},
          "execution_count": 89
        }
      ],
      "source": [
        "mag_of_effect = ((crude_RiskRatio - RR_adjusted)/RR_adjusted)*100\n",
        "mag_of_effect"
      ]
    },
    {
      "cell_type": "markdown",
      "metadata": {
        "id": "lg3hBM7lDcbl"
      },
      "source": [
        "**Conclusion:**\n",
        "\n",
        "Age is a confounding variable with a negative confounding effect. This could therefore mean that the confounding variable, Age, is causing an underestimation of the true association of Smoking and TenYearCHD.\n",
        "\n",
        "Therefore, we can conclude that the variable Age is causing a confounding bias in the estimation of the relationship between smoking and risk of TenYearCHD\n",
        "\n",
        "reference:\n",
        "> https://www.ncbi.nlm.nih.gov/pmc/articles/PMC2597522/#:~:text=It%20refers%20to%20a%20situation,confounding%20variable%20or%20the%20confounder."
      ]
    },
    {
      "cell_type": "markdown",
      "metadata": {
        "id": "0OcXqcVm24s6"
      },
      "source": [
        "Check if Gender is a Confounding Variable for Smoking as Primary Exposure"
      ]
    },
    {
      "cell_type": "markdown",
      "metadata": {
        "id": "Svu13vL2243L"
      },
      "source": [
        "Association between Gender and TenYearCHD"
      ]
    },
    {
      "cell_type": "code",
      "execution_count": 90,
      "metadata": {
        "id": "t1WbJaTv248G",
        "colab": {
          "base_uri": "https://localhost:8080/",
          "height": 143
        },
        "outputId": "55c4d64f-fff7-4e19-bdbc-08c96b9c964c"
      },
      "outputs": [
        {
          "output_type": "execute_result",
          "data": {
            "text/plain": [
              "      TenYearCHD\n",
              "male            \n",
              "0            250\n",
              "1            307"
            ],
            "text/html": [
              "\n",
              "  <div id=\"df-037d7d41-9429-447c-b215-ff3727833b1f\">\n",
              "    <div class=\"colab-df-container\">\n",
              "      <div>\n",
              "<style scoped>\n",
              "    .dataframe tbody tr th:only-of-type {\n",
              "        vertical-align: middle;\n",
              "    }\n",
              "\n",
              "    .dataframe tbody tr th {\n",
              "        vertical-align: top;\n",
              "    }\n",
              "\n",
              "    .dataframe thead th {\n",
              "        text-align: right;\n",
              "    }\n",
              "</style>\n",
              "<table border=\"1\" class=\"dataframe\">\n",
              "  <thead>\n",
              "    <tr style=\"text-align: right;\">\n",
              "      <th></th>\n",
              "      <th>TenYearCHD</th>\n",
              "    </tr>\n",
              "    <tr>\n",
              "      <th>male</th>\n",
              "      <th></th>\n",
              "    </tr>\n",
              "  </thead>\n",
              "  <tbody>\n",
              "    <tr>\n",
              "      <th>0</th>\n",
              "      <td>250</td>\n",
              "    </tr>\n",
              "    <tr>\n",
              "      <th>1</th>\n",
              "      <td>307</td>\n",
              "    </tr>\n",
              "  </tbody>\n",
              "</table>\n",
              "</div>\n",
              "      <button class=\"colab-df-convert\" onclick=\"convertToInteractive('df-037d7d41-9429-447c-b215-ff3727833b1f')\"\n",
              "              title=\"Convert this dataframe to an interactive table.\"\n",
              "              style=\"display:none;\">\n",
              "        \n",
              "  <svg xmlns=\"http://www.w3.org/2000/svg\" height=\"24px\"viewBox=\"0 0 24 24\"\n",
              "       width=\"24px\">\n",
              "    <path d=\"M0 0h24v24H0V0z\" fill=\"none\"/>\n",
              "    <path d=\"M18.56 5.44l.94 2.06.94-2.06 2.06-.94-2.06-.94-.94-2.06-.94 2.06-2.06.94zm-11 1L8.5 8.5l.94-2.06 2.06-.94-2.06-.94L8.5 2.5l-.94 2.06-2.06.94zm10 10l.94 2.06.94-2.06 2.06-.94-2.06-.94-.94-2.06-.94 2.06-2.06.94z\"/><path d=\"M17.41 7.96l-1.37-1.37c-.4-.4-.92-.59-1.43-.59-.52 0-1.04.2-1.43.59L10.3 9.45l-7.72 7.72c-.78.78-.78 2.05 0 2.83L4 21.41c.39.39.9.59 1.41.59.51 0 1.02-.2 1.41-.59l7.78-7.78 2.81-2.81c.8-.78.8-2.07 0-2.86zM5.41 20L4 18.59l7.72-7.72 1.47 1.35L5.41 20z\"/>\n",
              "  </svg>\n",
              "      </button>\n",
              "      \n",
              "  <style>\n",
              "    .colab-df-container {\n",
              "      display:flex;\n",
              "      flex-wrap:wrap;\n",
              "      gap: 12px;\n",
              "    }\n",
              "\n",
              "    .colab-df-convert {\n",
              "      background-color: #E8F0FE;\n",
              "      border: none;\n",
              "      border-radius: 50%;\n",
              "      cursor: pointer;\n",
              "      display: none;\n",
              "      fill: #1967D2;\n",
              "      height: 32px;\n",
              "      padding: 0 0 0 0;\n",
              "      width: 32px;\n",
              "    }\n",
              "\n",
              "    .colab-df-convert:hover {\n",
              "      background-color: #E2EBFA;\n",
              "      box-shadow: 0px 1px 2px rgba(60, 64, 67, 0.3), 0px 1px 3px 1px rgba(60, 64, 67, 0.15);\n",
              "      fill: #174EA6;\n",
              "    }\n",
              "\n",
              "    [theme=dark] .colab-df-convert {\n",
              "      background-color: #3B4455;\n",
              "      fill: #D2E3FC;\n",
              "    }\n",
              "\n",
              "    [theme=dark] .colab-df-convert:hover {\n",
              "      background-color: #434B5C;\n",
              "      box-shadow: 0px 1px 3px 1px rgba(0, 0, 0, 0.15);\n",
              "      filter: drop-shadow(0px 1px 2px rgba(0, 0, 0, 0.3));\n",
              "      fill: #FFFFFF;\n",
              "    }\n",
              "  </style>\n",
              "\n",
              "      <script>\n",
              "        const buttonEl =\n",
              "          document.querySelector('#df-037d7d41-9429-447c-b215-ff3727833b1f button.colab-df-convert');\n",
              "        buttonEl.style.display =\n",
              "          google.colab.kernel.accessAllowed ? 'block' : 'none';\n",
              "\n",
              "        async function convertToInteractive(key) {\n",
              "          const element = document.querySelector('#df-037d7d41-9429-447c-b215-ff3727833b1f');\n",
              "          const dataTable =\n",
              "            await google.colab.kernel.invokeFunction('convertToInteractive',\n",
              "                                                     [key], {});\n",
              "          if (!dataTable) return;\n",
              "\n",
              "          const docLinkHtml = 'Like what you see? Visit the ' +\n",
              "            '<a target=\"_blank\" href=https://colab.research.google.com/notebooks/data_table.ipynb>data table notebook</a>'\n",
              "            + ' to learn more about interactive tables.';\n",
              "          element.innerHTML = '';\n",
              "          dataTable['output_type'] = 'display_data';\n",
              "          await google.colab.output.renderOutput(dataTable, element);\n",
              "          const docLink = document.createElement('div');\n",
              "          docLink.innerHTML = docLinkHtml;\n",
              "          element.appendChild(docLink);\n",
              "        }\n",
              "      </script>\n",
              "    </div>\n",
              "  </div>\n",
              "  "
            ]
          },
          "metadata": {},
          "execution_count": 90
        }
      ],
      "source": [
        "gen_tenchd = heart.groupby(\"male\").agg({\"TenYearCHD\": \"sum\"})\n",
        "gen_tenchd"
      ]
    },
    {
      "cell_type": "markdown",
      "metadata": {
        "id": "AfzqxBJx25EM"
      },
      "source": [
        "**Observation:** \n",
        "* There are more males with risk of TenYearCHD than females"
      ]
    },
    {
      "cell_type": "markdown",
      "metadata": {
        "id": "IR4KfffY5BWN"
      },
      "source": [
        "Association between Gender and Smoking"
      ]
    },
    {
      "cell_type": "code",
      "execution_count": 91,
      "metadata": {
        "id": "YWJ8nevQ5Bay",
        "outputId": "8b1b5d22-db62-4c92-cb20-afea03ddf310",
        "colab": {
          "base_uri": "https://localhost:8080/",
          "height": 143
        }
      },
      "outputs": [
        {
          "output_type": "execute_result",
          "data": {
            "text/plain": [
              "      currentSmoker\n",
              "male               \n",
              "0               807\n",
              "1               981"
            ],
            "text/html": [
              "\n",
              "  <div id=\"df-4cdaca10-572f-4f42-82a9-f3779452c540\">\n",
              "    <div class=\"colab-df-container\">\n",
              "      <div>\n",
              "<style scoped>\n",
              "    .dataframe tbody tr th:only-of-type {\n",
              "        vertical-align: middle;\n",
              "    }\n",
              "\n",
              "    .dataframe tbody tr th {\n",
              "        vertical-align: top;\n",
              "    }\n",
              "\n",
              "    .dataframe thead th {\n",
              "        text-align: right;\n",
              "    }\n",
              "</style>\n",
              "<table border=\"1\" class=\"dataframe\">\n",
              "  <thead>\n",
              "    <tr style=\"text-align: right;\">\n",
              "      <th></th>\n",
              "      <th>currentSmoker</th>\n",
              "    </tr>\n",
              "    <tr>\n",
              "      <th>male</th>\n",
              "      <th></th>\n",
              "    </tr>\n",
              "  </thead>\n",
              "  <tbody>\n",
              "    <tr>\n",
              "      <th>0</th>\n",
              "      <td>807</td>\n",
              "    </tr>\n",
              "    <tr>\n",
              "      <th>1</th>\n",
              "      <td>981</td>\n",
              "    </tr>\n",
              "  </tbody>\n",
              "</table>\n",
              "</div>\n",
              "      <button class=\"colab-df-convert\" onclick=\"convertToInteractive('df-4cdaca10-572f-4f42-82a9-f3779452c540')\"\n",
              "              title=\"Convert this dataframe to an interactive table.\"\n",
              "              style=\"display:none;\">\n",
              "        \n",
              "  <svg xmlns=\"http://www.w3.org/2000/svg\" height=\"24px\"viewBox=\"0 0 24 24\"\n",
              "       width=\"24px\">\n",
              "    <path d=\"M0 0h24v24H0V0z\" fill=\"none\"/>\n",
              "    <path d=\"M18.56 5.44l.94 2.06.94-2.06 2.06-.94-2.06-.94-.94-2.06-.94 2.06-2.06.94zm-11 1L8.5 8.5l.94-2.06 2.06-.94-2.06-.94L8.5 2.5l-.94 2.06-2.06.94zm10 10l.94 2.06.94-2.06 2.06-.94-2.06-.94-.94-2.06-.94 2.06-2.06.94z\"/><path d=\"M17.41 7.96l-1.37-1.37c-.4-.4-.92-.59-1.43-.59-.52 0-1.04.2-1.43.59L10.3 9.45l-7.72 7.72c-.78.78-.78 2.05 0 2.83L4 21.41c.39.39.9.59 1.41.59.51 0 1.02-.2 1.41-.59l7.78-7.78 2.81-2.81c.8-.78.8-2.07 0-2.86zM5.41 20L4 18.59l7.72-7.72 1.47 1.35L5.41 20z\"/>\n",
              "  </svg>\n",
              "      </button>\n",
              "      \n",
              "  <style>\n",
              "    .colab-df-container {\n",
              "      display:flex;\n",
              "      flex-wrap:wrap;\n",
              "      gap: 12px;\n",
              "    }\n",
              "\n",
              "    .colab-df-convert {\n",
              "      background-color: #E8F0FE;\n",
              "      border: none;\n",
              "      border-radius: 50%;\n",
              "      cursor: pointer;\n",
              "      display: none;\n",
              "      fill: #1967D2;\n",
              "      height: 32px;\n",
              "      padding: 0 0 0 0;\n",
              "      width: 32px;\n",
              "    }\n",
              "\n",
              "    .colab-df-convert:hover {\n",
              "      background-color: #E2EBFA;\n",
              "      box-shadow: 0px 1px 2px rgba(60, 64, 67, 0.3), 0px 1px 3px 1px rgba(60, 64, 67, 0.15);\n",
              "      fill: #174EA6;\n",
              "    }\n",
              "\n",
              "    [theme=dark] .colab-df-convert {\n",
              "      background-color: #3B4455;\n",
              "      fill: #D2E3FC;\n",
              "    }\n",
              "\n",
              "    [theme=dark] .colab-df-convert:hover {\n",
              "      background-color: #434B5C;\n",
              "      box-shadow: 0px 1px 3px 1px rgba(0, 0, 0, 0.15);\n",
              "      filter: drop-shadow(0px 1px 2px rgba(0, 0, 0, 0.3));\n",
              "      fill: #FFFFFF;\n",
              "    }\n",
              "  </style>\n",
              "\n",
              "      <script>\n",
              "        const buttonEl =\n",
              "          document.querySelector('#df-4cdaca10-572f-4f42-82a9-f3779452c540 button.colab-df-convert');\n",
              "        buttonEl.style.display =\n",
              "          google.colab.kernel.accessAllowed ? 'block' : 'none';\n",
              "\n",
              "        async function convertToInteractive(key) {\n",
              "          const element = document.querySelector('#df-4cdaca10-572f-4f42-82a9-f3779452c540');\n",
              "          const dataTable =\n",
              "            await google.colab.kernel.invokeFunction('convertToInteractive',\n",
              "                                                     [key], {});\n",
              "          if (!dataTable) return;\n",
              "\n",
              "          const docLinkHtml = 'Like what you see? Visit the ' +\n",
              "            '<a target=\"_blank\" href=https://colab.research.google.com/notebooks/data_table.ipynb>data table notebook</a>'\n",
              "            + ' to learn more about interactive tables.';\n",
              "          element.innerHTML = '';\n",
              "          dataTable['output_type'] = 'display_data';\n",
              "          await google.colab.output.renderOutput(dataTable, element);\n",
              "          const docLink = document.createElement('div');\n",
              "          docLink.innerHTML = docLinkHtml;\n",
              "          element.appendChild(docLink);\n",
              "        }\n",
              "      </script>\n",
              "    </div>\n",
              "  </div>\n",
              "  "
            ]
          },
          "metadata": {},
          "execution_count": 91
        }
      ],
      "source": [
        "group_by_genderSmoker = heart.groupby(\"male\").agg({\"currentSmoker\": \"sum\"})\n",
        "group_by_genderSmoker"
      ]
    },
    {
      "cell_type": "markdown",
      "metadata": {
        "id": "DJVswDY-5BwP"
      },
      "source": [
        "**Observation**\n",
        "\n",
        "* There are more male smokers than female smokers"
      ]
    },
    {
      "cell_type": "markdown",
      "metadata": {
        "id": "8KTb6kqD5B5w"
      },
      "source": [
        "Distribution of Gender in the dataset"
      ]
    },
    {
      "cell_type": "code",
      "execution_count": 94,
      "metadata": {
        "id": "1b7o6BIk67bQ",
        "colab": {
          "base_uri": "https://localhost:8080/",
          "height": 394
        },
        "outputId": "7e6fd6d4-e9e6-40bd-c041-69a5b01e5c6b"
      },
      "outputs": [
        {
          "output_type": "display_data",
          "data": {
            "text/plain": [
              "<Figure size 720x432 with 1 Axes>"
            ],
            "image/png": "[encoded data removed]"
          },
          "metadata": {
            "needs_background": "light"
          }
        }
      ],
      "source": [
        "#heart[\"male\"].hist(bins=3, color = '#30D5C8', title = 'Gender Distribution')\n",
        "plt.figure(figsize=(10, 6))\n",
        "ax= heart['male'].plot(kind='hist',sharex=True,sharey=True,title='Gender Distribution', bins = 3, color = '#30D5C8' )\n",
        "\n",
        "for p in ax.patches:\n",
        "    width = p.get_width()\n",
        "    height = p.get_height()\n",
        "    x, y = p.get_xy() \n",
        "    ax.annotate(f'{height}', (x + width/2, y + height*1.02), ha='center')\n",
        "\n",
        "ax.xaxis.set_tick_params(labelsize=14)\n",
        "ax.yaxis.set_tick_params(labelsize=14)\n",
        "\n",
        "\n",
        "\n",
        "plt.show() \n"
      ]
    },
    {
      "cell_type": "markdown",
      "metadata": {
        "id": "LMxKE9Oh67f2"
      },
      "source": [
        "**Observation:**\n",
        "\n",
        "* Gender (variable name = male) is unequally distributed between both groups.\n",
        "\n",
        "**Condition 2 holds true**"
      ]
    },
    {
      "cell_type": "code",
      "execution_count": 95,
      "metadata": {
        "id": "EsdwRNJK7lye",
        "colab": {
          "base_uri": "https://localhost:8080/",
          "height": 112
        },
        "outputId": "96f1befd-04bb-432f-83a6-7a234fe1a403"
      },
      "outputs": [
        {
          "output_type": "execute_result",
          "data": {
            "text/plain": [
              "currentSmoker    0        1     \n",
              "male             0    1   0    1\n",
              "TenYearCHD     162  110  88  197"
            ],
            "text/html": [
              "\n",
              "  <div id=\"df-5d54211d-3258-41b3-9274-d553b6852ab5\">\n",
              "    <div class=\"colab-df-container\">\n",
              "      <div>\n",
              "<style scoped>\n",
              "    .dataframe tbody tr th:only-of-type {\n",
              "        vertical-align: middle;\n",
              "    }\n",
              "\n",
              "    .dataframe tbody tr th {\n",
              "        vertical-align: top;\n",
              "    }\n",
              "\n",
              "    .dataframe thead tr th {\n",
              "        text-align: left;\n",
              "    }\n",
              "</style>\n",
              "<table border=\"1\" class=\"dataframe\">\n",
              "  <thead>\n",
              "    <tr>\n",
              "      <th>currentSmoker</th>\n",
              "      <th colspan=\"2\" halign=\"left\">0</th>\n",
              "      <th colspan=\"2\" halign=\"left\">1</th>\n",
              "    </tr>\n",
              "    <tr>\n",
              "      <th>male</th>\n",
              "      <th>0</th>\n",
              "      <th>1</th>\n",
              "      <th>0</th>\n",
              "      <th>1</th>\n",
              "    </tr>\n",
              "  </thead>\n",
              "  <tbody>\n",
              "    <tr>\n",
              "      <th>TenYearCHD</th>\n",
              "      <td>162</td>\n",
              "      <td>110</td>\n",
              "      <td>88</td>\n",
              "      <td>197</td>\n",
              "    </tr>\n",
              "  </tbody>\n",
              "</table>\n",
              "</div>\n",
              "      <button class=\"colab-df-convert\" onclick=\"convertToInteractive('df-5d54211d-3258-41b3-9274-d553b6852ab5')\"\n",
              "              title=\"Convert this dataframe to an interactive table.\"\n",
              "              style=\"display:none;\">\n",
              "        \n",
              "  <svg xmlns=\"http://www.w3.org/2000/svg\" height=\"24px\"viewBox=\"0 0 24 24\"\n",
              "       width=\"24px\">\n",
              "    <path d=\"M0 0h24v24H0V0z\" fill=\"none\"/>\n",
              "    <path d=\"M18.56 5.44l.94 2.06.94-2.06 2.06-.94-2.06-.94-.94-2.06-.94 2.06-2.06.94zm-11 1L8.5 8.5l.94-2.06 2.06-.94-2.06-.94L8.5 2.5l-.94 2.06-2.06.94zm10 10l.94 2.06.94-2.06 2.06-.94-2.06-.94-.94-2.06-.94 2.06-2.06.94z\"/><path d=\"M17.41 7.96l-1.37-1.37c-.4-.4-.92-.59-1.43-.59-.52 0-1.04.2-1.43.59L10.3 9.45l-7.72 7.72c-.78.78-.78 2.05 0 2.83L4 21.41c.39.39.9.59 1.41.59.51 0 1.02-.2 1.41-.59l7.78-7.78 2.81-2.81c.8-.78.8-2.07 0-2.86zM5.41 20L4 18.59l7.72-7.72 1.47 1.35L5.41 20z\"/>\n",
              "  </svg>\n",
              "      </button>\n",
              "      \n",
              "  <style>\n",
              "    .colab-df-container {\n",
              "      display:flex;\n",
              "      flex-wrap:wrap;\n",
              "      gap: 12px;\n",
              "    }\n",
              "\n",
              "    .colab-df-convert {\n",
              "      background-color: #E8F0FE;\n",
              "      border: none;\n",
              "      border-radius: 50%;\n",
              "      cursor: pointer;\n",
              "      display: none;\n",
              "      fill: #1967D2;\n",
              "      height: 32px;\n",
              "      padding: 0 0 0 0;\n",
              "      width: 32px;\n",
              "    }\n",
              "\n",
              "    .colab-df-convert:hover {\n",
              "      background-color: #E2EBFA;\n",
              "      box-shadow: 0px 1px 2px rgba(60, 64, 67, 0.3), 0px 1px 3px 1px rgba(60, 64, 67, 0.15);\n",
              "      fill: #174EA6;\n",
              "    }\n",
              "\n",
              "    [theme=dark] .colab-df-convert {\n",
              "      background-color: #3B4455;\n",
              "      fill: #D2E3FC;\n",
              "    }\n",
              "\n",
              "    [theme=dark] .colab-df-convert:hover {\n",
              "      background-color: #434B5C;\n",
              "      box-shadow: 0px 1px 3px 1px rgba(0, 0, 0, 0.15);\n",
              "      filter: drop-shadow(0px 1px 2px rgba(0, 0, 0, 0.3));\n",
              "      fill: #FFFFFF;\n",
              "    }\n",
              "  </style>\n",
              "\n",
              "      <script>\n",
              "        const buttonEl =\n",
              "          document.querySelector('#df-5d54211d-3258-41b3-9274-d553b6852ab5 button.colab-df-convert');\n",
              "        buttonEl.style.display =\n",
              "          google.colab.kernel.accessAllowed ? 'block' : 'none';\n",
              "\n",
              "        async function convertToInteractive(key) {\n",
              "          const element = document.querySelector('#df-5d54211d-3258-41b3-9274-d553b6852ab5');\n",
              "          const dataTable =\n",
              "            await google.colab.kernel.invokeFunction('convertToInteractive',\n",
              "                                                     [key], {});\n",
              "          if (!dataTable) return;\n",
              "\n",
              "          const docLinkHtml = 'Like what you see? Visit the ' +\n",
              "            '<a target=\"_blank\" href=https://colab.research.google.com/notebooks/data_table.ipynb>data table notebook</a>'\n",
              "            + ' to learn more about interactive tables.';\n",
              "          element.innerHTML = '';\n",
              "          dataTable['output_type'] = 'display_data';\n",
              "          await google.colab.output.renderOutput(dataTable, element);\n",
              "          const docLink = document.createElement('div');\n",
              "          docLink.innerHTML = docLinkHtml;\n",
              "          element.appendChild(docLink);\n",
              "        }\n",
              "      </script>\n",
              "    </div>\n",
              "  </div>\n",
              "  "
            ]
          },
          "metadata": {},
          "execution_count": 95
        }
      ],
      "source": [
        "grp_by_gencon3 = heart.groupby([\"currentSmoker\", \"male\"]).agg({\"TenYearCHD\": \"sum\"})\n",
        "grp_by_gencon3.transpose()"
      ]
    },
    {
      "cell_type": "markdown",
      "metadata": {
        "id": "eu37Y-q367pV"
      },
      "source": [
        "**Observation**\n",
        "\n",
        "1. So far we know that the risk of TenYearCHD is higher in Males than in Females\n",
        "2. We also know that there are more male smokers than female smoker.\n",
        "\n",
        "**But can we say the risk of TenYearCHD is higher in males than in females because there are more males that smoke than females?**\n",
        "\n",
        "* From the table above, we see that in grouping the data into exposed and unexposed, the number of males that smoke and have the risk of TenYearCHD is more than twice the number for females who smoke and have the TenYearCHD.\n",
        "\n",
        "* In comparison to the unexposed group who do not smoke, the number of females with the risk of TenYearCHD is more than the males.\n",
        "\n",
        "**Does this therefore mean that, in a group of people that don't smoke, Females have a higher risk of TenYearCHD than males and in the group of people who smoke, Males have a higher risk of TenYearCHD than Males?**"
      ]
    },
    {
      "cell_type": "markdown",
      "metadata": {
        "id": "BQNl3C7-Bv5F"
      },
      "source": [
        "Measure of Association"
      ]
    },
    {
      "cell_type": "markdown",
      "metadata": {
        "id": "FCyhpPPeDnz8"
      },
      "source": [
        "Stratify the data by the confounder variable, Gender"
      ]
    },
    {
      "cell_type": "code",
      "execution_count": 96,
      "metadata": {
        "id": "dgaxuWGTDn73"
      },
      "outputs": [],
      "source": [
        "heart_male = heart[heart[\"male\"] == 1]\n",
        "heart_female = heart[heart[\"male\"] == 0]"
      ]
    },
    {
      "cell_type": "markdown",
      "metadata": {
        "id": "hjmqbu6ZEBF3"
      },
      "source": [
        "Male Strata"
      ]
    },
    {
      "cell_type": "code",
      "execution_count": 97,
      "metadata": {
        "id": "jAiUcpiTEBK_",
        "colab": {
          "base_uri": "https://localhost:8080/",
          "height": 143
        },
        "outputId": "855b9043-ee3c-4525-dfd6-9cc4f3cd8d3a"
      },
      "outputs": [
        {
          "output_type": "execute_result",
          "data": {
            "text/plain": [
              "           TenYearCHD_Male  NoTenYearCHD_Male  total_Male\n",
              "Smoker                 197                784         981\n",
              "NonSmoker              110                531         641\n",
              "Total                  307               1315        1622"
            ],
            "text/html": [
              "\n",
              "  <div id=\"df-4535ea29-155e-4809-ac83-2e45a3c713b6\">\n",
              "    <div class=\"colab-df-container\">\n",
              "      <div>\n",
              "<style scoped>\n",
              "    .dataframe tbody tr th:only-of-type {\n",
              "        vertical-align: middle;\n",
              "    }\n",
              "\n",
              "    .dataframe tbody tr th {\n",
              "        vertical-align: top;\n",
              "    }\n",
              "\n",
              "    .dataframe thead th {\n",
              "        text-align: right;\n",
              "    }\n",
              "</style>\n",
              "<table border=\"1\" class=\"dataframe\">\n",
              "  <thead>\n",
              "    <tr style=\"text-align: right;\">\n",
              "      <th></th>\n",
              "      <th>TenYearCHD_Male</th>\n",
              "      <th>NoTenYearCHD_Male</th>\n",
              "      <th>total_Male</th>\n",
              "    </tr>\n",
              "  </thead>\n",
              "  <tbody>\n",
              "    <tr>\n",
              "      <th>Smoker</th>\n",
              "      <td>197</td>\n",
              "      <td>784</td>\n",
              "      <td>981</td>\n",
              "    </tr>\n",
              "    <tr>\n",
              "      <th>NonSmoker</th>\n",
              "      <td>110</td>\n",
              "      <td>531</td>\n",
              "      <td>641</td>\n",
              "    </tr>\n",
              "    <tr>\n",
              "      <th>Total</th>\n",
              "      <td>307</td>\n",
              "      <td>1315</td>\n",
              "      <td>1622</td>\n",
              "    </tr>\n",
              "  </tbody>\n",
              "</table>\n",
              "</div>\n",
              "      <button class=\"colab-df-convert\" onclick=\"convertToInteractive('df-4535ea29-155e-4809-ac83-2e45a3c713b6')\"\n",
              "              title=\"Convert this dataframe to an interactive table.\"\n",
              "              style=\"display:none;\">\n",
              "        \n",
              "  <svg xmlns=\"http://www.w3.org/2000/svg\" height=\"24px\"viewBox=\"0 0 24 24\"\n",
              "       width=\"24px\">\n",
              "    <path d=\"M0 0h24v24H0V0z\" fill=\"none\"/>\n",
              "    <path d=\"M18.56 5.44l.94 2.06.94-2.06 2.06-.94-2.06-.94-.94-2.06-.94 2.06-2.06.94zm-11 1L8.5 8.5l.94-2.06 2.06-.94-2.06-.94L8.5 2.5l-.94 2.06-2.06.94zm10 10l.94 2.06.94-2.06 2.06-.94-2.06-.94-.94-2.06-.94 2.06-2.06.94z\"/><path d=\"M17.41 7.96l-1.37-1.37c-.4-.4-.92-.59-1.43-.59-.52 0-1.04.2-1.43.59L10.3 9.45l-7.72 7.72c-.78.78-.78 2.05 0 2.83L4 21.41c.39.39.9.59 1.41.59.51 0 1.02-.2 1.41-.59l7.78-7.78 2.81-2.81c.8-.78.8-2.07 0-2.86zM5.41 20L4 18.59l7.72-7.72 1.47 1.35L5.41 20z\"/>\n",
              "  </svg>\n",
              "      </button>\n",
              "      \n",
              "  <style>\n",
              "    .colab-df-container {\n",
              "      display:flex;\n",
              "      flex-wrap:wrap;\n",
              "      gap: 12px;\n",
              "    }\n",
              "\n",
              "    .colab-df-convert {\n",
              "      background-color: #E8F0FE;\n",
              "      border: none;\n",
              "      border-radius: 50%;\n",
              "      cursor: pointer;\n",
              "      display: none;\n",
              "      fill: #1967D2;\n",
              "      height: 32px;\n",
              "      padding: 0 0 0 0;\n",
              "      width: 32px;\n",
              "    }\n",
              "\n",
              "    .colab-df-convert:hover {\n",
              "      background-color: #E2EBFA;\n",
              "      box-shadow: 0px 1px 2px rgba(60, 64, 67, 0.3), 0px 1px 3px 1px rgba(60, 64, 67, 0.15);\n",
              "      fill: #174EA6;\n",
              "    }\n",
              "\n",
              "    [theme=dark] .colab-df-convert {\n",
              "      background-color: #3B4455;\n",
              "      fill: #D2E3FC;\n",
              "    }\n",
              "\n",
              "    [theme=dark] .colab-df-convert:hover {\n",
              "      background-color: #434B5C;\n",
              "      box-shadow: 0px 1px 3px 1px rgba(0, 0, 0, 0.15);\n",
              "      filter: drop-shadow(0px 1px 2px rgba(0, 0, 0, 0.3));\n",
              "      fill: #FFFFFF;\n",
              "    }\n",
              "  </style>\n",
              "\n",
              "      <script>\n",
              "        const buttonEl =\n",
              "          document.querySelector('#df-4535ea29-155e-4809-ac83-2e45a3c713b6 button.colab-df-convert');\n",
              "        buttonEl.style.display =\n",
              "          google.colab.kernel.accessAllowed ? 'block' : 'none';\n",
              "\n",
              "        async function convertToInteractive(key) {\n",
              "          const element = document.querySelector('#df-4535ea29-155e-4809-ac83-2e45a3c713b6');\n",
              "          const dataTable =\n",
              "            await google.colab.kernel.invokeFunction('convertToInteractive',\n",
              "                                                     [key], {});\n",
              "          if (!dataTable) return;\n",
              "\n",
              "          const docLinkHtml = 'Like what you see? Visit the ' +\n",
              "            '<a target=\"_blank\" href=https://colab.research.google.com/notebooks/data_table.ipynb>data table notebook</a>'\n",
              "            + ' to learn more about interactive tables.';\n",
              "          element.innerHTML = '';\n",
              "          dataTable['output_type'] = 'display_data';\n",
              "          await google.colab.output.renderOutput(dataTable, element);\n",
              "          const docLink = document.createElement('div');\n",
              "          docLink.innerHTML = docLinkHtml;\n",
              "          element.appendChild(docLink);\n",
              "        }\n",
              "      </script>\n",
              "    </div>\n",
              "  </div>\n",
              "  "
            ]
          },
          "metadata": {},
          "execution_count": 97
        }
      ],
      "source": [
        "a_m = len(heart_male[(heart_male[\"currentSmoker\"]==1)&(heart_male[\"TenYearCHD\"]==1)])\n",
        "b_m = len(heart_male[(heart_male[\"currentSmoker\"]==1) & (heart_male[\"TenYearCHD\"]==0)])\n",
        "c_m = len(heart_male[(heart_male[\"currentSmoker\"]==0) & (heart_male[\"TenYearCHD\"] == 1)])\n",
        "d_m = len(heart_male[(heart_male[\"currentSmoker\"]==0) & (heart_male[\"TenYearCHD\"] == 0)])\n",
        "\n",
        "tot_r1_m = a_m + b_m\n",
        "tot_r2_m = c_m + d_m\n",
        "tot_c1_m = a_m + c_m\n",
        "tot_c2_m = b_m + d_m\n",
        "tot_c3_m = tot_r1_m + tot_r2_m\n",
        "\n",
        "strat_male = pd.DataFrame([[a_m, b_m, tot_r1_m], [c_m, d_m, tot_r2_m], [tot_c1_m, tot_c2_m, tot_c3_m]], \n",
        "                              columns = [\"TenYearCHD_Male\", \"NoTenYearCHD_Male\", \"total_Male\"], \n",
        "                              index = [\"Smoker\", \"NonSmoker\", \"Total\"])\n",
        "strat_male"
      ]
    },
    {
      "cell_type": "code",
      "execution_count": 98,
      "metadata": {
        "id": "-e-D_OZDDn_i",
        "colab": {
          "base_uri": "https://localhost:8080/"
        },
        "outputId": "4742fff3-89bd-407c-bdc8-b6b662ff5e3c"
      },
      "outputs": [
        {
          "output_type": "execute_result",
          "data": {
            "text/plain": [
              "1.1702066536928923"
            ]
          },
          "metadata": {},
          "execution_count": 98
        }
      ],
      "source": [
        "RiskRatio_male = (strat_male[\"TenYearCHD_Male\"][\"Smoker\"]/ strat_male[\"total_Male\"][\"Smoker\"]) / (strat_male[\"TenYearCHD_Male\"][\"NonSmoker\"]/ strat_male[\"total_Male\"][\"NonSmoker\"])\n",
        "RiskRatio_male"
      ]
    },
    {
      "cell_type": "markdown",
      "metadata": {
        "id": "IXPcyJi7DoDk"
      },
      "source": [
        "RiskRatio in the Male Strata = 1.17\n",
        "\n",
        "For Males, people who smoke have a higher risk of 1.17 times the risk of TenYearCHD for people who don't smoke."
      ]
    },
    {
      "cell_type": "markdown",
      "metadata": {
        "id": "HKSbTuq9GLkA"
      },
      "source": [
        "Female Strata"
      ]
    },
    {
      "cell_type": "code",
      "execution_count": 99,
      "metadata": {
        "id": "rMi2a32XGLo4",
        "colab": {
          "base_uri": "https://localhost:8080/",
          "height": 143
        },
        "outputId": "aa6f6b74-93bb-487f-cf40-af1f5a4c1b60"
      },
      "outputs": [
        {
          "output_type": "execute_result",
          "data": {
            "text/plain": [
              "           TenYearCHD_Female  NoTenYearCHD_Female  total_Female\n",
              "Smoker                    88                  719           807\n",
              "NonSmoker                162                 1065          1227\n",
              "Total                    250                 1784          2034"
            ],
            "text/html": [
              "\n",
              "  <div id=\"df-c1750921-7a31-473f-9e3f-0b65a36c38ee\">\n",
              "    <div class=\"colab-df-container\">\n",
              "      <div>\n",
              "<style scoped>\n",
              "    .dataframe tbody tr th:only-of-type {\n",
              "        vertical-align: middle;\n",
              "    }\n",
              "\n",
              "    .dataframe tbody tr th {\n",
              "        vertical-align: top;\n",
              "    }\n",
              "\n",
              "    .dataframe thead th {\n",
              "        text-align: right;\n",
              "    }\n",
              "</style>\n",
              "<table border=\"1\" class=\"dataframe\">\n",
              "  <thead>\n",
              "    <tr style=\"text-align: right;\">\n",
              "      <th></th>\n",
              "      <th>TenYearCHD_Female</th>\n",
              "      <th>NoTenYearCHD_Female</th>\n",
              "      <th>total_Female</th>\n",
              "    </tr>\n",
              "  </thead>\n",
              "  <tbody>\n",
              "    <tr>\n",
              "      <th>Smoker</th>\n",
              "      <td>88</td>\n",
              "      <td>719</td>\n",
              "      <td>807</td>\n",
              "    </tr>\n",
              "    <tr>\n",
              "      <th>NonSmoker</th>\n",
              "      <td>162</td>\n",
              "      <td>1065</td>\n",
              "      <td>1227</td>\n",
              "    </tr>\n",
              "    <tr>\n",
              "      <th>Total</th>\n",
              "      <td>250</td>\n",
              "      <td>1784</td>\n",
              "      <td>2034</td>\n",
              "    </tr>\n",
              "  </tbody>\n",
              "</table>\n",
              "</div>\n",
              "      <button class=\"colab-df-convert\" onclick=\"convertToInteractive('df-c1750921-7a31-473f-9e3f-0b65a36c38ee')\"\n",
              "              title=\"Convert this dataframe to an interactive table.\"\n",
              "              style=\"display:none;\">\n",
              "        \n",
              "  <svg xmlns=\"http://www.w3.org/2000/svg\" height=\"24px\"viewBox=\"0 0 24 24\"\n",
              "       width=\"24px\">\n",
              "    <path d=\"M0 0h24v24H0V0z\" fill=\"none\"/>\n",
              "    <path d=\"M18.56 5.44l.94 2.06.94-2.06 2.06-.94-2.06-.94-.94-2.06-.94 2.06-2.06.94zm-11 1L8.5 8.5l.94-2.06 2.06-.94-2.06-.94L8.5 2.5l-.94 2.06-2.06.94zm10 10l.94 2.06.94-2.06 2.06-.94-2.06-.94-.94-2.06-.94 2.06-2.06.94z\"/><path d=\"M17.41 7.96l-1.37-1.37c-.4-.4-.92-.59-1.43-.59-.52 0-1.04.2-1.43.59L10.3 9.45l-7.72 7.72c-.78.78-.78 2.05 0 2.83L4 21.41c.39.39.9.59 1.41.59.51 0 1.02-.2 1.41-.59l7.78-7.78 2.81-2.81c.8-.78.8-2.07 0-2.86zM5.41 20L4 18.59l7.72-7.72 1.47 1.35L5.41 20z\"/>\n",
              "  </svg>\n",
              "      </button>\n",
              "      \n",
              "  <style>\n",
              "    .colab-df-container {\n",
              "      display:flex;\n",
              "      flex-wrap:wrap;\n",
              "      gap: 12px;\n",
              "    }\n",
              "\n",
              "    .colab-df-convert {\n",
              "      background-color: #E8F0FE;\n",
              "      border: none;\n",
              "      border-radius: 50%;\n",
              "      cursor: pointer;\n",
              "      display: none;\n",
              "      fill: #1967D2;\n",
              "      height: 32px;\n",
              "      padding: 0 0 0 0;\n",
              "      width: 32px;\n",
              "    }\n",
              "\n",
              "    .colab-df-convert:hover {\n",
              "      background-color: #E2EBFA;\n",
              "      box-shadow: 0px 1px 2px rgba(60, 64, 67, 0.3), 0px 1px 3px 1px rgba(60, 64, 67, 0.15);\n",
              "      fill: #174EA6;\n",
              "    }\n",
              "\n",
              "    [theme=dark] .colab-df-convert {\n",
              "      background-color: #3B4455;\n",
              "      fill: #D2E3FC;\n",
              "    }\n",
              "\n",
              "    [theme=dark] .colab-df-convert:hover {\n",
              "      background-color: #434B5C;\n",
              "      box-shadow: 0px 1px 3px 1px rgba(0, 0, 0, 0.15);\n",
              "      filter: drop-shadow(0px 1px 2px rgba(0, 0, 0, 0.3));\n",
              "      fill: #FFFFFF;\n",
              "    }\n",
              "  </style>\n",
              "\n",
              "      <script>\n",
              "        const buttonEl =\n",
              "          document.querySelector('#df-c1750921-7a31-473f-9e3f-0b65a36c38ee button.colab-df-convert');\n",
              "        buttonEl.style.display =\n",
              "          google.colab.kernel.accessAllowed ? 'block' : 'none';\n",
              "\n",
              "        async function convertToInteractive(key) {\n",
              "          const element = document.querySelector('#df-c1750921-7a31-473f-9e3f-0b65a36c38ee');\n",
              "          const dataTable =\n",
              "            await google.colab.kernel.invokeFunction('convertToInteractive',\n",
              "                                                     [key], {});\n",
              "          if (!dataTable) return;\n",
              "\n",
              "          const docLinkHtml = 'Like what you see? Visit the ' +\n",
              "            '<a target=\"_blank\" href=https://colab.research.google.com/notebooks/data_table.ipynb>data table notebook</a>'\n",
              "            + ' to learn more about interactive tables.';\n",
              "          element.innerHTML = '';\n",
              "          dataTable['output_type'] = 'display_data';\n",
              "          await google.colab.output.renderOutput(dataTable, element);\n",
              "          const docLink = document.createElement('div');\n",
              "          docLink.innerHTML = docLinkHtml;\n",
              "          element.appendChild(docLink);\n",
              "        }\n",
              "      </script>\n",
              "    </div>\n",
              "  </div>\n",
              "  "
            ]
          },
          "metadata": {},
          "execution_count": 99
        }
      ],
      "source": [
        "a_f = len(heart_female[(heart_female[\"currentSmoker\"]==1)&(heart_female[\"TenYearCHD\"]==1)])\n",
        "b_f = len(heart_female[(heart_female[\"currentSmoker\"]==1) & (heart_female[\"TenYearCHD\"]==0)])\n",
        "c_f = len(heart_female[(heart_female[\"currentSmoker\"]==0) & (heart_female[\"TenYearCHD\"] == 1)])\n",
        "d_f = len(heart_female[(heart_female[\"currentSmoker\"]==0) & (heart_female[\"TenYearCHD\"] == 0)])\n",
        "\n",
        "tot_r1_f = a_f + b_f\n",
        "tot_r2_f = c_f + d_f\n",
        "tot_c1_f = a_f + c_f\n",
        "tot_c2_f = b_f + d_f\n",
        "tot_c3_f = tot_r1_f + tot_r2_f\n",
        "\n",
        "strat_female = pd.DataFrame([[a_f, b_f, tot_r1_f], [c_f, d_f, tot_r2_f], [tot_c1_f, tot_c2_f, tot_c3_f]], \n",
        "                              columns = [\"TenYearCHD_Female\", \"NoTenYearCHD_Female\", \"total_Female\"], \n",
        "                              index = [\"Smoker\", \"NonSmoker\", \"Total\"])\n",
        "strat_female"
      ]
    },
    {
      "cell_type": "code",
      "execution_count": 100,
      "metadata": {
        "id": "aJeZ8bVhGLzf",
        "colab": {
          "base_uri": "https://localhost:8080/"
        },
        "outputId": "b82d6e46-ef7c-4c46-d6b4-01e5fa8b3000"
      },
      "outputs": [
        {
          "output_type": "execute_result",
          "data": {
            "text/plain": [
              "0.8259213364541741"
            ]
          },
          "metadata": {},
          "execution_count": 100
        }
      ],
      "source": [
        "RiskRatio_female = (strat_female[\"TenYearCHD_Female\"][\"Smoker\"]/ strat_female[\"total_Female\"][\"Smoker\"]) / (strat_female[\"TenYearCHD_Female\"][\"NonSmoker\"]/ strat_female[\"total_Female\"][\"NonSmoker\"])\n",
        "RiskRatio_female"
      ]
    },
    {
      "cell_type": "markdown",
      "metadata": {
        "id": "LSuDDMO4GL3U"
      },
      "source": [
        "RiskRatio in the Male Strata = 1.17\n",
        "\n",
        "For Females, people who smoke have a lesser risk of 0.83 times the risk of TenYearCHD for people who don't smoke.\n",
        "\n",
        "*this is so interesting*"
      ]
    },
    {
      "cell_type": "markdown",
      "metadata": {
        "id": "n39J1JbOHd_L"
      },
      "source": [
        "Mantel-Haenszel Estimate"
      ]
    },
    {
      "cell_type": "code",
      "execution_count": 101,
      "metadata": {
        "id": "a2YLogg_GL8p",
        "colab": {
          "base_uri": "https://localhost:8080/"
        },
        "outputId": "892088ad-94f8-46fd-eb7a-d408352a6999"
      },
      "outputs": [
        {
          "output_type": "execute_result",
          "data": {
            "text/plain": [
              "1.0010311964776675"
            ]
          },
          "metadata": {},
          "execution_count": 101
        }
      ],
      "source": [
        "RRnum1_g = (strat_male[\"TenYearCHD_Male\"][\"Smoker\"] *(strat_male[\"TenYearCHD_Male\"][\"NonSmoker\"]+ strat_male[\"NoTenYearCHD_Male\"][\"NonSmoker\"]))/(strat_male[\"total_Male\"][\"Total\"])\n",
        "RRnum2_g = (strat_female[\"TenYearCHD_Female\"][\"Smoker\"] *(strat_female[\"TenYearCHD_Female\"][\"NonSmoker\"]+ strat_female[\"NoTenYearCHD_Female\"][\"NonSmoker\"]))/(strat_female[\"total_Female\"][\"Total\"])\n",
        "RRdenom1_g = (strat_male[\"TenYearCHD_Male\"][\"NonSmoker\"] *(strat_male[\"TenYearCHD_Male\"][\"Smoker\"] + strat_male[\"NoTenYearCHD_Male\"][\"Smoker\"]))/(strat_male[\"total_Male\"][\"Total\"])\n",
        "RRdenom2_g = (strat_female[\"TenYearCHD_Female\"][\"NonSmoker\"] *(strat_female[\"TenYearCHD_Female\"][\"Smoker\"] + strat_female[\"NoTenYearCHD_Female\"][\"Smoker\"]))/(strat_female[\"total_Female\"][\"Total\"])\n",
        "\n",
        "RR_adjusted_g = (RRnum1_g+RRnum2_g)/(RRdenom1_g+RRdenom2_g)\n",
        "RR_adjusted_g"
      ]
    },
    {
      "cell_type": "code",
      "execution_count": 102,
      "metadata": {
        "id": "FcVT0foLGMCi",
        "colab": {
          "base_uri": "https://localhost:8080/"
        },
        "outputId": "848cfd26-6c9e-49ad-c1dc-c386609997d6"
      },
      "outputs": [
        {
          "output_type": "execute_result",
          "data": {
            "text/plain": [
              "9.354762376408422"
            ]
          },
          "metadata": {},
          "execution_count": 102
        }
      ],
      "source": [
        "mag_of_effect_g = ((crude_RiskRatio - RR_adjusted_g)/RR_adjusted_g)*100\n",
        "mag_of_effect_g"
      ]
    },
    {
      "cell_type": "markdown",
      "metadata": {
        "id": "WN2z1P45JJ6z"
      },
      "source": [
        "**Conclusion**\n",
        "\n",
        "When the data is stratified by gender, the magnitude of confounding is less than 10%. That is the percentage difference between the crude Risk Ratio and the adjusted Risk Ratio is less than 10%.\n",
        "\n",
        "Due to this, we can say that there is confounding bias caused by gender, if any confounding exists.\n",
        "\n",
        "Reference:\n",
        "https://sphweb.bumc.bu.edu/otlt/MPH-Modules/PH717-QuantCore/PH717-Module11-Confounding-EMM/PH717-Module11-Confounding-EMM5.html#:~:text=If%20the%20%25%20difference%20is%2010,little%2C%20if%20any%2C%20confounding."
      ]
    },
    {
      "cell_type": "markdown",
      "metadata": {
        "id": "6ajL_YL7NCHT"
      },
      "source": [
        "**Summary**\n",
        "\n",
        "When we consider Smoking as the Primary Exposure for the Risk of TenYearCHD, \n",
        "\n",
        "Taking the Raw Data, \n",
        "> We see that people who smoke have a higher risk of Coronary Heart Disease than People who don't smoke\n",
        "\n",
        "1. However, when we stratify this data by age,\n",
        "\n",
        "* In people who are below the age of 50 years, the risk of TenYearCHD between smokers and nonSmokers is even higher at a value of 1.75. This tells us that in the younger people below the age of 50, the risk of TenYearCHD in Smokers is almost twice the risk of TenYearCHD in NonSmokers.\n",
        "\n",
        "* In people who are above the age of 50 years, the risk of TenYearCHD in Smokers is still higher than the risk of TenYearCHD in NonSmokers but not as much, when compared to people who are below the age of 50.\n",
        "\n",
        "* The Strata-Specific Risk Ratio for both groups are higher than the Crude Risk Ratio and the Magnitude of Confounding when the data is stratified by Age is greater than 10%, but in a negative direction. This means that, in the estimation of the association between Smoking and risk of TenYearCHD, there is an underestimation of this relationship caused by age\n",
        "\n",
        "2. When we stratify the data by gender,\n",
        "* We see that in Males, People who smoke have a higher risk of TenYearCHD compared to People who don't smoke.\n",
        "\n",
        "* In contrast to this, in Females, Poeple who smoke have a lesser risk of TenYearCHD compared to People who don't smoke.\n",
        "\n",
        "* Although the Strata-Specific Risk Ratios for Males and Females are higher than the Crude Risk Ratio, the magnitude of confounding when the data is stratified by Gender is less than 10%. This, therefore, means that if bias exists in the association between Smoking and the risk of TenYearCHD, the confounding effect caused by gender is little! \n",
        "\n",
        "So we can say that the reason for the low F_score in our prediction is as a result of the presence of Confounders in our variables which cause a false relationship between our Features and TenYearCHD.\n",
        "\n",
        "In order to resolve this, we will need to analyze further and consider the association between each Exposure and TenYearCHD risk and then adjust for confounders to be able to get the true estimation of the TenYearCHD given the exposures (or causes) per individual "
      ]
    }
  ],
  "metadata": {
    "colab": {
      "provenance": []
    },
    "kernelspec": {
      "display_name": "Python 3",
      "name": "python3"
    },
    "language_info": {
      "name": "python"
    }
  },
  "nbformat": 4,
  "nbformat_minor": 0
}